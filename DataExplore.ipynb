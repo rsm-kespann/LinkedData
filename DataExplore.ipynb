{
 "cells": [
  {
   "cell_type": "code",
   "execution_count": 1,
   "id": "eed32c9c",
   "metadata": {},
   "outputs": [],
   "source": [
    "import pandas as pd\n",
    "import numpy as np"
   ]
  },
  {
   "cell_type": "code",
   "execution_count": 2,
   "id": "0e48d84c",
   "metadata": {},
   "outputs": [
    {
     "data": {
      "application/vnd.microsoft.datawrangler.viewer.v0+json": {
       "columns": [
        {
         "name": "index",
         "rawType": "int64",
         "type": "integer"
        },
        {
         "name": "Subject ID",
         "rawType": "object",
         "type": "string"
        },
        {
         "name": "Sample Type_#",
         "rawType": "object",
         "type": "string"
        },
        {
         "name": "CGA",
         "rawType": "float64",
         "type": "float"
        },
        {
         "name": "DOL ",
         "rawType": "float64",
         "type": "float"
        },
        {
         "name": "Current Weight",
         "rawType": "float64",
         "type": "float"
        },
        {
         "name": "Current Height",
         "rawType": "float64",
         "type": "float"
        },
        {
         "name": "Current HC",
         "rawType": "float64",
         "type": "float"
        },
        {
         "name": "Scavenged/Fresh?",
         "rawType": "object",
         "type": "string"
        },
        {
         "name": "MBM/DMB?",
         "rawType": "object",
         "type": "string"
        },
        {
         "name": "HMF Y/N?",
         "rawType": "object",
         "type": "unknown"
        },
        {
         "name": "TPN Y/N?",
         "rawType": "object",
         "type": "unknown"
        },
        {
         "name": "Iron Y/N? ",
         "rawType": "object",
         "type": "unknown"
        },
        {
         "name": "Iron Date & time",
         "rawType": "object",
         "type": "unknown"
        },
        {
         "name": "Duration\n(min)",
         "rawType": "object",
         "type": "unknown"
        },
        {
         "name": "Linked? ",
         "rawType": "object",
         "type": "string"
        },
        {
         "name": "feeding time ",
         "rawType": "object",
         "type": "unknown"
        },
        {
         "name": "Collection date/aliquot time for all samples ",
         "rawType": "object",
         "type": "unknown"
        },
        {
         "name": "# Aliquots ",
         "rawType": "object",
         "type": "unknown"
        },
        {
         "name": "Additional Comments",
         "rawType": "object",
         "type": "unknown"
        },
        {
         "name": "Milk Prep Room Expiration Date & Time ",
         "rawType": "object",
         "type": "unknown"
        }
       ],
       "ref": "0f147dfa-8293-45e3-b3af-871f6236f2d5",
       "rows": [
        [
         "0",
         "NB00237",
         "NB00237_M_10",
         "35.0",
         "74.0",
         "2440.0",
         "44.0",
         "29.0",
         "Scavenged",
         "MBM",
         "Y",
         "N",
         null,
         null,
         null,
         "Y",
         "Prepped \n4/22/2025 PM",
         "4/23/2025\nDOL 21 11:13",
         "11",
         "Residual from Milk Prep Room",
         null
        ],
        [
         "1",
         "NB00237",
         "NB00237_M_8",
         "34.5",
         "72.0",
         "2350.0",
         "43.5",
         "28.5",
         "Scavenged",
         "MBM",
         "Y",
         "N",
         null,
         null,
         null,
         "Y",
         "Prepped 4/20/25 PM",
         "2025-04-21 10:13:00",
         "6",
         "Residual from Milk Prep Room",
         null
        ],
        [
         "2",
         "NB00237",
         "NB00237_M_17",
         "36.6",
         "87.0",
         "3010.0",
         "46.1",
         "30.0",
         "Scavenged",
         "MBM",
         "Y",
         "N",
         "Y",
         "2025-05-06 20:57:00",
         "unknown",
         "Y",
         "2025-05-06 08:56:00",
         "2025-05-06 13:47:00",
         "2 (0.5)",
         "Scavenged Feeding Tube",
         "Unknown "
        ],
        [
         "3",
         "NB00237",
         "NB00237_M_19",
         "37.1",
         "89.0",
         "3110.0",
         "46.3",
         "30.5",
         "scavenged ",
         "MBM",
         "Y",
         "N",
         "Y",
         "2025-05-08 20:43:00",
         "45 min",
         "Y",
         "2025-05-08 12:03:00",
         "2025-05-08 14:07:00",
         "3(0.5)",
         "Scavenged Feeding Tube",
         "2025-05-08 16:49:00"
        ],
        [
         "4",
         "NB00237",
         "NB00237_M_20",
         "37.5",
         "93.0",
         "3380.0",
         "46.3",
         "30.5",
         "scavenged ",
         "MBM",
         "Y",
         "N",
         null,
         null,
         null,
         "Y",
         "Prepped 5/11/25 PM",
         "2025-05-12 10:58:00",
         "8",
         "Residual from Milk Prep Room",
         null
        ],
        [
         "5",
         "NB00237",
         "NB00237_M_21",
         "37.5",
         "93.0",
         "3380.0",
         "46.3",
         "30.5",
         "scavenged ",
         "MBM",
         "Y",
         "N",
         "Y",
         "2025-05-11 21:08:00",
         "30 min",
         "Y",
         "2025-05-12 09:01:00",
         "2025-05-12 10:58:00",
         "1",
         "Scavenged Feeding Tube",
         "2025-05-12 17:26:00"
        ],
        [
         "6",
         "NB00237",
         "NB00237_M_3",
         "33.1",
         "61.0",
         "1870.0",
         "43.0",
         "27.0",
         "Scavenged ",
         "MBM",
         "Y",
         "N",
         "Y",
         "4/10/2025\nDOL 61   20:47",
         "?",
         "Y",
         "4/10/2025\nDOL 61   8:52",
         "4/10/2025\nDOL 61 14: 06",
         "2 (0.2)",
         "Scavenged Feeding Tube",
         "2025-04-10 15:18:00"
        ],
        [
         "7",
         "NB00237",
         "NB00237_M_2",
         "33.1",
         "61.0",
         "1870.0",
         "43.0",
         "27.0",
         "Scavenged ",
         "MBM",
         "Y",
         "N",
         null,
         null,
         null,
         "Y",
         "Prepped 4/9/2025 PM",
         "4/10/2025\nDOL 74 13:15",
         "11",
         "Residual from Milk Prep Room",
         null
        ],
        [
         "8",
         "NB00237",
         "NB00237_M_4",
         "33.2",
         "62.0",
         "1910.0",
         "43.0",
         "27.0",
         "Scavenged ",
         "MBM",
         "Y",
         "N",
         null,
         null,
         null,
         "Y",
         "Prepped 4/10/2025 PM",
         "4/11/2025\nDOL 62 10:16",
         "6",
         "Residual from Milk Prep Room",
         null
        ],
        [
         "9",
         "NB00237",
         "NB00237_M_5",
         "33.2",
         "62.0",
         "1910.0",
         "43.0",
         "27.0",
         "Scavenged ",
         "MBM",
         "Y",
         "N",
         "Y",
         "4/11/2025\nDOL 62 20:59",
         "?",
         "Y",
         "4/11/2025\nDOL 62 9:35",
         "4/11/2025\nDOL 62 9:47",
         "1",
         "Scavenged Feeding Tube",
         "2025-04-11 15:20:00"
        ],
        [
         "10",
         "NB00237",
         "NB00237_M_6",
         "34.1",
         "68.0",
         "2110.0",
         "43.5",
         "28.5",
         "Scavenged",
         "MBM",
         "Y",
         "N",
         null,
         null,
         null,
         "Y",
         "Prepped 4/16/2025 PM",
         "4/17/2025 DOL 68 8:39",
         "4",
         "Residual from Milk Prep Room",
         null
        ],
        [
         "11",
         "NB00237",
         "NB00237_M_7",
         "34.1",
         "68.0",
         "2110.0",
         "43.5",
         "28.5",
         "Scavenged",
         "MBM",
         "Y",
         "N",
         "Y",
         "04/16/25 \nDOL 67 2146",
         "?",
         "Y",
         "4/17/25 DOL 68 11:50",
         "4/17/25 DOL 68 14:10",
         "1",
         "Scavenged Feeding Tube",
         "2025-04-17 16:04:00"
        ],
        [
         "12",
         "NB00237",
         "NB00237_M_9",
         "34.5",
         "72.0",
         "2350.0",
         "43.5",
         "28.5",
         "Scavenged",
         "MBM",
         "Y",
         "N",
         "Y",
         "4/20/2025\nDOL 72 21:09",
         "60",
         "Y",
         "4/21/25 DOL 72 08:45",
         "4/21/25 DOL 72 10:30",
         "2",
         "Scavenged Feeding Tube",
         "2025-04-21 16:50:00"
        ],
        [
         "13",
         "NB00237",
         "NB00237_M_11",
         "35.0",
         "74.0",
         "2440.0",
         "44.0",
         "29.0",
         "Scavenged",
         "MBM",
         "Y",
         "N",
         "Y",
         "4/23/2025\nDOL 74 20:48",
         "45",
         "Y",
         "4/23/2025\nDOL 74 9:05",
         "4/23/2025\nDOL 74 18:35",
         "1",
         "Scavenged Feeding Tube",
         "2025-04-22 15:51:00"
        ],
        [
         "14",
         "NB00237",
         "NB00237_M_13",
         "35.1",
         "75.0",
         "2500.0",
         "44.0",
         "29.0",
         "Scavenged",
         "MBM",
         "Y",
         "N",
         "Y",
         "4/24/2025\nDOL 75 21:02",
         "30",
         "Y",
         "4/24/2025\nDOL 75 8:58",
         "4/24/2025\nDOL 75 10:53",
         "1",
         "Scavenged Feeding Tube",
         "2025-04-24 15:57:00"
        ],
        [
         "15",
         "NB00237",
         "NB00237_M_12",
         "35.1",
         "75.0",
         "2500.0",
         "44.0",
         "29.0",
         "Scavenged",
         "MBM",
         "Y",
         "N",
         null,
         null,
         null,
         "Y",
         "Prepped \n4/23/2025 PM",
         "4/24/2025\nDOL 75 8:33",
         "5",
         "Residual from Milk Prep Room",
         null
        ],
        [
         "16",
         "NB00237",
         "NB00237_M_16",
         "36.6",
         "87.0",
         "3010.0",
         "46.1",
         "30.0",
         "Scavenged",
         "MBM",
         "Y",
         "N",
         null,
         null,
         null,
         "Y",
         "Prepped 5/5/25 PM",
         "5/6/2025 DOL 31 12:56",
         "10",
         "Residual from Milk Prep Room",
         null
        ],
        [
         "17",
         "NB00237",
         "NB00237_M_18",
         "37.1",
         "89.0",
         "3110.0",
         "46.3",
         "30.5",
         "scavenged ",
         "MBM",
         "Y",
         "N",
         null,
         null,
         null,
         "Y",
         "Prepped 5/7/25 PM",
         "5/8/2025/1:53:00 PM",
         "7",
         "Residual from Milk Prep Room",
         null
        ],
        [
         "18",
         "NB00238",
         "NB00238_M_2",
         "35.6",
         "74.0",
         "1950.0",
         "38.5",
         "28.3",
         "Scavenged ",
         "MBM",
         "Y",
         "Y",
         null,
         null,
         null,
         "Y",
         "Prepped 4/9/2025 PM",
         "4/10/2025\nDOL 74 13: 01",
         "2",
         "Residual from Milk Prep Room",
         null
        ],
        [
         "19",
         "NB00238",
         "NB00238_M_3",
         "35.6",
         "74.0",
         "1950.0",
         "38.5",
         "28.3",
         "Scavenged ",
         "MBM",
         "Y",
         "Y",
         "Y",
         "4/10/2025\nDOL 74 20:39",
         null,
         "Y",
         "4/10/2025\nDOL 74 8:25",
         "4/10/2025\nDOL 74 14: 04",
         "1",
         "Scavenged Feeding Tube",
         "2025-04-10 15:46:00"
        ],
        [
         "20",
         "NB00238",
         "NB00238_M_4",
         "36.0",
         "75.0",
         "1960.0",
         "41.0",
         "29.3",
         "Scavenged ",
         "MBM",
         "Y",
         "Y",
         null,
         null,
         null,
         "Y",
         "Prepped 4/10/2025 PM",
         "4/11/2025\nDOL 75 8:45",
         "7",
         "Residual from Milk Prep Room",
         null
        ],
        [
         "21",
         "NB00238",
         "NB00238_M_5",
         "36.0",
         "75.0",
         "1960.0",
         "41.0",
         "29.3",
         "Scavenged ",
         "MBM",
         "Y",
         "Y",
         "Y",
         "4/11/2025\nDOL 75 20:58",
         null,
         "Y",
         "AM feed",
         "4/11/2025\nDOL 75 9:52",
         "2 (0.8)",
         "Scavenged Feeding Tube",
         "2025-04-11 16:21:00"
        ],
        [
         "22",
         "NB00238",
         "NB00238_M_6",
         "36.5",
         "80.0",
         "2090.0",
         "41.0",
         "29.3",
         "Scavenged ",
         "MBM",
         "Y",
         "Y",
         null,
         null,
         null,
         "Y",
         "Prepped 4/15/2025 PM",
         "4/16/2025 \nDOL 80 11:15",
         "5",
         "Residual from Milk Prep Room",
         null
        ],
        [
         "23",
         "NB00238",
         "NB00238_M_7",
         "36.5",
         "80.0",
         "2090.0",
         "41.0",
         "29.3",
         "Scavenged ",
         "MBM",
         "Y",
         "Y",
         "Y",
         "4/16/2025 \nDOL 80 20:26",
         null,
         "Y",
         "4/16/2025 \nDOL 80 8:16",
         "4/16/2025 \nDOL 80 11:30",
         "1",
         "Scavenged Feeding Tube",
         "2025-04-16 17:04:00"
        ],
        [
         "24",
         "NB00238",
         "NB00238_M_9",
         "36.6",
         "81.0",
         "2090.0",
         "41.0",
         "29.3",
         "Scavenged",
         "MBM",
         "Y",
         "Y",
         "Y",
         "4/16/2025 DOL 20  20:26 ",
         null,
         "Y",
         "4/17/2025 \nDOL 81 05:31",
         "4/17/2025 \nDOL81 09:17",
         "1 (0.3)",
         "Scavenged Feeding Tube",
         "2025-04-17 14:13:00"
        ],
        [
         "25",
         "NB00238",
         "NB00238_M_8",
         "36.6",
         "81.0",
         "2090.0",
         "41.0",
         "29.3",
         "Scavenged",
         "MBM",
         "Y",
         "Y",
         null,
         null,
         null,
         "Y",
         "Prepped 4/16/2025 PM",
         "4/17/25\n DOL 81 9:21",
         "6",
         "Residual from Milk Prep Room",
         null
        ],
        [
         "26",
         "NB00354",
         "NB00354_M_4",
         "29.5",
         "13.0",
         "1000.0",
         "34.0",
         "34.5",
         "Scavenged ",
         "MBM",
         "Y",
         "N",
         "N",
         "N",
         null,
         "Y",
         "4/10/2025\nDOL 13 8:36",
         "4/10/2025\nDOL 13 14: 11",
         "1",
         "Scavenged Feeding Tube",
         "2025-04-10 15:37:00"
        ],
        [
         "27",
         "NB00354",
         "NB00354_M_3",
         "29.5",
         "13.0",
         "1000.0",
         "34.0",
         "34.5",
         "Scavenged ",
         "MBM",
         "Y",
         "N",
         null,
         null,
         null,
         "Y",
         "Prepped 4/9/2025 PM",
         "4/10/2025\nDOL 74 13: 07",
         "5",
         "Residual from Milk Prep Room",
         null
        ],
        [
         "28",
         "NB00354",
         "NB00354_M_5",
         "29.6",
         "14.0",
         "1015.0",
         "34.0",
         "34.5",
         "Scavenged ",
         "MBM",
         "Y",
         "N",
         null,
         null,
         null,
         "Y",
         "Prepped 4/10/2025 PM",
         "4/11/2025\nDOL 14 10:06",
         "8",
         "Residual from Milk Prep Room",
         null
        ],
        [
         "29",
         "NB00354",
         "NB00354_M_6",
         "29.6",
         "14.0",
         "1015.0",
         "34.0",
         "34.5",
         "Scavenged ",
         "MBM",
         "Y",
         "N",
         "Y",
         "4/11/2025\nDOL 14 20:11",
         null,
         "Y",
         "4/11/2025\nDOL 14 8:07",
         "4/11/2025\nDOL 14 9:34",
         "2",
         "Scavenged Feeding Tube",
         "2025-04-11 16:00:00"
        ],
        [
         "30",
         "NB00354",
         "NB00354_M_8",
         "30.2",
         "17.0",
         "1095.0",
         "35.2",
         "24.1",
         "Scavenged ",
         "MBM",
         "Y",
         "N",
         "Y",
         "4/13/2025 DOL 17 20:16",
         null,
         "Y",
         "4/14/2025\nDOL 17 8:41",
         "4/14/2025\nDOL 17 10:20",
         "1",
         "Scavenged Feeding Tube",
         "2025-04-14 16:39:00"
        ],
        [
         "31",
         "NB00354",
         "NB00354_M_9",
         "30.2",
         "17.0",
         "1095.0",
         "35.2",
         "24.1",
         "Scavenged ",
         "MBM",
         "Y",
         "N",
         "Y",
         "4/13/2025 DOL 17 20:16",
         null,
         "Y",
         "AM feed 11:02",
         "4/14/2025\nDOL 17 12:32",
         "1",
         "Scavenged Feeding Tube",
         "2025-04-14 16:39:00"
        ],
        [
         "32",
         "NB00354",
         "NB00354_M_7",
         "30.2",
         "17.0",
         "1095.0",
         "35.2",
         "24.1",
         "Scavenged ",
         "MBM",
         "Y",
         "N",
         null,
         null,
         null,
         "Y",
         "Prepped \n4/13/2025 PM",
         "4/14/2025 \nDOL 17 8:47",
         "5 (0.8)",
         "Residual from Milk Prep Room",
         null
        ],
        [
         "33",
         "NB00354",
         "NB00354_M_10",
         "30.3",
         "18.0",
         "1125.0",
         "35.2",
         "24.1",
         "Scavenged",
         "MBM",
         "Y",
         "N",
         null,
         null,
         null,
         "Y",
         "Prepped 4/14/2025  PM",
         "4/15/2025 DOL 18 07:45",
         "4 (0.3)",
         "Residual from Milk Prep Room",
         null
        ],
        [
         "34",
         "NB00354",
         "NB00354_M_11",
         "30.3",
         "18.0",
         "1125.0",
         "35.2",
         "24.1",
         "Scavenged",
         "MBM",
         "Y",
         "N",
         "Y",
         "4/14/2025 DOL 17 20:02",
         null,
         "Y",
         "4/15/2025 DOL 18 08:09",
         "4/15/2025 DOL 18 09:35",
         "1",
         "Scavenged Feeding Tube",
         "2025-04-15 17:13:00"
        ],
        [
         "35",
         "NB00354",
         "NB00354_M_12",
         "30.3",
         "18.0",
         "1125.0",
         "35.2",
         "24.1",
         "Scavenged",
         "MBM",
         "Y",
         "N",
         "Y",
         "4/14/2025 DOL 18 20:02",
         null,
         "Y",
         "4/15/2025 DOL 18 10:56",
         "4/15/2025 DOL 18 12:13",
         "2 (0.3)",
         "Scavenged Feeding Tube",
         "Unknown "
        ],
        [
         "36",
         "NB00354",
         "NB00354_M_15",
         "30.5",
         "20.0",
         "1205.0",
         "36.5",
         "25.5",
         "Scavenged",
         "MBM",
         "Y",
         "N",
         "Y",
         "4/16/2025 DOL 20 20:24",
         null,
         "Y",
         "4/17/2025 DOL 20 08:38",
         "4/17/2025 DOL 20 14:15",
         "2 (0.4)",
         "Scavenged Feeding Tube",
         "2025-04-17 16:04:00"
        ],
        [
         "37",
         "NB00354",
         "NB00354_M_14",
         "30.5",
         "20.0",
         "1205.0",
         "36.5",
         "25.5",
         "Scavenged",
         "MBM",
         "Y",
         "N",
         null,
         null,
         null,
         "Y",
         "Prepped 4/16/2025 PM",
         "4/17/2025 DOL 20 8:35",
         "7",
         "Residual from Milk Prep Room",
         null
        ],
        [
         "38",
         "NB00354",
         "NB00354_M_16",
         "31.2",
         "24.0",
         "1305.0",
         "36.5",
         "26.0",
         "Scavenged",
         "MBM",
         "Y",
         null,
         null,
         null,
         null,
         "Y",
         "Prepped 4/20/25 PM",
         "4/21/2025 DOL 24 10:00:00 AM",
         "5",
         "Residual from Milk Prep Room",
         null
        ],
        [
         "39",
         "NB00354",
         "NB00354_M_17",
         "31.2",
         "24.0",
         "1305.0",
         "36.5",
         "26.0",
         "Scavenged",
         "MBM",
         "Y",
         "N",
         "Y",
         "4/20/2025  2009",
         null,
         "Y",
         "4/21/25 DOL 24 08:25",
         "4/21/2025 DOL 24 10:20",
         "1",
         "Scavenged Feeding Tube",
         "2025-04-21 17:14:00"
        ],
        [
         "40",
         "NB00354",
         "NB00354_M_18",
         "31.4",
         "26.0",
         "1415.0",
         "36.5",
         "26.0",
         "Scavenged",
         "MBM",
         "Y",
         "N",
         null,
         null,
         "45",
         "Y",
         "Prepped \n4/22/2025 PM",
         "4/23/2025\nDOL 21 11:13",
         "5",
         "Residual from Milk Prep Room",
         null
        ],
        [
         "41",
         "NB00354",
         "NB00354_M_19",
         "31.4",
         "26.0",
         "1415.0",
         "36.5",
         "26.0",
         "Scavenged",
         "MBM",
         "Y",
         "N",
         "Y",
         "4/23/2025\nDOL 74 20:16",
         "45",
         "Y",
         "4/23/2025\nDOL 74 8:20",
         "4/23/2025\nDOL 74 18:33",
         "1",
         "Scavenged Feeding Tube",
         "2025-04-23 16:14:00"
        ],
        [
         "42",
         "NB00354",
         "NB00354_M_21",
         "31.5",
         "27.0",
         "1475.0",
         "36.5",
         "26.0",
         "Scavenged",
         "MBM",
         "Y",
         "N",
         "Y",
         "4/24/2025\nDOL 27 20:08",
         "45",
         "Y",
         "4/24/2025\nDOL 75 8:04",
         "4/24/2025\nDOL 27 10:50",
         "1",
         "Scavenged Feeding Tube",
         "2025-04-25 16:22:00"
        ],
        [
         "43",
         "NB00354",
         "NB00354_M_20",
         "31.5",
         "27.0",
         "1475.0",
         "36.5",
         "26.0",
         "Scavenged",
         "MBM",
         "Y",
         "N",
         null,
         null,
         "45",
         "Y",
         "Prepped \n4/23/2025 PM",
         "4/24/2025\nDOL 27 8:22",
         "11",
         "Residual from Milk Prep Room",
         null
        ],
        [
         "44",
         "NB00359",
         "NB00359_M_14",
         "33.5",
         "24.0",
         "1720.0",
         "40.0",
         "28.0",
         "Scavenged",
         "MBM",
         "Y",
         null,
         null,
         null,
         null,
         "Y",
         "Prepped 4/20/25 PM",
         "2025-04-21 10:05:00",
         "3",
         "Residual from Milk Prep Room",
         null
        ],
        [
         "45",
         "NB00359",
         "NB00359_M_17",
         "35.5",
         "38.0",
         "2045.0",
         "42.0",
         "29.5",
         "Scavenged",
         "MBM",
         "Y",
         "N",
         "Y",
         "2025-05-05 08:11:00",
         "unknown",
         "Y",
         "2025-05-05 08:08:00",
         "2025-05-05 13:42:00",
         "2 (0.3)",
         "Scavenged Feeding Tube",
         "2025-05-05 17:02:00"
        ],
        [
         "46",
         "NB00359",
         "NB00359_M_18",
         "36.1",
         "41.0",
         "2195.0",
         "43.0",
         "30.5",
         "scavenged ",
         "MBM",
         "Y",
         null,
         null,
         null,
         null,
         "Y",
         "Prepped 5/7/25 PM",
         "2025-05-08 13:47:00",
         "7(0.5)",
         "Residual from Milk Prep Room",
         null
        ],
        [
         "47",
         "NB00359",
         "NB00359_M_19",
         "36.1",
         "41.0",
         "2195.0",
         "43.0",
         "30.5",
         "scavenged ",
         "MBM",
         "Y",
         "N",
         "Y",
         "2025-05-08 08:01:00",
         "unknown",
         "Y",
         "2025-05-08 08:01:00",
         "2025-05-08 14:13:00",
         "1",
         "Scavenged Feeding Tube",
         "17:29:00"
        ],
        [
         "48",
         "NB00359",
         "NB00359_M_6",
         "32.1",
         "13.0",
         "1280.0",
         "39.0",
         "26.0",
         "Scavenged ",
         "MBM",
         "Y",
         "N",
         "N",
         null,
         null,
         "Y",
         "4/10/2025\nDOL 13 8:02",
         "4/10/2025\nDOL 13 14: 08",
         "1  (0.3)",
         "Scavenged Feeding Tube",
         "2025-04-10 16:19:00"
        ],
        [
         "49",
         "NB00359",
         "NB00359_M_5",
         "32.1",
         "13.0",
         "1280.0",
         "39.0",
         "26.0",
         "Scavenged ",
         "MBM",
         "Y",
         "N",
         "N",
         null,
         null,
         "Y",
         "Prepped 4/9/2025 PM",
         "4/10/2025\nDOL 74 13: 09",
         "6 (1.2)",
         "Residual from Milk Prep Room",
         null
        ]
       ],
       "shape": {
        "columns": 20,
        "rows": 141
       }
      },
      "text/html": [
       "<div>\n",
       "<style scoped>\n",
       "    .dataframe tbody tr th:only-of-type {\n",
       "        vertical-align: middle;\n",
       "    }\n",
       "\n",
       "    .dataframe tbody tr th {\n",
       "        vertical-align: top;\n",
       "    }\n",
       "\n",
       "    .dataframe thead th {\n",
       "        text-align: right;\n",
       "    }\n",
       "</style>\n",
       "<table border=\"1\" class=\"dataframe\">\n",
       "  <thead>\n",
       "    <tr style=\"text-align: right;\">\n",
       "      <th></th>\n",
       "      <th>Subject ID</th>\n",
       "      <th>Sample Type_#</th>\n",
       "      <th>CGA</th>\n",
       "      <th>DOL</th>\n",
       "      <th>Current Weight</th>\n",
       "      <th>Current Height</th>\n",
       "      <th>Current HC</th>\n",
       "      <th>Scavenged/Fresh?</th>\n",
       "      <th>MBM/DMB?</th>\n",
       "      <th>HMF Y/N?</th>\n",
       "      <th>TPN Y/N?</th>\n",
       "      <th>Iron Y/N?</th>\n",
       "      <th>Iron Date &amp; time</th>\n",
       "      <th>Duration\\n(min)</th>\n",
       "      <th>Linked?</th>\n",
       "      <th>feeding time</th>\n",
       "      <th>Collection date/aliquot time for all samples</th>\n",
       "      <th># Aliquots</th>\n",
       "      <th>Additional Comments</th>\n",
       "      <th>Milk Prep Room Expiration Date &amp; Time</th>\n",
       "    </tr>\n",
       "  </thead>\n",
       "  <tbody>\n",
       "    <tr>\n",
       "      <th>0</th>\n",
       "      <td>NB00237</td>\n",
       "      <td>NB00237_M_10</td>\n",
       "      <td>35.0</td>\n",
       "      <td>74.0</td>\n",
       "      <td>2440.0</td>\n",
       "      <td>44.0</td>\n",
       "      <td>29.0</td>\n",
       "      <td>Scavenged</td>\n",
       "      <td>MBM</td>\n",
       "      <td>Y</td>\n",
       "      <td>N</td>\n",
       "      <td>NaN</td>\n",
       "      <td>NaN</td>\n",
       "      <td>NaN</td>\n",
       "      <td>Y</td>\n",
       "      <td>Prepped \\n4/22/2025 PM</td>\n",
       "      <td>4/23/2025\\nDOL 21 11:13</td>\n",
       "      <td>11</td>\n",
       "      <td>Residual from Milk Prep Room</td>\n",
       "      <td>NaN</td>\n",
       "    </tr>\n",
       "    <tr>\n",
       "      <th>1</th>\n",
       "      <td>NB00237</td>\n",
       "      <td>NB00237_M_8</td>\n",
       "      <td>34.5</td>\n",
       "      <td>72.0</td>\n",
       "      <td>2350.0</td>\n",
       "      <td>43.5</td>\n",
       "      <td>28.5</td>\n",
       "      <td>Scavenged</td>\n",
       "      <td>MBM</td>\n",
       "      <td>Y</td>\n",
       "      <td>N</td>\n",
       "      <td>NaN</td>\n",
       "      <td>NaN</td>\n",
       "      <td>NaN</td>\n",
       "      <td>Y</td>\n",
       "      <td>Prepped 4/20/25 PM</td>\n",
       "      <td>2025-04-21 10:13:00</td>\n",
       "      <td>6</td>\n",
       "      <td>Residual from Milk Prep Room</td>\n",
       "      <td>NaN</td>\n",
       "    </tr>\n",
       "    <tr>\n",
       "      <th>2</th>\n",
       "      <td>NB00237</td>\n",
       "      <td>NB00237_M_17</td>\n",
       "      <td>36.6</td>\n",
       "      <td>87.0</td>\n",
       "      <td>3010.0</td>\n",
       "      <td>46.1</td>\n",
       "      <td>30.0</td>\n",
       "      <td>Scavenged</td>\n",
       "      <td>MBM</td>\n",
       "      <td>Y</td>\n",
       "      <td>N</td>\n",
       "      <td>Y</td>\n",
       "      <td>2025-05-06 20:57:00</td>\n",
       "      <td>unknown</td>\n",
       "      <td>Y</td>\n",
       "      <td>2025-05-06 08:56:00</td>\n",
       "      <td>2025-05-06 13:47:00</td>\n",
       "      <td>2 (0.5)</td>\n",
       "      <td>Scavenged Feeding Tube</td>\n",
       "      <td>Unknown</td>\n",
       "    </tr>\n",
       "    <tr>\n",
       "      <th>3</th>\n",
       "      <td>NB00237</td>\n",
       "      <td>NB00237_M_19</td>\n",
       "      <td>37.1</td>\n",
       "      <td>89.0</td>\n",
       "      <td>3110.0</td>\n",
       "      <td>46.3</td>\n",
       "      <td>30.5</td>\n",
       "      <td>scavenged</td>\n",
       "      <td>MBM</td>\n",
       "      <td>Y</td>\n",
       "      <td>N</td>\n",
       "      <td>Y</td>\n",
       "      <td>2025-05-08 20:43:00</td>\n",
       "      <td>45 min</td>\n",
       "      <td>Y</td>\n",
       "      <td>2025-05-08 12:03:00</td>\n",
       "      <td>2025-05-08 14:07:00</td>\n",
       "      <td>3(0.5)</td>\n",
       "      <td>Scavenged Feeding Tube</td>\n",
       "      <td>2025-05-08 16:49:00</td>\n",
       "    </tr>\n",
       "    <tr>\n",
       "      <th>4</th>\n",
       "      <td>NB00237</td>\n",
       "      <td>NB00237_M_20</td>\n",
       "      <td>37.5</td>\n",
       "      <td>93.0</td>\n",
       "      <td>3380.0</td>\n",
       "      <td>46.3</td>\n",
       "      <td>30.5</td>\n",
       "      <td>scavenged</td>\n",
       "      <td>MBM</td>\n",
       "      <td>Y</td>\n",
       "      <td>N</td>\n",
       "      <td>NaN</td>\n",
       "      <td>NaN</td>\n",
       "      <td>NaN</td>\n",
       "      <td>Y</td>\n",
       "      <td>Prepped 5/11/25 PM</td>\n",
       "      <td>2025-05-12 10:58:00</td>\n",
       "      <td>8</td>\n",
       "      <td>Residual from Milk Prep Room</td>\n",
       "      <td>NaN</td>\n",
       "    </tr>\n",
       "    <tr>\n",
       "      <th>...</th>\n",
       "      <td>...</td>\n",
       "      <td>...</td>\n",
       "      <td>...</td>\n",
       "      <td>...</td>\n",
       "      <td>...</td>\n",
       "      <td>...</td>\n",
       "      <td>...</td>\n",
       "      <td>...</td>\n",
       "      <td>...</td>\n",
       "      <td>...</td>\n",
       "      <td>...</td>\n",
       "      <td>...</td>\n",
       "      <td>...</td>\n",
       "      <td>...</td>\n",
       "      <td>...</td>\n",
       "      <td>...</td>\n",
       "      <td>...</td>\n",
       "      <td>...</td>\n",
       "      <td>...</td>\n",
       "      <td>...</td>\n",
       "    </tr>\n",
       "    <tr>\n",
       "      <th>136</th>\n",
       "      <td>NB00469</td>\n",
       "      <td>NB00469_M_2</td>\n",
       "      <td>34.1</td>\n",
       "      <td>25.0</td>\n",
       "      <td>2040.0</td>\n",
       "      <td>42.5</td>\n",
       "      <td>30.3</td>\n",
       "      <td>scavenged</td>\n",
       "      <td>MBM</td>\n",
       "      <td>Y+Nutramigen</td>\n",
       "      <td>N</td>\n",
       "      <td>Y</td>\n",
       "      <td>2025-05-09 21:09:00</td>\n",
       "      <td>unknown</td>\n",
       "      <td>Y</td>\n",
       "      <td>2025-05-09 08:30:00</td>\n",
       "      <td>2025-05-09 12:12:00</td>\n",
       "      <td>2 (0.3)</td>\n",
       "      <td>Scavenged Feeding Tube</td>\n",
       "      <td>2025-05-09 16:06:00</td>\n",
       "    </tr>\n",
       "    <tr>\n",
       "      <th>137</th>\n",
       "      <td>NB00486</td>\n",
       "      <td>NB00486_M_1</td>\n",
       "      <td>32.1</td>\n",
       "      <td>9.0</td>\n",
       "      <td>1055.0</td>\n",
       "      <td>36.0</td>\n",
       "      <td>26.7</td>\n",
       "      <td>Scavenged</td>\n",
       "      <td>DBM</td>\n",
       "      <td>Y</td>\n",
       "      <td>NaN</td>\n",
       "      <td>NaN</td>\n",
       "      <td>NaN</td>\n",
       "      <td>NaN</td>\n",
       "      <td>Y</td>\n",
       "      <td>Prepped 5/13/25 PM</td>\n",
       "      <td>2025-05-14 10:45:00</td>\n",
       "      <td>8</td>\n",
       "      <td>Residual from Milk Prep Room</td>\n",
       "      <td>NaN</td>\n",
       "    </tr>\n",
       "    <tr>\n",
       "      <th>138</th>\n",
       "      <td>NB00486</td>\n",
       "      <td>NB00486_M_2</td>\n",
       "      <td>32.1</td>\n",
       "      <td>9.0</td>\n",
       "      <td>1055.0</td>\n",
       "      <td>36.0</td>\n",
       "      <td>26.7</td>\n",
       "      <td>Scavenged</td>\n",
       "      <td>DBM</td>\n",
       "      <td>Y</td>\n",
       "      <td>N</td>\n",
       "      <td>N</td>\n",
       "      <td>NaN</td>\n",
       "      <td>unknown</td>\n",
       "      <td>Y</td>\n",
       "      <td>5/14/2025 done @ 08:11</td>\n",
       "      <td>2025-05-14 10:45:00</td>\n",
       "      <td>1</td>\n",
       "      <td>Scavenged Feeding Tube</td>\n",
       "      <td>2025-05-14 17:37:00</td>\n",
       "    </tr>\n",
       "    <tr>\n",
       "      <th>139</th>\n",
       "      <td>NB00487</td>\n",
       "      <td>NB00487_M_1</td>\n",
       "      <td>34.2</td>\n",
       "      <td>7.0</td>\n",
       "      <td>1940.0</td>\n",
       "      <td>44.3</td>\n",
       "      <td>29.0</td>\n",
       "      <td>Scavenged</td>\n",
       "      <td>DBM+MBM</td>\n",
       "      <td>Y</td>\n",
       "      <td>N</td>\n",
       "      <td>NaN</td>\n",
       "      <td>NaN</td>\n",
       "      <td>NaN</td>\n",
       "      <td>Y</td>\n",
       "      <td>Prepped 5/13/25 PM</td>\n",
       "      <td>2025-05-14 11:00:00</td>\n",
       "      <td>7</td>\n",
       "      <td>Residual from Milk Prep Room</td>\n",
       "      <td>NaN</td>\n",
       "    </tr>\n",
       "    <tr>\n",
       "      <th>140</th>\n",
       "      <td>NB00487</td>\n",
       "      <td>NB00487_M_2</td>\n",
       "      <td>34.2</td>\n",
       "      <td>7.0</td>\n",
       "      <td>1940.0</td>\n",
       "      <td>44.3</td>\n",
       "      <td>29.0</td>\n",
       "      <td>Scavenged</td>\n",
       "      <td>DBM+MBM</td>\n",
       "      <td>Y</td>\n",
       "      <td>N</td>\n",
       "      <td>N</td>\n",
       "      <td>NaN</td>\n",
       "      <td>90</td>\n",
       "      <td>Y</td>\n",
       "      <td>2025-05-14 08:58:00</td>\n",
       "      <td>2025-05-14 11:00:00</td>\n",
       "      <td>1</td>\n",
       "      <td>Scavenged Feeding Tube</td>\n",
       "      <td>2025-05-14 17:47:00</td>\n",
       "    </tr>\n",
       "  </tbody>\n",
       "</table>\n",
       "<p>141 rows × 20 columns</p>\n",
       "</div>"
      ],
      "text/plain": [
       "    Subject ID Sample Type_#   CGA  DOL   Current Weight  Current Height  \\\n",
       "0      NB00237  NB00237_M_10  35.0  74.0          2440.0            44.0   \n",
       "1      NB00237   NB00237_M_8  34.5  72.0          2350.0            43.5   \n",
       "2      NB00237  NB00237_M_17  36.6  87.0          3010.0            46.1   \n",
       "3      NB00237  NB00237_M_19  37.1  89.0          3110.0            46.3   \n",
       "4      NB00237  NB00237_M_20  37.5  93.0          3380.0            46.3   \n",
       "..         ...           ...   ...   ...             ...             ...   \n",
       "136    NB00469   NB00469_M_2  34.1  25.0          2040.0            42.5   \n",
       "137    NB00486   NB00486_M_1  32.1   9.0          1055.0            36.0   \n",
       "138    NB00486   NB00486_M_2  32.1   9.0          1055.0            36.0   \n",
       "139    NB00487   NB00487_M_1  34.2   7.0          1940.0            44.3   \n",
       "140    NB00487   NB00487_M_2  34.2   7.0          1940.0            44.3   \n",
       "\n",
       "     Current HC Scavenged/Fresh? MBM/DMB?      HMF Y/N? TPN Y/N? Iron Y/N?   \\\n",
       "0          29.0        Scavenged      MBM             Y        N        NaN   \n",
       "1          28.5        Scavenged      MBM             Y        N        NaN   \n",
       "2          30.0        Scavenged      MBM             Y        N          Y   \n",
       "3          30.5       scavenged       MBM             Y        N          Y   \n",
       "4          30.5       scavenged       MBM             Y        N        NaN   \n",
       "..          ...              ...      ...           ...      ...        ...   \n",
       "136        30.3        scavenged      MBM  Y+Nutramigen        N          Y   \n",
       "137        26.7        Scavenged      DBM             Y      NaN        NaN   \n",
       "138        26.7        Scavenged      DBM             Y        N          N   \n",
       "139        29.0        Scavenged  DBM+MBM             Y        N        NaN   \n",
       "140        29.0        Scavenged  DBM+MBM             Y        N          N   \n",
       "\n",
       "        Iron Date & time Duration\\n(min) Linked?            feeding time   \\\n",
       "0                    NaN             NaN        Y  Prepped \\n4/22/2025 PM   \n",
       "1                    NaN             NaN        Y      Prepped 4/20/25 PM   \n",
       "2    2025-05-06 20:57:00         unknown        Y     2025-05-06 08:56:00   \n",
       "3    2025-05-08 20:43:00          45 min        Y     2025-05-08 12:03:00   \n",
       "4                    NaN             NaN        Y      Prepped 5/11/25 PM   \n",
       "..                   ...             ...      ...                     ...   \n",
       "136  2025-05-09 21:09:00         unknown        Y     2025-05-09 08:30:00   \n",
       "137                  NaN             NaN        Y      Prepped 5/13/25 PM   \n",
       "138                  NaN         unknown        Y  5/14/2025 done @ 08:11   \n",
       "139                  NaN             NaN        Y      Prepped 5/13/25 PM   \n",
       "140                  NaN              90        Y     2025-05-14 08:58:00   \n",
       "\n",
       "    Collection date/aliquot time for all samples  # Aliquots   \\\n",
       "0                         4/23/2025\\nDOL 21 11:13          11   \n",
       "1                             2025-04-21 10:13:00           6   \n",
       "2                             2025-05-06 13:47:00     2 (0.5)   \n",
       "3                             2025-05-08 14:07:00      3(0.5)   \n",
       "4                             2025-05-12 10:58:00           8   \n",
       "..                                            ...         ...   \n",
       "136                           2025-05-09 12:12:00     2 (0.3)   \n",
       "137                           2025-05-14 10:45:00           8   \n",
       "138                           2025-05-14 10:45:00           1   \n",
       "139                           2025-05-14 11:00:00           7   \n",
       "140                           2025-05-14 11:00:00           1   \n",
       "\n",
       "              Additional Comments Milk Prep Room Expiration Date & Time   \n",
       "0    Residual from Milk Prep Room                                    NaN  \n",
       "1    Residual from Milk Prep Room                                    NaN  \n",
       "2          Scavenged Feeding Tube                               Unknown   \n",
       "3          Scavenged Feeding Tube                    2025-05-08 16:49:00  \n",
       "4    Residual from Milk Prep Room                                    NaN  \n",
       "..                            ...                                    ...  \n",
       "136        Scavenged Feeding Tube                    2025-05-09 16:06:00  \n",
       "137  Residual from Milk Prep Room                                    NaN  \n",
       "138        Scavenged Feeding Tube                    2025-05-14 17:37:00  \n",
       "139  Residual from Milk Prep Room                                    NaN  \n",
       "140        Scavenged Feeding Tube                    2025-05-14 17:47:00  \n",
       "\n",
       "[141 rows x 20 columns]"
      ]
     },
     "execution_count": 2,
     "metadata": {},
     "output_type": "execute_result"
    }
   ],
   "source": [
    "df = pd.read_excel(\"NeoBank Updated Milk Sample Metadata.xlsx\")\n",
    "df"
   ]
  },
  {
   "cell_type": "code",
   "execution_count": 3,
   "id": "27da87b3",
   "metadata": {},
   "outputs": [
    {
     "name": "stdout",
     "output_type": "stream",
     "text": [
      "<class 'pandas.core.frame.DataFrame'>\n",
      "RangeIndex: 141 entries, 0 to 140\n",
      "Data columns (total 20 columns):\n",
      " #   Column                                         Non-Null Count  Dtype  \n",
      "---  ------                                         --------------  -----  \n",
      " 0   Subject ID                                     141 non-null    object \n",
      " 1   Sample Type_#                                  141 non-null    object \n",
      " 2   CGA                                            140 non-null    float64\n",
      " 3   DOL                                            140 non-null    float64\n",
      " 4   Current Weight                                 140 non-null    float64\n",
      " 5   Current Height                                 140 non-null    float64\n",
      " 6   Current HC                                     140 non-null    float64\n",
      " 7   Scavenged/Fresh?                               141 non-null    object \n",
      " 8   MBM/DMB?                                       141 non-null    object \n",
      " 9   HMF Y/N?                                       140 non-null    object \n",
      " 10  TPN Y/N?                                       128 non-null    object \n",
      " 11  Iron Y/N?                                      80 non-null     object \n",
      " 12  Iron Date & time                               63 non-null     object \n",
      " 13  Duration\n",
      "(min)                                 50 non-null     object \n",
      " 14  Linked?                                        141 non-null    object \n",
      " 15  feeding time                                   141 non-null    object \n",
      " 16  Collection date/aliquot time for all samples   139 non-null    object \n",
      " 17  # Aliquots                                     141 non-null    object \n",
      " 18  Additional Comments                            140 non-null    object \n",
      " 19  Milk Prep Room Expiration Date & Time          77 non-null     object \n",
      "dtypes: float64(5), object(15)\n",
      "memory usage: 22.2+ KB\n"
     ]
    }
   ],
   "source": [
    "# understand the data\n",
    "\n",
    "df.info()"
   ]
  },
  {
   "cell_type": "code",
   "execution_count": 4,
   "id": "da576ef3",
   "metadata": {},
   "outputs": [
    {
     "data": {
      "application/vnd.microsoft.datawrangler.viewer.v0+json": {
       "columns": [
        {
         "name": "index",
         "rawType": "object",
         "type": "string"
        },
        {
         "name": "0",
         "rawType": "int64",
         "type": "integer"
        }
       ],
       "ref": "2a7c3496-d258-413a-a8d7-4348c34904ae",
       "rows": [
        [
         "Duration\n(min)",
         "91"
        ],
        [
         "Iron Date & time",
         "78"
        ],
        [
         "Milk Prep Room Expiration Date & Time ",
         "64"
        ],
        [
         "Iron Y/N? ",
         "61"
        ],
        [
         "TPN Y/N?",
         "13"
        ],
        [
         "Collection date/aliquot time for all samples ",
         "2"
        ],
        [
         "Current Height",
         "1"
        ],
        [
         "Current HC",
         "1"
        ],
        [
         "HMF Y/N?",
         "1"
        ],
        [
         "Current Weight",
         "1"
        ],
        [
         "DOL ",
         "1"
        ],
        [
         "CGA",
         "1"
        ],
        [
         "Additional Comments",
         "1"
        ],
        [
         "Scavenged/Fresh?",
         "0"
        ],
        [
         "MBM/DMB?",
         "0"
        ],
        [
         "Sample Type_#",
         "0"
        ],
        [
         "Linked? ",
         "0"
        ],
        [
         "feeding time ",
         "0"
        ],
        [
         "# Aliquots ",
         "0"
        ],
        [
         "Subject ID",
         "0"
        ]
       ],
       "shape": {
        "columns": 1,
        "rows": 20
       }
      },
      "text/plain": [
       "Duration\\n(min)                                  91\n",
       "Iron Date & time                                 78\n",
       "Milk Prep Room Expiration Date & Time            64\n",
       "Iron Y/N?                                        61\n",
       "TPN Y/N?                                         13\n",
       "Collection date/aliquot time for all samples      2\n",
       "Current Height                                    1\n",
       "Current HC                                        1\n",
       "HMF Y/N?                                          1\n",
       "Current Weight                                    1\n",
       "DOL                                               1\n",
       "CGA                                               1\n",
       "Additional Comments                               1\n",
       "Scavenged/Fresh?                                  0\n",
       "MBM/DMB?                                          0\n",
       "Sample Type_#                                     0\n",
       "Linked?                                           0\n",
       "feeding time                                      0\n",
       "# Aliquots                                        0\n",
       "Subject ID                                        0\n",
       "dtype: int64"
      ]
     },
     "execution_count": 4,
     "metadata": {},
     "output_type": "execute_result"
    }
   ],
   "source": [
    "df.isnull().sum().sort_values(ascending=False)\n"
   ]
  },
  {
   "cell_type": "code",
   "execution_count": 5,
   "id": "a95265d8",
   "metadata": {},
   "outputs": [],
   "source": [
    "# Strip whitespace and remove non-breaking spaces from column names\n",
    "df.columns = df.columns.str.strip().str.replace('\\xa0', '', regex=False)"
   ]
  },
  {
   "cell_type": "markdown",
   "id": "88f36e5d",
   "metadata": {},
   "source": [
    "#### Fix the Collection Date Column"
   ]
  },
  {
   "cell_type": "code",
   "execution_count": 6,
   "id": "232f56e6",
   "metadata": {},
   "outputs": [],
   "source": [
    "# Convert Date column to datetime format - standardize to string format first\n",
    "# Step 1: Extract date in any of these formats:\n",
    "# MM/DD/YY, MM/DD/YYYY, or YYYY-MM-DD\n",
    "date_extracted = df['Collection date/aliquot time for all samples'].astype(str).str.extract(\n",
    "    r'(\\d{1,2}/\\d{1,2}/\\d{2,4}|\\d{4}-\\d{1,2}-\\d{1,2})'\n",
    ")[0]\n",
    "\n",
    "df[\"Collection Date\"] = date_extracted"
   ]
  },
  {
   "cell_type": "code",
   "execution_count": 7,
   "id": "3b95d888",
   "metadata": {},
   "outputs": [
    {
     "data": {
      "application/vnd.microsoft.datawrangler.viewer.v0+json": {
       "columns": [
        {
         "name": "index",
         "rawType": "int64",
         "type": "integer"
        },
        {
         "name": "Collection Date",
         "rawType": "object",
         "type": "unknown"
        }
       ],
       "ref": "cedcd83b-35a7-44db-8f35-d22e4b604a00",
       "rows": [
        [
         "0",
         "4/23/2025"
        ],
        [
         "1",
         "2025-04-21"
        ],
        [
         "2",
         "2025-05-06"
        ],
        [
         "3",
         "2025-05-08"
        ],
        [
         "4",
         "2025-05-12"
        ],
        [
         "5",
         "2025-05-12"
        ],
        [
         "6",
         "4/10/2025"
        ],
        [
         "7",
         "4/10/2025"
        ],
        [
         "8",
         "4/11/2025"
        ],
        [
         "9",
         "4/11/2025"
        ],
        [
         "10",
         "4/17/2025"
        ],
        [
         "11",
         "4/17/25"
        ],
        [
         "12",
         "4/21/25"
        ],
        [
         "13",
         "4/23/2025"
        ],
        [
         "14",
         "4/24/2025"
        ],
        [
         "15",
         "4/24/2025"
        ],
        [
         "16",
         "5/6/2025"
        ],
        [
         "17",
         "5/8/2025"
        ],
        [
         "18",
         "4/10/2025"
        ],
        [
         "19",
         "4/10/2025"
        ],
        [
         "20",
         "4/11/2025"
        ],
        [
         "21",
         "4/11/2025"
        ],
        [
         "22",
         "4/16/2025"
        ],
        [
         "23",
         "4/16/2025"
        ],
        [
         "24",
         "4/17/2025"
        ],
        [
         "25",
         "4/17/25"
        ],
        [
         "26",
         "4/10/2025"
        ],
        [
         "27",
         "4/10/2025"
        ],
        [
         "28",
         "4/11/2025"
        ],
        [
         "29",
         "4/11/2025"
        ],
        [
         "30",
         "4/14/2025"
        ],
        [
         "31",
         "4/14/2025"
        ],
        [
         "32",
         "4/14/2025"
        ],
        [
         "33",
         "4/15/2025"
        ],
        [
         "34",
         "4/15/2025"
        ],
        [
         "35",
         "4/15/2025"
        ],
        [
         "36",
         "4/17/2025"
        ],
        [
         "37",
         "4/17/2025"
        ],
        [
         "38",
         "4/21/2025"
        ],
        [
         "39",
         "4/21/2025"
        ],
        [
         "40",
         "4/23/2025"
        ],
        [
         "41",
         "4/23/2025"
        ],
        [
         "42",
         "4/24/2025"
        ],
        [
         "43",
         "4/24/2025"
        ],
        [
         "44",
         "2025-04-21"
        ],
        [
         "45",
         "2025-05-05"
        ],
        [
         "46",
         "2025-05-08"
        ],
        [
         "47",
         "2025-05-08"
        ],
        [
         "48",
         "4/10/2025"
        ],
        [
         "49",
         "4/10/2025"
        ]
       ],
       "shape": {
        "columns": 1,
        "rows": 141
       }
      },
      "text/plain": [
       "0       4/23/2025\n",
       "1      2025-04-21\n",
       "2      2025-05-06\n",
       "3      2025-05-08\n",
       "4      2025-05-12\n",
       "          ...    \n",
       "136    2025-05-09\n",
       "137    2025-05-14\n",
       "138    2025-05-14\n",
       "139    2025-05-14\n",
       "140    2025-05-14\n",
       "Name: Collection Date, Length: 141, dtype: object"
      ]
     },
     "execution_count": 7,
     "metadata": {},
     "output_type": "execute_result"
    }
   ],
   "source": [
    "df[\"Collection Date\"]"
   ]
  },
  {
   "cell_type": "code",
   "execution_count": 8,
   "id": "387c3409",
   "metadata": {},
   "outputs": [
    {
     "data": {
      "application/vnd.microsoft.datawrangler.viewer.v0+json": {
       "columns": [
        {
         "name": "index",
         "rawType": "int64",
         "type": "integer"
        },
        {
         "name": "Collection Date",
         "rawType": "object",
         "type": "unknown"
        }
       ],
       "ref": "b1a744aa-d9fa-46b4-9aa8-86c08533b105",
       "rows": [
        [
         "0",
         "04/23/2025"
        ],
        [
         "1",
         "04/21/2025"
        ],
        [
         "2",
         "05/06/2025"
        ],
        [
         "3",
         "05/08/2025"
        ],
        [
         "4",
         "05/12/2025"
        ],
        [
         "5",
         "05/12/2025"
        ],
        [
         "6",
         "04/10/2025"
        ],
        [
         "7",
         "04/10/2025"
        ],
        [
         "8",
         "04/11/2025"
        ],
        [
         "9",
         "04/11/2025"
        ],
        [
         "10",
         "04/17/2025"
        ],
        [
         "11",
         "04/17/2025"
        ],
        [
         "12",
         "04/21/2025"
        ],
        [
         "13",
         "04/23/2025"
        ],
        [
         "14",
         "04/24/2025"
        ],
        [
         "15",
         "04/24/2025"
        ],
        [
         "16",
         "05/06/2025"
        ],
        [
         "17",
         "05/08/2025"
        ],
        [
         "18",
         "04/10/2025"
        ],
        [
         "19",
         "04/10/2025"
        ],
        [
         "20",
         "04/11/2025"
        ],
        [
         "21",
         "04/11/2025"
        ],
        [
         "22",
         "04/16/2025"
        ],
        [
         "23",
         "04/16/2025"
        ],
        [
         "24",
         "04/17/2025"
        ],
        [
         "25",
         "04/17/2025"
        ],
        [
         "26",
         "04/10/2025"
        ],
        [
         "27",
         "04/10/2025"
        ],
        [
         "28",
         "04/11/2025"
        ],
        [
         "29",
         "04/11/2025"
        ],
        [
         "30",
         "04/14/2025"
        ],
        [
         "31",
         "04/14/2025"
        ],
        [
         "32",
         "04/14/2025"
        ],
        [
         "33",
         "04/15/2025"
        ],
        [
         "34",
         "04/15/2025"
        ],
        [
         "35",
         "04/15/2025"
        ],
        [
         "36",
         "04/17/2025"
        ],
        [
         "37",
         "04/17/2025"
        ],
        [
         "38",
         "04/21/2025"
        ],
        [
         "39",
         "04/21/2025"
        ],
        [
         "40",
         "04/23/2025"
        ],
        [
         "41",
         "04/23/2025"
        ],
        [
         "42",
         "04/24/2025"
        ],
        [
         "43",
         "04/24/2025"
        ],
        [
         "44",
         "04/21/2025"
        ],
        [
         "45",
         "05/05/2025"
        ],
        [
         "46",
         "05/08/2025"
        ],
        [
         "47",
         "05/08/2025"
        ],
        [
         "48",
         "04/10/2025"
        ],
        [
         "49",
         "04/10/2025"
        ]
       ],
       "shape": {
        "columns": 1,
        "rows": 141
       }
      },
      "text/plain": [
       "0      04/23/2025\n",
       "1      04/21/2025\n",
       "2      05/06/2025\n",
       "3      05/08/2025\n",
       "4      05/12/2025\n",
       "          ...    \n",
       "136    05/09/2025\n",
       "137    05/14/2025\n",
       "138    05/14/2025\n",
       "139    05/14/2025\n",
       "140    05/14/2025\n",
       "Name: Collection Date, Length: 141, dtype: object"
      ]
     },
     "execution_count": 8,
     "metadata": {},
     "output_type": "execute_result"
    }
   ],
   "source": [
    "df[\"Collection Date\"] = df[\"Collection Date\"].astype(str).apply(lambda x: pd.to_datetime(x, errors='coerce')).dt.strftime(\"%m/%d/%Y\")\n",
    "df[\"Collection Date\"]"
   ]
  },
  {
   "cell_type": "code",
   "execution_count": 9,
   "id": "0bc23963",
   "metadata": {},
   "outputs": [
    {
     "data": {
      "application/vnd.microsoft.datawrangler.viewer.v0+json": {
       "columns": [
        {
         "name": "index",
         "rawType": "int64",
         "type": "integer"
        },
        {
         "name": "DOL Extracted",
         "rawType": "object",
         "type": "unknown"
        }
       ],
       "ref": "9a6fda93-ea76-425d-b5be-ffd45c7d3330",
       "rows": [
        [
         "0",
         "DOL 21"
        ],
        [
         "1",
         null
        ],
        [
         "2",
         null
        ],
        [
         "3",
         null
        ],
        [
         "4",
         null
        ],
        [
         "5",
         null
        ],
        [
         "6",
         "DOL 61"
        ],
        [
         "7",
         "DOL 74"
        ],
        [
         "8",
         "DOL 62"
        ],
        [
         "9",
         "DOL 62"
        ],
        [
         "10",
         "DOL 68"
        ],
        [
         "11",
         "DOL 68"
        ],
        [
         "12",
         "DOL 72"
        ],
        [
         "13",
         "DOL 74"
        ],
        [
         "14",
         "DOL 75"
        ],
        [
         "15",
         "DOL 75"
        ],
        [
         "16",
         "DOL 31"
        ],
        [
         "17",
         null
        ],
        [
         "18",
         "DOL 74"
        ],
        [
         "19",
         "DOL 74"
        ],
        [
         "20",
         "DOL 75"
        ],
        [
         "21",
         "DOL 75"
        ],
        [
         "22",
         "DOL 80"
        ],
        [
         "23",
         "DOL 80"
        ],
        [
         "24",
         "DOL81"
        ],
        [
         "25",
         "DOL 81"
        ],
        [
         "26",
         "DOL 13"
        ],
        [
         "27",
         "DOL 74"
        ],
        [
         "28",
         "DOL 14"
        ],
        [
         "29",
         "DOL 14"
        ],
        [
         "30",
         "DOL 17"
        ],
        [
         "31",
         "DOL 17"
        ],
        [
         "32",
         "DOL 17"
        ],
        [
         "33",
         "DOL 18"
        ],
        [
         "34",
         "DOL 18"
        ],
        [
         "35",
         "DOL 18"
        ],
        [
         "36",
         "DOL 20"
        ],
        [
         "37",
         "DOL 20"
        ],
        [
         "38",
         "DOL 24"
        ],
        [
         "39",
         "DOL 24"
        ],
        [
         "40",
         "DOL 21"
        ],
        [
         "41",
         "DOL 74"
        ],
        [
         "42",
         "DOL 27"
        ],
        [
         "43",
         "DOL 27"
        ],
        [
         "44",
         null
        ],
        [
         "45",
         null
        ],
        [
         "46",
         null
        ],
        [
         "47",
         null
        ],
        [
         "48",
         "DOL 13"
        ],
        [
         "49",
         "DOL 74"
        ]
       ],
       "shape": {
        "columns": 1,
        "rows": 141
       }
      },
      "text/plain": [
       "0      DOL 21\n",
       "1         NaN\n",
       "2         NaN\n",
       "3         NaN\n",
       "4         NaN\n",
       "        ...  \n",
       "136       NaN\n",
       "137       NaN\n",
       "138       NaN\n",
       "139       NaN\n",
       "140       NaN\n",
       "Name: DOL Extracted, Length: 141, dtype: object"
      ]
     },
     "execution_count": 9,
     "metadata": {},
     "output_type": "execute_result"
    }
   ],
   "source": [
    "# Update regex to handle:\n",
    "# - \"DOL#\" (e.g., DOL1)\n",
    "# - \"DOL #\" (e.g., DOL 1)\n",
    "# - \"DOL##\", \"DOL ##\", \"DOL###\", etc.\n",
    "df['DOL Extracted'] = df['Collection date/aliquot time for all samples'].astype(str).str.extract(r'(DOL\\s*\\d{1,3})', expand=False)\n",
    "\n",
    "# Preview the extracted values\n",
    "df['DOL Extracted']"
   ]
  },
  {
   "cell_type": "code",
   "execution_count": 10,
   "id": "cfc5bc1d",
   "metadata": {},
   "outputs": [
    {
     "data": {
      "text/plain": [
       "46"
      ]
     },
     "execution_count": 10,
     "metadata": {},
     "output_type": "execute_result"
    }
   ],
   "source": [
    "df['DOL Extracted'].isnull().sum()"
   ]
  },
  {
   "cell_type": "code",
   "execution_count": 11,
   "id": "154c1363",
   "metadata": {},
   "outputs": [
    {
     "data": {
      "application/vnd.microsoft.datawrangler.viewer.v0+json": {
       "columns": [
        {
         "name": "index",
         "rawType": "int64",
         "type": "integer"
        },
        {
         "name": "Extracted Raw Time",
         "rawType": "object",
         "type": "unknown"
        }
       ],
       "ref": "5ba70d0a-7101-4add-978a-7565153fa3af",
       "rows": [
        [
         "0",
         "11:13"
        ],
        [
         "1",
         "10:13:00"
        ],
        [
         "2",
         "13:47:00"
        ],
        [
         "3",
         "14:07:00"
        ],
        [
         "4",
         "10:58:00"
        ],
        [
         "5",
         "10:58:00"
        ],
        [
         "6",
         "14: 06"
        ],
        [
         "7",
         "13:15"
        ],
        [
         "8",
         "10:16"
        ],
        [
         "9",
         "9:47"
        ],
        [
         "10",
         "8:39"
        ],
        [
         "11",
         "14:10"
        ],
        [
         "12",
         "10:30"
        ],
        [
         "13",
         "18:35"
        ],
        [
         "14",
         "10:53"
        ],
        [
         "15",
         "8:33"
        ],
        [
         "16",
         "12:56"
        ],
        [
         "17",
         "1:53:00"
        ],
        [
         "18",
         "13: 01"
        ],
        [
         "19",
         "14: 04"
        ],
        [
         "20",
         "8:45"
        ],
        [
         "21",
         "9:52"
        ],
        [
         "22",
         "11:15"
        ],
        [
         "23",
         "11:30"
        ],
        [
         "24",
         "09:17"
        ],
        [
         "25",
         "9:21"
        ],
        [
         "26",
         "14: 11"
        ],
        [
         "27",
         "13: 07"
        ],
        [
         "28",
         "10:06"
        ],
        [
         "29",
         "9:34"
        ],
        [
         "30",
         "10:20"
        ],
        [
         "31",
         "12:32"
        ],
        [
         "32",
         "8:47"
        ],
        [
         "33",
         "07:45"
        ],
        [
         "34",
         "09:35"
        ],
        [
         "35",
         "12:13"
        ],
        [
         "36",
         "14:15"
        ],
        [
         "37",
         "8:35"
        ],
        [
         "38",
         "10:00:00"
        ],
        [
         "39",
         "10:20"
        ],
        [
         "40",
         "11:13"
        ],
        [
         "41",
         "18:33"
        ],
        [
         "42",
         "10:50"
        ],
        [
         "43",
         "8:22"
        ],
        [
         "44",
         "10:05:00"
        ],
        [
         "45",
         "13:42:00"
        ],
        [
         "46",
         "13:47:00"
        ],
        [
         "47",
         "14:13:00"
        ],
        [
         "48",
         "14: 08"
        ],
        [
         "49",
         "13: 09"
        ]
       ],
       "shape": {
        "columns": 1,
        "rows": 141
       }
      },
      "text/plain": [
       "0         11:13\n",
       "1      10:13:00\n",
       "2      13:47:00\n",
       "3      14:07:00\n",
       "4      10:58:00\n",
       "         ...   \n",
       "136    12:12:00\n",
       "137    10:45:00\n",
       "138    10:45:00\n",
       "139    11:00:00\n",
       "140    11:00:00\n",
       "Name: Extracted Raw Time, Length: 141, dtype: object"
      ]
     },
     "execution_count": 11,
     "metadata": {},
     "output_type": "execute_result"
    }
   ],
   "source": [
    "# Re-extract just time strings in these formats:\n",
    "# - \"##:##:##\" (e.g., 13:47:00)\n",
    "# - \"##:##\" (e.g., 13:47)\n",
    "# - Allow optional space after the colon (e.g., \"13: 47\")\n",
    "\n",
    "# We'll exclude AM/PM handling for now as requested\n",
    "time_extracted_simple = df['Collection date/aliquot time for all samples'].astype(str).str.extract(\n",
    "    r'(\\d{1,2}\\s*:\\s*\\d{2}(?::\\d{2})?)', expand=False\n",
    ")\n",
    "\n",
    "# Assign to new column to preview\n",
    "df['Extracted Raw Time'] = time_extracted_simple\n",
    "\n",
    "# Preview unique extracted time values\n",
    "df['Extracted Raw Time']\n"
   ]
  },
  {
   "cell_type": "code",
   "execution_count": 12,
   "id": "d8c6ea4b",
   "metadata": {},
   "outputs": [
    {
     "data": {
      "application/vnd.microsoft.datawrangler.viewer.v0+json": {
       "columns": [
        {
         "name": "index",
         "rawType": "int64",
         "type": "integer"
        },
        {
         "name": "Collection date/aliquot time for all samples",
         "rawType": "object",
         "type": "string"
        },
        {
         "name": "Extracted Raw Time",
         "rawType": "object",
         "type": "string"
        }
       ],
       "ref": "bdffcd10-49fc-4103-b028-335984307bb7",
       "rows": [
        [
         "17",
         "5/8/2025/1:53:00 PM",
         "13:53"
        ],
        [
         "73",
         "5/5/25 DOL 27 3:05:00 PM",
         "15:05"
        ]
       ],
       "shape": {
        "columns": 2,
        "rows": 2
       }
      },
      "text/html": [
       "<div>\n",
       "<style scoped>\n",
       "    .dataframe tbody tr th:only-of-type {\n",
       "        vertical-align: middle;\n",
       "    }\n",
       "\n",
       "    .dataframe tbody tr th {\n",
       "        vertical-align: top;\n",
       "    }\n",
       "\n",
       "    .dataframe thead th {\n",
       "        text-align: right;\n",
       "    }\n",
       "</style>\n",
       "<table border=\"1\" class=\"dataframe\">\n",
       "  <thead>\n",
       "    <tr style=\"text-align: right;\">\n",
       "      <th></th>\n",
       "      <th>Collection date/aliquot time for all samples</th>\n",
       "      <th>Extracted Raw Time</th>\n",
       "    </tr>\n",
       "  </thead>\n",
       "  <tbody>\n",
       "    <tr>\n",
       "      <th>17</th>\n",
       "      <td>5/8/2025/1:53:00 PM</td>\n",
       "      <td>13:53</td>\n",
       "    </tr>\n",
       "    <tr>\n",
       "      <th>73</th>\n",
       "      <td>5/5/25 DOL 27 3:05:00 PM</td>\n",
       "      <td>15:05</td>\n",
       "    </tr>\n",
       "  </tbody>\n",
       "</table>\n",
       "</div>"
      ],
      "text/plain": [
       "   Collection date/aliquot time for all samples Extracted Raw Time\n",
       "17                          5/8/2025/1:53:00 PM              13:53\n",
       "73                     5/5/25 DOL 27 3:05:00 PM              15:05"
      ]
     },
     "execution_count": 12,
     "metadata": {},
     "output_type": "execute_result"
    }
   ],
   "source": [
    "# Find the rows that contain those specific strings\n",
    "matches = df['Collection date/aliquot time for all samples'].astype(str).str.contains(\n",
    "    \"5/8/2025/1:53:00 PM|5/5/25 DOL 27 3:05:00 PM\", na=False\n",
    ")\n",
    "\n",
    "# Manually update the \"Extracted Raw Time\" values for those matched rows\n",
    "df.loc[df['Collection date/aliquot time for all samples'] == \"5/8/2025/1:53:00 PM\", 'Extracted Raw Time'] = \"13:53\"\n",
    "df.loc[df['Collection date/aliquot time for all samples'] == \"5/5/25 DOL 27 3:05:00 PM\", 'Extracted Raw Time'] = \"15:05\"\n",
    "\n",
    "# Show the affected rows to verify\n",
    "df.loc[matches, ['Collection date/aliquot time for all samples', 'Extracted Raw Time']]\n"
   ]
  },
  {
   "cell_type": "code",
   "execution_count": 13,
   "id": "8fc0df0f",
   "metadata": {},
   "outputs": [
    {
     "data": {
      "application/vnd.microsoft.datawrangler.viewer.v0+json": {
       "columns": [
        {
         "name": "index",
         "rawType": "int64",
         "type": "integer"
        },
        {
         "name": "Extracted Raw Time",
         "rawType": "object",
         "type": "string"
        }
       ],
       "ref": "7d2691a6-1858-41e4-879f-f7b9f9db3fc0",
       "rows": [
        [
         "0",
         "11:13"
        ],
        [
         "1",
         "10:13:00"
        ],
        [
         "2",
         "13:47:00"
        ],
        [
         "3",
         "14:07:00"
        ],
        [
         "4",
         "10:58:00"
        ],
        [
         "5",
         "10:58:00"
        ],
        [
         "6",
         "14:06"
        ],
        [
         "7",
         "13:15"
        ],
        [
         "8",
         "10:16"
        ],
        [
         "9",
         "9:47"
        ],
        [
         "10",
         "8:39"
        ],
        [
         "11",
         "14:10"
        ],
        [
         "12",
         "10:30"
        ],
        [
         "13",
         "18:35"
        ],
        [
         "14",
         "10:53"
        ],
        [
         "15",
         "8:33"
        ],
        [
         "16",
         "12:56"
        ],
        [
         "17",
         "13:53"
        ],
        [
         "18",
         "13:01"
        ],
        [
         "19",
         "14:04"
        ],
        [
         "20",
         "8:45"
        ],
        [
         "21",
         "9:52"
        ],
        [
         "22",
         "11:15"
        ],
        [
         "23",
         "11:30"
        ],
        [
         "24",
         "09:17"
        ],
        [
         "25",
         "9:21"
        ],
        [
         "26",
         "14:11"
        ],
        [
         "27",
         "13:07"
        ],
        [
         "28",
         "10:06"
        ],
        [
         "29",
         "9:34"
        ],
        [
         "30",
         "10:20"
        ],
        [
         "31",
         "12:32"
        ],
        [
         "32",
         "8:47"
        ],
        [
         "33",
         "07:45"
        ],
        [
         "34",
         "09:35"
        ],
        [
         "35",
         "12:13"
        ],
        [
         "36",
         "14:15"
        ],
        [
         "37",
         "8:35"
        ],
        [
         "38",
         "10:00:00"
        ],
        [
         "39",
         "10:20"
        ],
        [
         "40",
         "11:13"
        ],
        [
         "41",
         "18:33"
        ],
        [
         "42",
         "10:50"
        ],
        [
         "43",
         "8:22"
        ],
        [
         "44",
         "10:05:00"
        ],
        [
         "45",
         "13:42:00"
        ],
        [
         "46",
         "13:47:00"
        ],
        [
         "47",
         "14:13:00"
        ],
        [
         "48",
         "14:08"
        ],
        [
         "49",
         "13:09"
        ]
       ],
       "shape": {
        "columns": 1,
        "rows": 141
       }
      },
      "text/plain": [
       "0         11:13\n",
       "1      10:13:00\n",
       "2      13:47:00\n",
       "3      14:07:00\n",
       "4      10:58:00\n",
       "         ...   \n",
       "136    12:12:00\n",
       "137    10:45:00\n",
       "138    10:45:00\n",
       "139    11:00:00\n",
       "140    11:00:00\n",
       "Name: Extracted Raw Time, Length: 141, dtype: object"
      ]
     },
     "execution_count": 13,
     "metadata": {},
     "output_type": "execute_result"
    }
   ],
   "source": [
    "# Remove any internal or leading/trailing spaces from 'Extracted Raw Time' strings\n",
    "df['Extracted Raw Time'] = df['Extracted Raw Time'].astype(str).str.replace(\" \", \"\", regex=False).str.strip()\n",
    "\n",
    "# Preview cleaned time values\n",
    "df['Extracted Raw Time']\n"
   ]
  },
  {
   "cell_type": "code",
   "execution_count": 14,
   "id": "c07fd06a",
   "metadata": {},
   "outputs": [
    {
     "data": {
      "application/vnd.microsoft.datawrangler.viewer.v0+json": {
       "columns": [
        {
         "name": "index",
         "rawType": "int64",
         "type": "integer"
        },
        {
         "name": "Collection Date/Time",
         "rawType": "object",
         "type": "string"
        }
       ],
       "ref": "9a204fd3-ec48-4f52-b528-bbbe965db13b",
       "rows": [
        [
         "0",
         "04/23/2025 11:13"
        ],
        [
         "1",
         "04/21/2025 10:13:00"
        ],
        [
         "2",
         "05/06/2025 13:47:00"
        ],
        [
         "3",
         "05/08/2025 14:07:00"
        ],
        [
         "4",
         "05/12/2025 10:58:00"
        ],
        [
         "5",
         "05/12/2025 10:58:00"
        ],
        [
         "6",
         "04/10/2025 14:06"
        ],
        [
         "7",
         "04/10/2025 13:15"
        ],
        [
         "8",
         "04/11/2025 10:16"
        ],
        [
         "9",
         "04/11/2025 9:47"
        ],
        [
         "10",
         "04/17/2025 8:39"
        ],
        [
         "11",
         "04/17/2025 14:10"
        ],
        [
         "12",
         "04/21/2025 10:30"
        ],
        [
         "13",
         "04/23/2025 18:35"
        ],
        [
         "14",
         "04/24/2025 10:53"
        ],
        [
         "15",
         "04/24/2025 8:33"
        ],
        [
         "16",
         "05/06/2025 12:56"
        ],
        [
         "17",
         "05/08/2025 13:53"
        ],
        [
         "18",
         "04/10/2025 13:01"
        ],
        [
         "19",
         "04/10/2025 14:04"
        ],
        [
         "20",
         "04/11/2025 8:45"
        ],
        [
         "21",
         "04/11/2025 9:52"
        ],
        [
         "22",
         "04/16/2025 11:15"
        ],
        [
         "23",
         "04/16/2025 11:30"
        ],
        [
         "24",
         "04/17/2025 09:17"
        ],
        [
         "25",
         "04/17/2025 9:21"
        ],
        [
         "26",
         "04/10/2025 14:11"
        ],
        [
         "27",
         "04/10/2025 13:07"
        ],
        [
         "28",
         "04/11/2025 10:06"
        ],
        [
         "29",
         "04/11/2025 9:34"
        ],
        [
         "30",
         "04/14/2025 10:20"
        ],
        [
         "31",
         "04/14/2025 12:32"
        ],
        [
         "32",
         "04/14/2025 8:47"
        ],
        [
         "33",
         "04/15/2025 07:45"
        ],
        [
         "34",
         "04/15/2025 09:35"
        ],
        [
         "35",
         "04/15/2025 12:13"
        ],
        [
         "36",
         "04/17/2025 14:15"
        ],
        [
         "37",
         "04/17/2025 8:35"
        ],
        [
         "38",
         "04/21/2025 10:00:00"
        ],
        [
         "39",
         "04/21/2025 10:20"
        ],
        [
         "40",
         "04/23/2025 11:13"
        ],
        [
         "41",
         "04/23/2025 18:33"
        ],
        [
         "42",
         "04/24/2025 10:50"
        ],
        [
         "43",
         "04/24/2025 8:22"
        ],
        [
         "44",
         "04/21/2025 10:05:00"
        ],
        [
         "45",
         "05/05/2025 13:42:00"
        ],
        [
         "46",
         "05/08/2025 13:47:00"
        ],
        [
         "47",
         "05/08/2025 14:13:00"
        ],
        [
         "48",
         "04/10/2025 14:08"
        ],
        [
         "49",
         "04/10/2025 13:09"
        ]
       ],
       "shape": {
        "columns": 1,
        "rows": 141
       }
      },
      "text/plain": [
       "0         04/23/2025 11:13\n",
       "1      04/21/2025 10:13:00\n",
       "2      05/06/2025 13:47:00\n",
       "3      05/08/2025 14:07:00\n",
       "4      05/12/2025 10:58:00\n",
       "              ...         \n",
       "136    05/09/2025 12:12:00\n",
       "137    05/14/2025 10:45:00\n",
       "138    05/14/2025 10:45:00\n",
       "139    05/14/2025 11:00:00\n",
       "140    05/14/2025 11:00:00\n",
       "Name: Collection Date/Time, Length: 141, dtype: object"
      ]
     },
     "execution_count": 14,
     "metadata": {},
     "output_type": "execute_result"
    }
   ],
   "source": [
    "# Combine 'Collection Date' and 'Extracted Raw Time' into a single 'Collection Date/Time' column\n",
    "# Format: MM/DD/YYYY HH:MM or MM/DD/YYYY HH:MM:SS depending on input\n",
    "\n",
    "df['Collection Date/Time'] = df['Collection Date'].astype(str) + ' ' + df['Extracted Raw Time'].astype(str)\n",
    "\n",
    "# Preview combined result\n",
    "df['Collection Date/Time']"
   ]
  },
  {
   "cell_type": "code",
   "execution_count": 15,
   "id": "68f9e161",
   "metadata": {
    "vscode": {
     "languageId": "ruby"
    }
   },
   "outputs": [
    {
     "data": {
      "application/vnd.microsoft.datawrangler.viewer.v0+json": {
       "columns": [
        {
         "name": "index",
         "rawType": "int64",
         "type": "integer"
        },
        {
         "name": "Collection Date/Time",
         "rawType": "datetime64[ns]",
         "type": "datetime"
        }
       ],
       "ref": "7afc151c-b451-445c-9282-5a90e13ccf3a",
       "rows": [
        [
         "0",
         "2025-04-23 11:13:00"
        ],
        [
         "1",
         null
        ],
        [
         "2",
         null
        ],
        [
         "3",
         null
        ],
        [
         "4",
         null
        ],
        [
         "5",
         null
        ],
        [
         "6",
         "2025-04-10 14:06:00"
        ],
        [
         "7",
         "2025-04-10 13:15:00"
        ],
        [
         "8",
         "2025-04-11 10:16:00"
        ],
        [
         "9",
         "2025-04-11 09:47:00"
        ],
        [
         "10",
         "2025-04-17 08:39:00"
        ],
        [
         "11",
         "2025-04-17 14:10:00"
        ],
        [
         "12",
         "2025-04-21 10:30:00"
        ],
        [
         "13",
         "2025-04-23 18:35:00"
        ],
        [
         "14",
         "2025-04-24 10:53:00"
        ],
        [
         "15",
         "2025-04-24 08:33:00"
        ],
        [
         "16",
         "2025-05-06 12:56:00"
        ],
        [
         "17",
         "2025-05-08 13:53:00"
        ],
        [
         "18",
         "2025-04-10 13:01:00"
        ],
        [
         "19",
         "2025-04-10 14:04:00"
        ],
        [
         "20",
         "2025-04-11 08:45:00"
        ],
        [
         "21",
         "2025-04-11 09:52:00"
        ],
        [
         "22",
         "2025-04-16 11:15:00"
        ],
        [
         "23",
         "2025-04-16 11:30:00"
        ],
        [
         "24",
         "2025-04-17 09:17:00"
        ],
        [
         "25",
         "2025-04-17 09:21:00"
        ],
        [
         "26",
         "2025-04-10 14:11:00"
        ],
        [
         "27",
         "2025-04-10 13:07:00"
        ],
        [
         "28",
         "2025-04-11 10:06:00"
        ],
        [
         "29",
         "2025-04-11 09:34:00"
        ],
        [
         "30",
         "2025-04-14 10:20:00"
        ],
        [
         "31",
         "2025-04-14 12:32:00"
        ],
        [
         "32",
         "2025-04-14 08:47:00"
        ],
        [
         "33",
         "2025-04-15 07:45:00"
        ],
        [
         "34",
         "2025-04-15 09:35:00"
        ],
        [
         "35",
         "2025-04-15 12:13:00"
        ],
        [
         "36",
         "2025-04-17 14:15:00"
        ],
        [
         "37",
         "2025-04-17 08:35:00"
        ],
        [
         "38",
         null
        ],
        [
         "39",
         "2025-04-21 10:20:00"
        ],
        [
         "40",
         "2025-04-23 11:13:00"
        ],
        [
         "41",
         "2025-04-23 18:33:00"
        ],
        [
         "42",
         "2025-04-24 10:50:00"
        ],
        [
         "43",
         "2025-04-24 08:22:00"
        ],
        [
         "44",
         null
        ],
        [
         "45",
         null
        ],
        [
         "46",
         null
        ],
        [
         "47",
         null
        ],
        [
         "48",
         "2025-04-10 14:08:00"
        ],
        [
         "49",
         "2025-04-10 13:09:00"
        ]
       ],
       "shape": {
        "columns": 1,
        "rows": 141
       }
      },
      "text/plain": [
       "0     2025-04-23 11:13:00\n",
       "1                     NaT\n",
       "2                     NaT\n",
       "3                     NaT\n",
       "4                     NaT\n",
       "              ...        \n",
       "136                   NaT\n",
       "137                   NaT\n",
       "138                   NaT\n",
       "139                   NaT\n",
       "140                   NaT\n",
       "Name: Collection Date/Time, Length: 141, dtype: datetime64[ns]"
      ]
     },
     "execution_count": 15,
     "metadata": {},
     "output_type": "execute_result"
    }
   ],
   "source": [
    "# Only combine rows where both parts are present\n",
    "valid_mask = df['Collection Date'].notna() & df['Extracted Raw Time'].notna()\n",
    "\n",
    "# Clean and combine\n",
    "df.loc[valid_mask, 'Collection Date/Time'] = (\n",
    "    df.loc[valid_mask, 'Collection Date'].astype(str).str.strip() + ' ' +\n",
    "    df.loc[valid_mask, 'Extracted Raw Time'].astype(str).str.strip()\n",
    ")\n",
    "\n",
    "# Now safely convert to datetime\n",
    "df['Collection Date/Time'] = pd.to_datetime(df['Collection Date/Time'], errors='coerce')\n",
    "df['Collection Date/Time'] "
   ]
  },
  {
   "cell_type": "code",
   "execution_count": 16,
   "id": "52b9bed0",
   "metadata": {
    "vscode": {
     "languageId": "ruby"
    }
   },
   "outputs": [
    {
     "data": {
      "text/plain": [
       "['Subject ID',\n",
       " 'Sample Type_#',\n",
       " 'CGA',\n",
       " 'DOL',\n",
       " 'Current Weight',\n",
       " 'Current Height',\n",
       " 'Current HC',\n",
       " 'Scavenged/Fresh?',\n",
       " 'MBM/DMB?',\n",
       " 'HMF Y/N?',\n",
       " 'TPN Y/N?',\n",
       " 'Iron Y/N?',\n",
       " 'Iron Date & time',\n",
       " 'Duration\\n(min)',\n",
       " 'Linked?',\n",
       " 'feeding time',\n",
       " 'Collection date/aliquot time for all samples',\n",
       " '# Aliquots',\n",
       " 'Additional Comments',\n",
       " 'Milk Prep Room Expiration Date & Time',\n",
       " 'Collection Date',\n",
       " 'DOL at Collection',\n",
       " 'Extracted Raw Time',\n",
       " 'Collection Date/Time']"
      ]
     },
     "execution_count": 16,
     "metadata": {},
     "output_type": "execute_result"
    }
   ],
   "source": [
    "# Rename the column\n",
    "df.rename(columns={'DOL Extracted': 'DOL at Collection'}, inplace=True)\n",
    "\n",
    "# Confirm the new column name is in place\n",
    "df.columns.tolist()\n"
   ]
  },
  {
   "cell_type": "markdown",
   "id": "6e628cf6",
   "metadata": {},
   "source": [
    "### Fix the Feeding Time Column"
   ]
  },
  {
   "cell_type": "code",
   "execution_count": 17,
   "id": "9c4b7a37",
   "metadata": {
    "vscode": {
     "languageId": "ruby"
    }
   },
   "outputs": [
    {
     "data": {
      "application/vnd.microsoft.datawrangler.viewer.v0+json": {
       "columns": [
        {
         "name": "index",
         "rawType": "int64",
         "type": "integer"
        },
        {
         "name": "Feeding Time Date",
         "rawType": "object",
         "type": "unknown"
        }
       ],
       "ref": "bd15861f-0991-475a-bd6c-89818caaf81a",
       "rows": [
        [
         "0",
         "4/22/2025"
        ],
        [
         "1",
         "4/20/25"
        ],
        [
         "2",
         "2025-05-06"
        ],
        [
         "3",
         "2025-05-08"
        ],
        [
         "4",
         "5/11/25"
        ],
        [
         "5",
         "2025-05-12"
        ],
        [
         "6",
         "4/10/2025"
        ],
        [
         "7",
         "4/9/2025"
        ],
        [
         "8",
         "4/10/2025"
        ],
        [
         "9",
         "4/11/2025"
        ],
        [
         "10",
         "4/16/2025"
        ],
        [
         "11",
         "4/17/25"
        ],
        [
         "12",
         "4/21/25"
        ],
        [
         "13",
         "4/23/2025"
        ],
        [
         "14",
         "4/24/2025"
        ],
        [
         "15",
         "4/23/2025"
        ],
        [
         "16",
         "5/5/25"
        ],
        [
         "17",
         "5/7/25"
        ],
        [
         "18",
         "4/9/2025"
        ],
        [
         "19",
         "4/10/2025"
        ],
        [
         "20",
         "4/10/2025"
        ],
        [
         "21",
         null
        ],
        [
         "22",
         "4/15/2025"
        ],
        [
         "23",
         "4/16/2025"
        ],
        [
         "24",
         "4/17/2025"
        ],
        [
         "25",
         "4/16/2025"
        ],
        [
         "26",
         "4/10/2025"
        ],
        [
         "27",
         "4/9/2025"
        ],
        [
         "28",
         "4/10/2025"
        ],
        [
         "29",
         "4/11/2025"
        ],
        [
         "30",
         "4/14/2025"
        ],
        [
         "31",
         null
        ],
        [
         "32",
         "4/13/2025"
        ],
        [
         "33",
         "4/14/2025"
        ],
        [
         "34",
         "4/15/2025"
        ],
        [
         "35",
         "4/15/2025"
        ],
        [
         "36",
         "4/17/2025"
        ],
        [
         "37",
         "4/16/2025"
        ],
        [
         "38",
         "4/20/25"
        ],
        [
         "39",
         "4/21/25"
        ],
        [
         "40",
         "4/22/2025"
        ],
        [
         "41",
         "4/23/2025"
        ],
        [
         "42",
         "4/24/2025"
        ],
        [
         "43",
         "4/23/2025"
        ],
        [
         "44",
         "4/20/25"
        ],
        [
         "45",
         "2025-05-05"
        ],
        [
         "46",
         "5/7/25"
        ],
        [
         "47",
         "2025-05-08"
        ],
        [
         "48",
         "4/10/2025"
        ],
        [
         "49",
         "4/9/2025"
        ]
       ],
       "shape": {
        "columns": 1,
        "rows": 141
       }
      },
      "text/plain": [
       "0       4/22/2025\n",
       "1         4/20/25\n",
       "2      2025-05-06\n",
       "3      2025-05-08\n",
       "4         5/11/25\n",
       "          ...    \n",
       "136    2025-05-09\n",
       "137       5/13/25\n",
       "138     5/14/2025\n",
       "139       5/13/25\n",
       "140    2025-05-14\n",
       "Name: Feeding Time Date, Length: 141, dtype: object"
      ]
     },
     "execution_count": 17,
     "metadata": {},
     "output_type": "execute_result"
    }
   ],
   "source": [
    "# Step 1: Extract raw date strings without converting to datetime\n",
    "feeding_dates= df['feeding time'].astype(str).str.extract(\n",
    "    r'(\\d{1,2}/\\d{1,2}/\\d{2,4}|\\d{4}-\\d{1,2}-\\d{1,2})', expand=False\n",
    ")\n",
    "# Assign to new column\n",
    "df['Feeding Time Date'] = feeding_dates\n",
    "\n",
    "# Preview output\n",
    "df['Feeding Time Date']\n"
   ]
  },
  {
   "cell_type": "code",
   "execution_count": 18,
   "id": "343bfc91",
   "metadata": {
    "vscode": {
     "languageId": "ruby"
    }
   },
   "outputs": [
    {
     "data": {
      "application/vnd.microsoft.datawrangler.viewer.v0+json": {
       "columns": [
        {
         "name": "index",
         "rawType": "int64",
         "type": "integer"
        },
        {
         "name": "Feeding Time Date",
         "rawType": "object",
         "type": "unknown"
        }
       ],
       "ref": "9ca6d967-b994-47e9-8ad1-232984a49032",
       "rows": [
        [
         "0",
         "04/22/2025"
        ],
        [
         "1",
         "04/20/2025"
        ],
        [
         "2",
         "05/06/2025"
        ],
        [
         "3",
         "05/08/2025"
        ],
        [
         "4",
         "05/11/2025"
        ],
        [
         "5",
         "05/12/2025"
        ],
        [
         "6",
         "04/10/2025"
        ],
        [
         "7",
         "04/09/2025"
        ],
        [
         "8",
         "04/10/2025"
        ],
        [
         "9",
         "04/11/2025"
        ],
        [
         "10",
         "04/16/2025"
        ],
        [
         "11",
         "04/17/2025"
        ],
        [
         "12",
         "04/21/2025"
        ],
        [
         "13",
         "04/23/2025"
        ],
        [
         "14",
         "04/24/2025"
        ],
        [
         "15",
         "04/23/2025"
        ],
        [
         "16",
         "05/05/2025"
        ],
        [
         "17",
         "05/07/2025"
        ],
        [
         "18",
         "04/09/2025"
        ],
        [
         "19",
         "04/10/2025"
        ],
        [
         "20",
         "04/10/2025"
        ],
        [
         "21",
         null
        ],
        [
         "22",
         "04/15/2025"
        ],
        [
         "23",
         "04/16/2025"
        ],
        [
         "24",
         "04/17/2025"
        ],
        [
         "25",
         "04/16/2025"
        ],
        [
         "26",
         "04/10/2025"
        ],
        [
         "27",
         "04/09/2025"
        ],
        [
         "28",
         "04/10/2025"
        ],
        [
         "29",
         "04/11/2025"
        ],
        [
         "30",
         "04/14/2025"
        ],
        [
         "31",
         null
        ],
        [
         "32",
         "04/13/2025"
        ],
        [
         "33",
         "04/14/2025"
        ],
        [
         "34",
         "04/15/2025"
        ],
        [
         "35",
         "04/15/2025"
        ],
        [
         "36",
         "04/17/2025"
        ],
        [
         "37",
         "04/16/2025"
        ],
        [
         "38",
         "04/20/2025"
        ],
        [
         "39",
         "04/21/2025"
        ],
        [
         "40",
         "04/22/2025"
        ],
        [
         "41",
         "04/23/2025"
        ],
        [
         "42",
         "04/24/2025"
        ],
        [
         "43",
         "04/23/2025"
        ],
        [
         "44",
         "04/20/2025"
        ],
        [
         "45",
         "05/05/2025"
        ],
        [
         "46",
         "05/07/2025"
        ],
        [
         "47",
         "05/08/2025"
        ],
        [
         "48",
         "04/10/2025"
        ],
        [
         "49",
         "04/09/2025"
        ]
       ],
       "shape": {
        "columns": 1,
        "rows": 141
       }
      },
      "text/plain": [
       "0      04/22/2025\n",
       "1      04/20/2025\n",
       "2      05/06/2025\n",
       "3      05/08/2025\n",
       "4      05/11/2025\n",
       "          ...    \n",
       "136    05/09/2025\n",
       "137    05/13/2025\n",
       "138    05/14/2025\n",
       "139    05/13/2025\n",
       "140    05/14/2025\n",
       "Name: Feeding Time Date, Length: 141, dtype: object"
      ]
     },
     "execution_count": 18,
     "metadata": {},
     "output_type": "execute_result"
    }
   ],
   "source": [
    "df[\"Feeding Time Date\"] = df[\"Feeding Time Date\"].astype(str).apply(lambda x: pd.to_datetime(x, errors='coerce')).dt.strftime(\"%m/%d/%Y\")\n",
    "df[\"Feeding Time Date\"]"
   ]
  },
  {
   "cell_type": "code",
   "execution_count": 19,
   "id": "5794dbc4",
   "metadata": {
    "vscode": {
     "languageId": "ruby"
    }
   },
   "outputs": [
    {
     "data": {
      "application/vnd.microsoft.datawrangler.viewer.v0+json": {
       "columns": [
        {
         "name": "index",
         "rawType": "int64",
         "type": "integer"
        },
        {
         "name": "DOL at Feeding Time",
         "rawType": "object",
         "type": "unknown"
        }
       ],
       "ref": "708c3ec9-b355-4b74-8d26-f5333869b87e",
       "rows": [
        [
         "0",
         null
        ],
        [
         "1",
         null
        ],
        [
         "2",
         null
        ],
        [
         "3",
         null
        ],
        [
         "4",
         null
        ],
        [
         "5",
         null
        ],
        [
         "6",
         "DOL 61"
        ],
        [
         "7",
         null
        ],
        [
         "8",
         null
        ],
        [
         "9",
         "DOL 62"
        ],
        [
         "10",
         null
        ],
        [
         "11",
         "DOL 68"
        ],
        [
         "12",
         "DOL 72"
        ],
        [
         "13",
         "DOL 74"
        ],
        [
         "14",
         "DOL 75"
        ],
        [
         "15",
         null
        ],
        [
         "16",
         null
        ],
        [
         "17",
         null
        ],
        [
         "18",
         null
        ],
        [
         "19",
         "DOL 74"
        ],
        [
         "20",
         null
        ],
        [
         "21",
         null
        ],
        [
         "22",
         null
        ],
        [
         "23",
         "DOL 80"
        ],
        [
         "24",
         "DOL 81"
        ],
        [
         "25",
         null
        ],
        [
         "26",
         "DOL 13"
        ],
        [
         "27",
         null
        ],
        [
         "28",
         null
        ],
        [
         "29",
         "DOL 14"
        ],
        [
         "30",
         "DOL 17"
        ],
        [
         "31",
         null
        ],
        [
         "32",
         null
        ],
        [
         "33",
         null
        ],
        [
         "34",
         "DOL 18"
        ],
        [
         "35",
         "DOL 18"
        ],
        [
         "36",
         "DOL 20"
        ],
        [
         "37",
         null
        ],
        [
         "38",
         null
        ],
        [
         "39",
         "DOL 24"
        ],
        [
         "40",
         null
        ],
        [
         "41",
         "DOL 74"
        ],
        [
         "42",
         "DOL 75"
        ],
        [
         "43",
         null
        ],
        [
         "44",
         null
        ],
        [
         "45",
         null
        ],
        [
         "46",
         null
        ],
        [
         "47",
         null
        ],
        [
         "48",
         "DOL 13"
        ],
        [
         "49",
         null
        ]
       ],
       "shape": {
        "columns": 1,
        "rows": 141
       }
      },
      "text/plain": [
       "0      NaN\n",
       "1      NaN\n",
       "2      NaN\n",
       "3      NaN\n",
       "4      NaN\n",
       "      ... \n",
       "136    NaN\n",
       "137    NaN\n",
       "138    NaN\n",
       "139    NaN\n",
       "140    NaN\n",
       "Name: DOL at Feeding Time, Length: 141, dtype: object"
      ]
     },
     "execution_count": 19,
     "metadata": {},
     "output_type": "execute_result"
    }
   ],
   "source": [
    "# Extract \"DOL\" followed by 1 to 3 digits, allowing for optional space (e.g., DOL##, DOL ##, DOL#, DOL #)\n",
    "df['DOL at Feeding Time'] = df['feeding time'].astype(str).str.extract(r'(DOL\\s*\\d{1,3})', expand=False)\n",
    "\n",
    "# Preview extracted values\n",
    "df['DOL at Feeding Time']"
   ]
  },
  {
   "cell_type": "code",
   "execution_count": 20,
   "id": "7d98e016",
   "metadata": {
    "vscode": {
     "languageId": "ruby"
    }
   },
   "outputs": [
    {
     "data": {
      "application/vnd.microsoft.datawrangler.viewer.v0+json": {
       "columns": [
        {
         "name": "index",
         "rawType": "int64",
         "type": "integer"
        },
        {
         "name": "Feeding Time (Raw)",
         "rawType": "object",
         "type": "unknown"
        }
       ],
       "ref": "a886efd0-a6db-4975-9f75-9b2901e94a07",
       "rows": [
        [
         "0",
         null
        ],
        [
         "1",
         null
        ],
        [
         "2",
         "08:56:00"
        ],
        [
         "3",
         "12:03:00"
        ],
        [
         "4",
         null
        ],
        [
         "5",
         "09:01:00"
        ],
        [
         "6",
         "8:52"
        ],
        [
         "7",
         null
        ],
        [
         "8",
         null
        ],
        [
         "9",
         "9:35"
        ],
        [
         "10",
         null
        ],
        [
         "11",
         "11:50"
        ],
        [
         "12",
         "08:45"
        ],
        [
         "13",
         "9:05"
        ],
        [
         "14",
         "8:58"
        ],
        [
         "15",
         null
        ],
        [
         "16",
         null
        ],
        [
         "17",
         null
        ],
        [
         "18",
         null
        ],
        [
         "19",
         "8:25"
        ],
        [
         "20",
         null
        ],
        [
         "21",
         null
        ],
        [
         "22",
         null
        ],
        [
         "23",
         "8:16"
        ],
        [
         "24",
         "05:31"
        ],
        [
         "25",
         null
        ],
        [
         "26",
         "8:36"
        ],
        [
         "27",
         null
        ],
        [
         "28",
         null
        ],
        [
         "29",
         "8:07"
        ],
        [
         "30",
         "8:41"
        ],
        [
         "31",
         "11:02"
        ],
        [
         "32",
         null
        ],
        [
         "33",
         null
        ],
        [
         "34",
         "08:09"
        ],
        [
         "35",
         "10:56"
        ],
        [
         "36",
         "08:38"
        ],
        [
         "37",
         null
        ],
        [
         "38",
         null
        ],
        [
         "39",
         "08:25"
        ],
        [
         "40",
         null
        ],
        [
         "41",
         "8:20"
        ],
        [
         "42",
         "8:04"
        ],
        [
         "43",
         null
        ],
        [
         "44",
         null
        ],
        [
         "45",
         "08:08:00"
        ],
        [
         "46",
         null
        ],
        [
         "47",
         "08:01:00"
        ],
        [
         "48",
         "8:02"
        ],
        [
         "49",
         null
        ]
       ],
       "shape": {
        "columns": 1,
        "rows": 141
       }
      },
      "text/plain": [
       "0           NaN\n",
       "1           NaN\n",
       "2      08:56:00\n",
       "3      12:03:00\n",
       "4           NaN\n",
       "         ...   \n",
       "136    08:30:00\n",
       "137         NaN\n",
       "138       08:11\n",
       "139         NaN\n",
       "140    08:58:00\n",
       "Name: Feeding Time (Raw), Length: 141, dtype: object"
      ]
     },
     "execution_count": 20,
     "metadata": {},
     "output_type": "execute_result"
    }
   ],
   "source": [
    "# Extract time strings from 'feeding time' column\n",
    "# This will match formats like:\n",
    "# - \"##:##\" or \"##:##:##\"\n",
    "# - With optional space after colon (e.g., \"13: 47\")\n",
    "feeding_time_extracted = df['feeding time'].astype(str).str.extract(\n",
    "    r'(\\d{1,2}\\s*:\\s*\\d{2}(?::\\d{2})?)', expand=False\n",
    ")\n",
    "\n",
    "# Assign to new column\n",
    "df['Feeding Time (Raw)'] = feeding_time_extracted\n",
    "\n",
    "# Preview unique extracted values\n",
    "df['Feeding Time (Raw)']\n"
   ]
  },
  {
   "cell_type": "code",
   "execution_count": 21,
   "id": "17bf4a78",
   "metadata": {
    "vscode": {
     "languageId": "ruby"
    }
   },
   "outputs": [
    {
     "data": {
      "application/vnd.microsoft.datawrangler.viewer.v0+json": {
       "columns": [
        {
         "name": "index",
         "rawType": "int64",
         "type": "integer"
        },
        {
         "name": "Feeding Date/Time",
         "rawType": "object",
         "type": "string"
        }
       ],
       "ref": "34662e07-8b38-49e1-9d65-b8e4a867a587",
       "rows": [
        [
         "0",
         "04/22/2025 nan"
        ],
        [
         "1",
         "04/20/2025 nan"
        ],
        [
         "2",
         "05/06/2025 08:56:00"
        ],
        [
         "3",
         "05/08/2025 12:03:00"
        ],
        [
         "4",
         "05/11/2025 nan"
        ],
        [
         "5",
         "05/12/2025 09:01:00"
        ],
        [
         "6",
         "04/10/2025 8:52"
        ],
        [
         "7",
         "04/09/2025 nan"
        ],
        [
         "8",
         "04/10/2025 nan"
        ],
        [
         "9",
         "04/11/2025 9:35"
        ],
        [
         "10",
         "04/16/2025 nan"
        ],
        [
         "11",
         "04/17/2025 11:50"
        ],
        [
         "12",
         "04/21/2025 08:45"
        ],
        [
         "13",
         "04/23/2025 9:05"
        ],
        [
         "14",
         "04/24/2025 8:58"
        ],
        [
         "15",
         "04/23/2025 nan"
        ],
        [
         "16",
         "05/05/2025 nan"
        ],
        [
         "17",
         "05/07/2025 nan"
        ],
        [
         "18",
         "04/09/2025 nan"
        ],
        [
         "19",
         "04/10/2025 8:25"
        ],
        [
         "20",
         "04/10/2025 nan"
        ],
        [
         "21",
         "nan nan"
        ],
        [
         "22",
         "04/15/2025 nan"
        ],
        [
         "23",
         "04/16/2025 8:16"
        ],
        [
         "24",
         "04/17/2025 05:31"
        ],
        [
         "25",
         "04/16/2025 nan"
        ],
        [
         "26",
         "04/10/2025 8:36"
        ],
        [
         "27",
         "04/09/2025 nan"
        ],
        [
         "28",
         "04/10/2025 nan"
        ],
        [
         "29",
         "04/11/2025 8:07"
        ],
        [
         "30",
         "04/14/2025 8:41"
        ],
        [
         "31",
         "nan 11:02"
        ],
        [
         "32",
         "04/13/2025 nan"
        ],
        [
         "33",
         "04/14/2025 nan"
        ],
        [
         "34",
         "04/15/2025 08:09"
        ],
        [
         "35",
         "04/15/2025 10:56"
        ],
        [
         "36",
         "04/17/2025 08:38"
        ],
        [
         "37",
         "04/16/2025 nan"
        ],
        [
         "38",
         "04/20/2025 nan"
        ],
        [
         "39",
         "04/21/2025 08:25"
        ],
        [
         "40",
         "04/22/2025 nan"
        ],
        [
         "41",
         "04/23/2025 8:20"
        ],
        [
         "42",
         "04/24/2025 8:04"
        ],
        [
         "43",
         "04/23/2025 nan"
        ],
        [
         "44",
         "04/20/2025 nan"
        ],
        [
         "45",
         "05/05/2025 08:08:00"
        ],
        [
         "46",
         "05/07/2025 nan"
        ],
        [
         "47",
         "05/08/2025 08:01:00"
        ],
        [
         "48",
         "04/10/2025 8:02"
        ],
        [
         "49",
         "04/09/2025 nan"
        ]
       ],
       "shape": {
        "columns": 1,
        "rows": 141
       }
      },
      "text/plain": [
       "0           04/22/2025 nan\n",
       "1           04/20/2025 nan\n",
       "2      05/06/2025 08:56:00\n",
       "3      05/08/2025 12:03:00\n",
       "4           05/11/2025 nan\n",
       "              ...         \n",
       "136    05/09/2025 08:30:00\n",
       "137         05/13/2025 nan\n",
       "138       05/14/2025 08:11\n",
       "139         05/13/2025 nan\n",
       "140    05/14/2025 08:58:00\n",
       "Name: Feeding Date/Time, Length: 141, dtype: object"
      ]
     },
     "execution_count": 21,
     "metadata": {},
     "output_type": "execute_result"
    }
   ],
   "source": [
    "# Combine 'Feeding Time Date' and 'Feeding Time (Raw)' into one string column\n",
    "df['Feeding Date/Time'] = df['Feeding Time Date'].astype(str).str.strip() + ' ' + df['Feeding Time (Raw)'].astype(str).str.strip()\n",
    "\n",
    "# Preview combined result\n",
    "df['Feeding Date/Time']"
   ]
  },
  {
   "cell_type": "code",
   "execution_count": 22,
   "id": "7b2c84aa",
   "metadata": {
    "vscode": {
     "languageId": "ruby"
    }
   },
   "outputs": [
    {
     "data": {
      "application/vnd.microsoft.datawrangler.viewer.v0+json": {
       "columns": [
        {
         "name": "index",
         "rawType": "int64",
         "type": "integer"
        },
        {
         "name": "Feeding Date/Time",
         "rawType": "object",
         "type": "string"
        }
       ],
       "ref": "7e3ee668-45f9-42b7-b91f-8ed2123d9a62",
       "rows": [
        [
         "0",
         "04/22/2025"
        ],
        [
         "1",
         "04/20/2025"
        ],
        [
         "2",
         "05/06/2025 08:56:00"
        ],
        [
         "3",
         "05/08/2025 12:03:00"
        ],
        [
         "4",
         "05/11/2025"
        ],
        [
         "5",
         "05/12/2025 09:01:00"
        ],
        [
         "6",
         "04/10/2025 8:52"
        ],
        [
         "7",
         "04/09/2025"
        ],
        [
         "8",
         "04/10/2025"
        ],
        [
         "9",
         "04/11/2025 9:35"
        ],
        [
         "10",
         "04/16/2025"
        ],
        [
         "11",
         "04/17/2025 11:50"
        ],
        [
         "12",
         "04/21/2025 08:45"
        ],
        [
         "13",
         "04/23/2025 9:05"
        ],
        [
         "14",
         "04/24/2025 8:58"
        ],
        [
         "15",
         "04/23/2025"
        ],
        [
         "16",
         "05/05/2025"
        ],
        [
         "17",
         "05/07/2025"
        ],
        [
         "18",
         "04/09/2025"
        ],
        [
         "19",
         "04/10/2025 8:25"
        ],
        [
         "20",
         "04/10/2025"
        ],
        [
         "21",
         ""
        ],
        [
         "22",
         "04/15/2025"
        ],
        [
         "23",
         "04/16/2025 8:16"
        ],
        [
         "24",
         "04/17/2025 05:31"
        ],
        [
         "25",
         "04/16/2025"
        ],
        [
         "26",
         "04/10/2025 8:36"
        ],
        [
         "27",
         "04/09/2025"
        ],
        [
         "28",
         "04/10/2025"
        ],
        [
         "29",
         "04/11/2025 8:07"
        ],
        [
         "30",
         "04/14/2025 8:41"
        ],
        [
         "31",
         "11:02"
        ],
        [
         "32",
         "04/13/2025"
        ],
        [
         "33",
         "04/14/2025"
        ],
        [
         "34",
         "04/15/2025 08:09"
        ],
        [
         "35",
         "04/15/2025 10:56"
        ],
        [
         "36",
         "04/17/2025 08:38"
        ],
        [
         "37",
         "04/16/2025"
        ],
        [
         "38",
         "04/20/2025"
        ],
        [
         "39",
         "04/21/2025 08:25"
        ],
        [
         "40",
         "04/22/2025"
        ],
        [
         "41",
         "04/23/2025 8:20"
        ],
        [
         "42",
         "04/24/2025 8:04"
        ],
        [
         "43",
         "04/23/2025"
        ],
        [
         "44",
         "04/20/2025"
        ],
        [
         "45",
         "05/05/2025 08:08:00"
        ],
        [
         "46",
         "05/07/2025"
        ],
        [
         "47",
         "05/08/2025 08:01:00"
        ],
        [
         "48",
         "04/10/2025 8:02"
        ],
        [
         "49",
         "04/09/2025"
        ]
       ],
       "shape": {
        "columns": 1,
        "rows": 141
       }
      },
      "text/plain": [
       "0               04/22/2025\n",
       "1               04/20/2025\n",
       "2      05/06/2025 08:56:00\n",
       "3      05/08/2025 12:03:00\n",
       "4               05/11/2025\n",
       "              ...         \n",
       "136    05/09/2025 08:30:00\n",
       "137             05/13/2025\n",
       "138       05/14/2025 08:11\n",
       "139             05/13/2025\n",
       "140    05/14/2025 08:58:00\n",
       "Name: Feeding Date/Time, Length: 141, dtype: object"
      ]
     },
     "execution_count": 22,
     "metadata": {},
     "output_type": "execute_result"
    }
   ],
   "source": [
    "# Replace the string \"nan\" with empty string\n",
    "df['Feeding Date/Time'] = df['Feeding Date/Time'].str.replace('nan', '', regex=False).str.strip()\n",
    "\n",
    "\n",
    "# Preview combined result\n",
    "df['Feeding Date/Time']"
   ]
  },
  {
   "cell_type": "code",
   "execution_count": 23,
   "id": "3d35d93e",
   "metadata": {
    "vscode": {
     "languageId": "ruby"
    }
   },
   "outputs": [
    {
     "data": {
      "application/vnd.microsoft.datawrangler.viewer.v0+json": {
       "columns": [
        {
         "name": "Feeding Time Period",
         "rawType": "object",
         "type": "unknown"
        },
        {
         "name": "count",
         "rawType": "int64",
         "type": "integer"
        }
       ],
       "ref": "e78ceee4-8cb1-4b71-9e31-cdd17fe6b2df",
       "rows": [
        [
         null,
         "70"
        ],
        [
         "PM",
         "68"
        ],
        [
         "AM",
         "3"
        ]
       ],
       "shape": {
        "columns": 1,
        "rows": 3
       }
      },
      "text/plain": [
       "Feeding Time Period\n",
       "<NA>    70\n",
       "PM      68\n",
       "AM       3\n",
       "Name: count, dtype: int64"
      ]
     },
     "execution_count": 23,
     "metadata": {},
     "output_type": "execute_result"
    }
   ],
   "source": [
    "# Check for PM or AM indicators in the original 'feeding time' column\n",
    "# Convert to uppercase to catch \"pm\", \"PM\", \"Pm\", etc.\n",
    "feeding_pm_flag = df['feeding time'].astype(str).str.upper().str.contains('PM', na=False)\n",
    "feeding_am_flag = df['feeding time'].astype(str).str.upper().str.contains('AM', na=False)\n",
    "\n",
    "# Store PM/AM info in a new column\n",
    "df['Feeding Time Period'] = pd.NA\n",
    "df.loc[feeding_pm_flag, 'Feeding Time Period'] = 'PM'\n",
    "df.loc[feeding_am_flag, 'Feeding Time Period'] = 'AM'\n",
    "\n",
    "# Preview the extracted period flags\n",
    "df['Feeding Time Period'].value_counts(dropna=False)\n"
   ]
  },
  {
   "cell_type": "code",
   "execution_count": 24,
   "id": "7b6b5c40",
   "metadata": {
    "vscode": {
     "languageId": "ruby"
    }
   },
   "outputs": [],
   "source": [
    "### Want to flag the rows where feeding was labled as \"prepped\"\n",
    "\n",
    "df['Is Prepped'] = df['feeding time'].astype(str).str.lower().str.contains('prepped')\n"
   ]
  },
  {
   "cell_type": "code",
   "execution_count": 25,
   "id": "eb131289",
   "metadata": {
    "vscode": {
     "languageId": "ruby"
    }
   },
   "outputs": [],
   "source": [
    "# Milk Prepped Time — only for rows flagged as 'prepped'\n",
    "df['Milk Prepped Time'] = df.loc[df['Is Prepped'], 'Feeding Date/Time']\n",
    "\n",
    "# Feeding Time — only for rows NOT flagged as 'prepped'\n",
    "df['Feeding Time (Final)'] = df.loc[~df['Is Prepped'], 'Feeding Date/Time']"
   ]
  },
  {
   "cell_type": "code",
   "execution_count": 26,
   "id": "4f9a5e7e",
   "metadata": {
    "vscode": {
     "languageId": "ruby"
    }
   },
   "outputs": [
    {
     "data": {
      "application/vnd.microsoft.datawrangler.viewer.v0+json": {
       "columns": [
        {
         "name": "index",
         "rawType": "int64",
         "type": "integer"
        },
        {
         "name": "Subject ID",
         "rawType": "object",
         "type": "string"
        },
        {
         "name": "Sample Type_#",
         "rawType": "object",
         "type": "string"
        },
        {
         "name": "CGA",
         "rawType": "float64",
         "type": "float"
        },
        {
         "name": "DOL",
         "rawType": "float64",
         "type": "float"
        },
        {
         "name": "Current Weight",
         "rawType": "float64",
         "type": "float"
        },
        {
         "name": "Current Height",
         "rawType": "float64",
         "type": "float"
        },
        {
         "name": "Current HC",
         "rawType": "float64",
         "type": "float"
        },
        {
         "name": "Scavenged/Fresh?",
         "rawType": "object",
         "type": "string"
        },
        {
         "name": "MBM/DMB?",
         "rawType": "object",
         "type": "string"
        },
        {
         "name": "HMF Y/N?",
         "rawType": "object",
         "type": "unknown"
        },
        {
         "name": "TPN Y/N?",
         "rawType": "object",
         "type": "unknown"
        },
        {
         "name": "Iron Y/N?",
         "rawType": "object",
         "type": "unknown"
        },
        {
         "name": "Iron Date & time",
         "rawType": "object",
         "type": "unknown"
        },
        {
         "name": "Duration\n(min)",
         "rawType": "object",
         "type": "unknown"
        },
        {
         "name": "Linked?",
         "rawType": "object",
         "type": "string"
        },
        {
         "name": "feeding time",
         "rawType": "object",
         "type": "unknown"
        },
        {
         "name": "Collection date/aliquot time for all samples",
         "rawType": "object",
         "type": "unknown"
        },
        {
         "name": "# Aliquots",
         "rawType": "object",
         "type": "unknown"
        },
        {
         "name": "Additional Comments",
         "rawType": "object",
         "type": "unknown"
        },
        {
         "name": "Milk Prep Room Expiration Date & Time",
         "rawType": "object",
         "type": "unknown"
        },
        {
         "name": "Collection Date",
         "rawType": "object",
         "type": "unknown"
        },
        {
         "name": "DOL at Collection",
         "rawType": "object",
         "type": "unknown"
        },
        {
         "name": "Extracted Raw Time",
         "rawType": "object",
         "type": "string"
        },
        {
         "name": "Collection Date/Time",
         "rawType": "datetime64[ns]",
         "type": "datetime"
        },
        {
         "name": "Feeding Time Date",
         "rawType": "object",
         "type": "unknown"
        },
        {
         "name": "DOL at Feeding Time",
         "rawType": "object",
         "type": "unknown"
        },
        {
         "name": "Feeding Time (Raw)",
         "rawType": "object",
         "type": "unknown"
        },
        {
         "name": "Feeding Date/Time",
         "rawType": "object",
         "type": "string"
        },
        {
         "name": "Feeding Time Period",
         "rawType": "object",
         "type": "unknown"
        },
        {
         "name": "Is Prepped",
         "rawType": "bool",
         "type": "boolean"
        },
        {
         "name": "Milk Prepped Time",
         "rawType": "object",
         "type": "unknown"
        },
        {
         "name": "Feeding Time (Final)",
         "rawType": "object",
         "type": "unknown"
        }
       ],
       "ref": "51549a0c-940a-450e-b53a-2805b3944389",
       "rows": [
        [
         "0",
         "NB00237",
         "NB00237_M_10",
         "35.0",
         "74.0",
         "2440.0",
         "44.0",
         "29.0",
         "Scavenged",
         "MBM",
         "Y",
         "N",
         null,
         null,
         null,
         "Y",
         "Prepped \n4/22/2025 PM",
         "4/23/2025\nDOL 21 11:13",
         "11",
         "Residual from Milk Prep Room",
         null,
         "04/23/2025",
         "DOL 21",
         "11:13",
         "2025-04-23 11:13:00",
         "04/22/2025",
         null,
         null,
         "04/22/2025",
         "PM",
         "True",
         "04/22/2025",
         null
        ],
        [
         "1",
         "NB00237",
         "NB00237_M_8",
         "34.5",
         "72.0",
         "2350.0",
         "43.5",
         "28.5",
         "Scavenged",
         "MBM",
         "Y",
         "N",
         null,
         null,
         null,
         "Y",
         "Prepped 4/20/25 PM",
         "2025-04-21 10:13:00",
         "6",
         "Residual from Milk Prep Room",
         null,
         "04/21/2025",
         null,
         "10:13:00",
         null,
         "04/20/2025",
         null,
         null,
         "04/20/2025",
         "PM",
         "True",
         "04/20/2025",
         null
        ],
        [
         "2",
         "NB00237",
         "NB00237_M_17",
         "36.6",
         "87.0",
         "3010.0",
         "46.1",
         "30.0",
         "Scavenged",
         "MBM",
         "Y",
         "N",
         "Y",
         "2025-05-06 20:57:00",
         "unknown",
         "Y",
         "2025-05-06 08:56:00",
         "2025-05-06 13:47:00",
         "2 (0.5)",
         "Scavenged Feeding Tube",
         "Unknown ",
         "05/06/2025",
         null,
         "13:47:00",
         null,
         "05/06/2025",
         null,
         "08:56:00",
         "05/06/2025 08:56:00",
         null,
         "False",
         null,
         "05/06/2025 08:56:00"
        ],
        [
         "3",
         "NB00237",
         "NB00237_M_19",
         "37.1",
         "89.0",
         "3110.0",
         "46.3",
         "30.5",
         "scavenged ",
         "MBM",
         "Y",
         "N",
         "Y",
         "2025-05-08 20:43:00",
         "45 min",
         "Y",
         "2025-05-08 12:03:00",
         "2025-05-08 14:07:00",
         "3(0.5)",
         "Scavenged Feeding Tube",
         "2025-05-08 16:49:00",
         "05/08/2025",
         null,
         "14:07:00",
         null,
         "05/08/2025",
         null,
         "12:03:00",
         "05/08/2025 12:03:00",
         null,
         "False",
         null,
         "05/08/2025 12:03:00"
        ],
        [
         "4",
         "NB00237",
         "NB00237_M_20",
         "37.5",
         "93.0",
         "3380.0",
         "46.3",
         "30.5",
         "scavenged ",
         "MBM",
         "Y",
         "N",
         null,
         null,
         null,
         "Y",
         "Prepped 5/11/25 PM",
         "2025-05-12 10:58:00",
         "8",
         "Residual from Milk Prep Room",
         null,
         "05/12/2025",
         null,
         "10:58:00",
         null,
         "05/11/2025",
         null,
         null,
         "05/11/2025",
         "PM",
         "True",
         "05/11/2025",
         null
        ],
        [
         "5",
         "NB00237",
         "NB00237_M_21",
         "37.5",
         "93.0",
         "3380.0",
         "46.3",
         "30.5",
         "scavenged ",
         "MBM",
         "Y",
         "N",
         "Y",
         "2025-05-11 21:08:00",
         "30 min",
         "Y",
         "2025-05-12 09:01:00",
         "2025-05-12 10:58:00",
         "1",
         "Scavenged Feeding Tube",
         "2025-05-12 17:26:00",
         "05/12/2025",
         null,
         "10:58:00",
         null,
         "05/12/2025",
         null,
         "09:01:00",
         "05/12/2025 09:01:00",
         null,
         "False",
         null,
         "05/12/2025 09:01:00"
        ],
        [
         "6",
         "NB00237",
         "NB00237_M_3",
         "33.1",
         "61.0",
         "1870.0",
         "43.0",
         "27.0",
         "Scavenged ",
         "MBM",
         "Y",
         "N",
         "Y",
         "4/10/2025\nDOL 61   20:47",
         "?",
         "Y",
         "4/10/2025\nDOL 61   8:52",
         "4/10/2025\nDOL 61 14: 06",
         "2 (0.2)",
         "Scavenged Feeding Tube",
         "2025-04-10 15:18:00",
         "04/10/2025",
         "DOL 61",
         "14:06",
         "2025-04-10 14:06:00",
         "04/10/2025",
         "DOL 61",
         "8:52",
         "04/10/2025 8:52",
         null,
         "False",
         null,
         "04/10/2025 8:52"
        ],
        [
         "7",
         "NB00237",
         "NB00237_M_2",
         "33.1",
         "61.0",
         "1870.0",
         "43.0",
         "27.0",
         "Scavenged ",
         "MBM",
         "Y",
         "N",
         null,
         null,
         null,
         "Y",
         "Prepped 4/9/2025 PM",
         "4/10/2025\nDOL 74 13:15",
         "11",
         "Residual from Milk Prep Room",
         null,
         "04/10/2025",
         "DOL 74",
         "13:15",
         "2025-04-10 13:15:00",
         "04/09/2025",
         null,
         null,
         "04/09/2025",
         "PM",
         "True",
         "04/09/2025",
         null
        ],
        [
         "8",
         "NB00237",
         "NB00237_M_4",
         "33.2",
         "62.0",
         "1910.0",
         "43.0",
         "27.0",
         "Scavenged ",
         "MBM",
         "Y",
         "N",
         null,
         null,
         null,
         "Y",
         "Prepped 4/10/2025 PM",
         "4/11/2025\nDOL 62 10:16",
         "6",
         "Residual from Milk Prep Room",
         null,
         "04/11/2025",
         "DOL 62",
         "10:16",
         "2025-04-11 10:16:00",
         "04/10/2025",
         null,
         null,
         "04/10/2025",
         "PM",
         "True",
         "04/10/2025",
         null
        ],
        [
         "9",
         "NB00237",
         "NB00237_M_5",
         "33.2",
         "62.0",
         "1910.0",
         "43.0",
         "27.0",
         "Scavenged ",
         "MBM",
         "Y",
         "N",
         "Y",
         "4/11/2025\nDOL 62 20:59",
         "?",
         "Y",
         "4/11/2025\nDOL 62 9:35",
         "4/11/2025\nDOL 62 9:47",
         "1",
         "Scavenged Feeding Tube",
         "2025-04-11 15:20:00",
         "04/11/2025",
         "DOL 62",
         "9:47",
         "2025-04-11 09:47:00",
         "04/11/2025",
         "DOL 62",
         "9:35",
         "04/11/2025 9:35",
         null,
         "False",
         null,
         "04/11/2025 9:35"
        ],
        [
         "10",
         "NB00237",
         "NB00237_M_6",
         "34.1",
         "68.0",
         "2110.0",
         "43.5",
         "28.5",
         "Scavenged",
         "MBM",
         "Y",
         "N",
         null,
         null,
         null,
         "Y",
         "Prepped 4/16/2025 PM",
         "4/17/2025 DOL 68 8:39",
         "4",
         "Residual from Milk Prep Room",
         null,
         "04/17/2025",
         "DOL 68",
         "8:39",
         "2025-04-17 08:39:00",
         "04/16/2025",
         null,
         null,
         "04/16/2025",
         "PM",
         "True",
         "04/16/2025",
         null
        ],
        [
         "11",
         "NB00237",
         "NB00237_M_7",
         "34.1",
         "68.0",
         "2110.0",
         "43.5",
         "28.5",
         "Scavenged",
         "MBM",
         "Y",
         "N",
         "Y",
         "04/16/25 \nDOL 67 2146",
         "?",
         "Y",
         "4/17/25 DOL 68 11:50",
         "4/17/25 DOL 68 14:10",
         "1",
         "Scavenged Feeding Tube",
         "2025-04-17 16:04:00",
         "04/17/2025",
         "DOL 68",
         "14:10",
         "2025-04-17 14:10:00",
         "04/17/2025",
         "DOL 68",
         "11:50",
         "04/17/2025 11:50",
         null,
         "False",
         null,
         "04/17/2025 11:50"
        ],
        [
         "12",
         "NB00237",
         "NB00237_M_9",
         "34.5",
         "72.0",
         "2350.0",
         "43.5",
         "28.5",
         "Scavenged",
         "MBM",
         "Y",
         "N",
         "Y",
         "4/20/2025\nDOL 72 21:09",
         "60",
         "Y",
         "4/21/25 DOL 72 08:45",
         "4/21/25 DOL 72 10:30",
         "2",
         "Scavenged Feeding Tube",
         "2025-04-21 16:50:00",
         "04/21/2025",
         "DOL 72",
         "10:30",
         "2025-04-21 10:30:00",
         "04/21/2025",
         "DOL 72",
         "08:45",
         "04/21/2025 08:45",
         null,
         "False",
         null,
         "04/21/2025 08:45"
        ],
        [
         "13",
         "NB00237",
         "NB00237_M_11",
         "35.0",
         "74.0",
         "2440.0",
         "44.0",
         "29.0",
         "Scavenged",
         "MBM",
         "Y",
         "N",
         "Y",
         "4/23/2025\nDOL 74 20:48",
         "45",
         "Y",
         "4/23/2025\nDOL 74 9:05",
         "4/23/2025\nDOL 74 18:35",
         "1",
         "Scavenged Feeding Tube",
         "2025-04-22 15:51:00",
         "04/23/2025",
         "DOL 74",
         "18:35",
         "2025-04-23 18:35:00",
         "04/23/2025",
         "DOL 74",
         "9:05",
         "04/23/2025 9:05",
         null,
         "False",
         null,
         "04/23/2025 9:05"
        ],
        [
         "14",
         "NB00237",
         "NB00237_M_13",
         "35.1",
         "75.0",
         "2500.0",
         "44.0",
         "29.0",
         "Scavenged",
         "MBM",
         "Y",
         "N",
         "Y",
         "4/24/2025\nDOL 75 21:02",
         "30",
         "Y",
         "4/24/2025\nDOL 75 8:58",
         "4/24/2025\nDOL 75 10:53",
         "1",
         "Scavenged Feeding Tube",
         "2025-04-24 15:57:00",
         "04/24/2025",
         "DOL 75",
         "10:53",
         "2025-04-24 10:53:00",
         "04/24/2025",
         "DOL 75",
         "8:58",
         "04/24/2025 8:58",
         null,
         "False",
         null,
         "04/24/2025 8:58"
        ],
        [
         "15",
         "NB00237",
         "NB00237_M_12",
         "35.1",
         "75.0",
         "2500.0",
         "44.0",
         "29.0",
         "Scavenged",
         "MBM",
         "Y",
         "N",
         null,
         null,
         null,
         "Y",
         "Prepped \n4/23/2025 PM",
         "4/24/2025\nDOL 75 8:33",
         "5",
         "Residual from Milk Prep Room",
         null,
         "04/24/2025",
         "DOL 75",
         "8:33",
         "2025-04-24 08:33:00",
         "04/23/2025",
         null,
         null,
         "04/23/2025",
         "PM",
         "True",
         "04/23/2025",
         null
        ],
        [
         "16",
         "NB00237",
         "NB00237_M_16",
         "36.6",
         "87.0",
         "3010.0",
         "46.1",
         "30.0",
         "Scavenged",
         "MBM",
         "Y",
         "N",
         null,
         null,
         null,
         "Y",
         "Prepped 5/5/25 PM",
         "5/6/2025 DOL 31 12:56",
         "10",
         "Residual from Milk Prep Room",
         null,
         "05/06/2025",
         "DOL 31",
         "12:56",
         "2025-05-06 12:56:00",
         "05/05/2025",
         null,
         null,
         "05/05/2025",
         "PM",
         "True",
         "05/05/2025",
         null
        ],
        [
         "17",
         "NB00237",
         "NB00237_M_18",
         "37.1",
         "89.0",
         "3110.0",
         "46.3",
         "30.5",
         "scavenged ",
         "MBM",
         "Y",
         "N",
         null,
         null,
         null,
         "Y",
         "Prepped 5/7/25 PM",
         "5/8/2025/1:53:00 PM",
         "7",
         "Residual from Milk Prep Room",
         null,
         "05/08/2025",
         null,
         "13:53",
         "2025-05-08 13:53:00",
         "05/07/2025",
         null,
         null,
         "05/07/2025",
         "PM",
         "True",
         "05/07/2025",
         null
        ],
        [
         "18",
         "NB00238",
         "NB00238_M_2",
         "35.6",
         "74.0",
         "1950.0",
         "38.5",
         "28.3",
         "Scavenged ",
         "MBM",
         "Y",
         "Y",
         null,
         null,
         null,
         "Y",
         "Prepped 4/9/2025 PM",
         "4/10/2025\nDOL 74 13: 01",
         "2",
         "Residual from Milk Prep Room",
         null,
         "04/10/2025",
         "DOL 74",
         "13:01",
         "2025-04-10 13:01:00",
         "04/09/2025",
         null,
         null,
         "04/09/2025",
         "PM",
         "True",
         "04/09/2025",
         null
        ],
        [
         "19",
         "NB00238",
         "NB00238_M_3",
         "35.6",
         "74.0",
         "1950.0",
         "38.5",
         "28.3",
         "Scavenged ",
         "MBM",
         "Y",
         "Y",
         "Y",
         "4/10/2025\nDOL 74 20:39",
         null,
         "Y",
         "4/10/2025\nDOL 74 8:25",
         "4/10/2025\nDOL 74 14: 04",
         "1",
         "Scavenged Feeding Tube",
         "2025-04-10 15:46:00",
         "04/10/2025",
         "DOL 74",
         "14:04",
         "2025-04-10 14:04:00",
         "04/10/2025",
         "DOL 74",
         "8:25",
         "04/10/2025 8:25",
         null,
         "False",
         null,
         "04/10/2025 8:25"
        ],
        [
         "20",
         "NB00238",
         "NB00238_M_4",
         "36.0",
         "75.0",
         "1960.0",
         "41.0",
         "29.3",
         "Scavenged ",
         "MBM",
         "Y",
         "Y",
         null,
         null,
         null,
         "Y",
         "Prepped 4/10/2025 PM",
         "4/11/2025\nDOL 75 8:45",
         "7",
         "Residual from Milk Prep Room",
         null,
         "04/11/2025",
         "DOL 75",
         "8:45",
         "2025-04-11 08:45:00",
         "04/10/2025",
         null,
         null,
         "04/10/2025",
         "PM",
         "True",
         "04/10/2025",
         null
        ],
        [
         "21",
         "NB00238",
         "NB00238_M_5",
         "36.0",
         "75.0",
         "1960.0",
         "41.0",
         "29.3",
         "Scavenged ",
         "MBM",
         "Y",
         "Y",
         "Y",
         "4/11/2025\nDOL 75 20:58",
         null,
         "Y",
         "AM feed",
         "4/11/2025\nDOL 75 9:52",
         "2 (0.8)",
         "Scavenged Feeding Tube",
         "2025-04-11 16:21:00",
         "04/11/2025",
         "DOL 75",
         "9:52",
         "2025-04-11 09:52:00",
         null,
         null,
         null,
         "",
         "AM",
         "False",
         null,
         ""
        ],
        [
         "22",
         "NB00238",
         "NB00238_M_6",
         "36.5",
         "80.0",
         "2090.0",
         "41.0",
         "29.3",
         "Scavenged ",
         "MBM",
         "Y",
         "Y",
         null,
         null,
         null,
         "Y",
         "Prepped 4/15/2025 PM",
         "4/16/2025 \nDOL 80 11:15",
         "5",
         "Residual from Milk Prep Room",
         null,
         "04/16/2025",
         "DOL 80",
         "11:15",
         "2025-04-16 11:15:00",
         "04/15/2025",
         null,
         null,
         "04/15/2025",
         "PM",
         "True",
         "04/15/2025",
         null
        ],
        [
         "23",
         "NB00238",
         "NB00238_M_7",
         "36.5",
         "80.0",
         "2090.0",
         "41.0",
         "29.3",
         "Scavenged ",
         "MBM",
         "Y",
         "Y",
         "Y",
         "4/16/2025 \nDOL 80 20:26",
         null,
         "Y",
         "4/16/2025 \nDOL 80 8:16",
         "4/16/2025 \nDOL 80 11:30",
         "1",
         "Scavenged Feeding Tube",
         "2025-04-16 17:04:00",
         "04/16/2025",
         "DOL 80",
         "11:30",
         "2025-04-16 11:30:00",
         "04/16/2025",
         "DOL 80",
         "8:16",
         "04/16/2025 8:16",
         null,
         "False",
         null,
         "04/16/2025 8:16"
        ],
        [
         "24",
         "NB00238",
         "NB00238_M_9",
         "36.6",
         "81.0",
         "2090.0",
         "41.0",
         "29.3",
         "Scavenged",
         "MBM",
         "Y",
         "Y",
         "Y",
         "4/16/2025 DOL 20  20:26 ",
         null,
         "Y",
         "4/17/2025 \nDOL 81 05:31",
         "4/17/2025 \nDOL81 09:17",
         "1 (0.3)",
         "Scavenged Feeding Tube",
         "2025-04-17 14:13:00",
         "04/17/2025",
         "DOL81",
         "09:17",
         "2025-04-17 09:17:00",
         "04/17/2025",
         "DOL 81",
         "05:31",
         "04/17/2025 05:31",
         null,
         "False",
         null,
         "04/17/2025 05:31"
        ],
        [
         "25",
         "NB00238",
         "NB00238_M_8",
         "36.6",
         "81.0",
         "2090.0",
         "41.0",
         "29.3",
         "Scavenged",
         "MBM",
         "Y",
         "Y",
         null,
         null,
         null,
         "Y",
         "Prepped 4/16/2025 PM",
         "4/17/25\n DOL 81 9:21",
         "6",
         "Residual from Milk Prep Room",
         null,
         "04/17/2025",
         "DOL 81",
         "9:21",
         "2025-04-17 09:21:00",
         "04/16/2025",
         null,
         null,
         "04/16/2025",
         "PM",
         "True",
         "04/16/2025",
         null
        ],
        [
         "26",
         "NB00354",
         "NB00354_M_4",
         "29.5",
         "13.0",
         "1000.0",
         "34.0",
         "34.5",
         "Scavenged ",
         "MBM",
         "Y",
         "N",
         "N",
         "N",
         null,
         "Y",
         "4/10/2025\nDOL 13 8:36",
         "4/10/2025\nDOL 13 14: 11",
         "1",
         "Scavenged Feeding Tube",
         "2025-04-10 15:37:00",
         "04/10/2025",
         "DOL 13",
         "14:11",
         "2025-04-10 14:11:00",
         "04/10/2025",
         "DOL 13",
         "8:36",
         "04/10/2025 8:36",
         null,
         "False",
         null,
         "04/10/2025 8:36"
        ],
        [
         "27",
         "NB00354",
         "NB00354_M_3",
         "29.5",
         "13.0",
         "1000.0",
         "34.0",
         "34.5",
         "Scavenged ",
         "MBM",
         "Y",
         "N",
         null,
         null,
         null,
         "Y",
         "Prepped 4/9/2025 PM",
         "4/10/2025\nDOL 74 13: 07",
         "5",
         "Residual from Milk Prep Room",
         null,
         "04/10/2025",
         "DOL 74",
         "13:07",
         "2025-04-10 13:07:00",
         "04/09/2025",
         null,
         null,
         "04/09/2025",
         "PM",
         "True",
         "04/09/2025",
         null
        ],
        [
         "28",
         "NB00354",
         "NB00354_M_5",
         "29.6",
         "14.0",
         "1015.0",
         "34.0",
         "34.5",
         "Scavenged ",
         "MBM",
         "Y",
         "N",
         null,
         null,
         null,
         "Y",
         "Prepped 4/10/2025 PM",
         "4/11/2025\nDOL 14 10:06",
         "8",
         "Residual from Milk Prep Room",
         null,
         "04/11/2025",
         "DOL 14",
         "10:06",
         "2025-04-11 10:06:00",
         "04/10/2025",
         null,
         null,
         "04/10/2025",
         "PM",
         "True",
         "04/10/2025",
         null
        ],
        [
         "29",
         "NB00354",
         "NB00354_M_6",
         "29.6",
         "14.0",
         "1015.0",
         "34.0",
         "34.5",
         "Scavenged ",
         "MBM",
         "Y",
         "N",
         "Y",
         "4/11/2025\nDOL 14 20:11",
         null,
         "Y",
         "4/11/2025\nDOL 14 8:07",
         "4/11/2025\nDOL 14 9:34",
         "2",
         "Scavenged Feeding Tube",
         "2025-04-11 16:00:00",
         "04/11/2025",
         "DOL 14",
         "9:34",
         "2025-04-11 09:34:00",
         "04/11/2025",
         "DOL 14",
         "8:07",
         "04/11/2025 8:07",
         null,
         "False",
         null,
         "04/11/2025 8:07"
        ],
        [
         "30",
         "NB00354",
         "NB00354_M_8",
         "30.2",
         "17.0",
         "1095.0",
         "35.2",
         "24.1",
         "Scavenged ",
         "MBM",
         "Y",
         "N",
         "Y",
         "4/13/2025 DOL 17 20:16",
         null,
         "Y",
         "4/14/2025\nDOL 17 8:41",
         "4/14/2025\nDOL 17 10:20",
         "1",
         "Scavenged Feeding Tube",
         "2025-04-14 16:39:00",
         "04/14/2025",
         "DOL 17",
         "10:20",
         "2025-04-14 10:20:00",
         "04/14/2025",
         "DOL 17",
         "8:41",
         "04/14/2025 8:41",
         null,
         "False",
         null,
         "04/14/2025 8:41"
        ],
        [
         "31",
         "NB00354",
         "NB00354_M_9",
         "30.2",
         "17.0",
         "1095.0",
         "35.2",
         "24.1",
         "Scavenged ",
         "MBM",
         "Y",
         "N",
         "Y",
         "4/13/2025 DOL 17 20:16",
         null,
         "Y",
         "AM feed 11:02",
         "4/14/2025\nDOL 17 12:32",
         "1",
         "Scavenged Feeding Tube",
         "2025-04-14 16:39:00",
         "04/14/2025",
         "DOL 17",
         "12:32",
         "2025-04-14 12:32:00",
         null,
         null,
         "11:02",
         "11:02",
         "AM",
         "False",
         null,
         "11:02"
        ],
        [
         "32",
         "NB00354",
         "NB00354_M_7",
         "30.2",
         "17.0",
         "1095.0",
         "35.2",
         "24.1",
         "Scavenged ",
         "MBM",
         "Y",
         "N",
         null,
         null,
         null,
         "Y",
         "Prepped \n4/13/2025 PM",
         "4/14/2025 \nDOL 17 8:47",
         "5 (0.8)",
         "Residual from Milk Prep Room",
         null,
         "04/14/2025",
         "DOL 17",
         "8:47",
         "2025-04-14 08:47:00",
         "04/13/2025",
         null,
         null,
         "04/13/2025",
         "PM",
         "True",
         "04/13/2025",
         null
        ],
        [
         "33",
         "NB00354",
         "NB00354_M_10",
         "30.3",
         "18.0",
         "1125.0",
         "35.2",
         "24.1",
         "Scavenged",
         "MBM",
         "Y",
         "N",
         null,
         null,
         null,
         "Y",
         "Prepped 4/14/2025  PM",
         "4/15/2025 DOL 18 07:45",
         "4 (0.3)",
         "Residual from Milk Prep Room",
         null,
         "04/15/2025",
         "DOL 18",
         "07:45",
         "2025-04-15 07:45:00",
         "04/14/2025",
         null,
         null,
         "04/14/2025",
         "PM",
         "True",
         "04/14/2025",
         null
        ],
        [
         "34",
         "NB00354",
         "NB00354_M_11",
         "30.3",
         "18.0",
         "1125.0",
         "35.2",
         "24.1",
         "Scavenged",
         "MBM",
         "Y",
         "N",
         "Y",
         "4/14/2025 DOL 17 20:02",
         null,
         "Y",
         "4/15/2025 DOL 18 08:09",
         "4/15/2025 DOL 18 09:35",
         "1",
         "Scavenged Feeding Tube",
         "2025-04-15 17:13:00",
         "04/15/2025",
         "DOL 18",
         "09:35",
         "2025-04-15 09:35:00",
         "04/15/2025",
         "DOL 18",
         "08:09",
         "04/15/2025 08:09",
         null,
         "False",
         null,
         "04/15/2025 08:09"
        ],
        [
         "35",
         "NB00354",
         "NB00354_M_12",
         "30.3",
         "18.0",
         "1125.0",
         "35.2",
         "24.1",
         "Scavenged",
         "MBM",
         "Y",
         "N",
         "Y",
         "4/14/2025 DOL 18 20:02",
         null,
         "Y",
         "4/15/2025 DOL 18 10:56",
         "4/15/2025 DOL 18 12:13",
         "2 (0.3)",
         "Scavenged Feeding Tube",
         "Unknown ",
         "04/15/2025",
         "DOL 18",
         "12:13",
         "2025-04-15 12:13:00",
         "04/15/2025",
         "DOL 18",
         "10:56",
         "04/15/2025 10:56",
         null,
         "False",
         null,
         "04/15/2025 10:56"
        ],
        [
         "36",
         "NB00354",
         "NB00354_M_15",
         "30.5",
         "20.0",
         "1205.0",
         "36.5",
         "25.5",
         "Scavenged",
         "MBM",
         "Y",
         "N",
         "Y",
         "4/16/2025 DOL 20 20:24",
         null,
         "Y",
         "4/17/2025 DOL 20 08:38",
         "4/17/2025 DOL 20 14:15",
         "2 (0.4)",
         "Scavenged Feeding Tube",
         "2025-04-17 16:04:00",
         "04/17/2025",
         "DOL 20",
         "14:15",
         "2025-04-17 14:15:00",
         "04/17/2025",
         "DOL 20",
         "08:38",
         "04/17/2025 08:38",
         null,
         "False",
         null,
         "04/17/2025 08:38"
        ],
        [
         "37",
         "NB00354",
         "NB00354_M_14",
         "30.5",
         "20.0",
         "1205.0",
         "36.5",
         "25.5",
         "Scavenged",
         "MBM",
         "Y",
         "N",
         null,
         null,
         null,
         "Y",
         "Prepped 4/16/2025 PM",
         "4/17/2025 DOL 20 8:35",
         "7",
         "Residual from Milk Prep Room",
         null,
         "04/17/2025",
         "DOL 20",
         "8:35",
         "2025-04-17 08:35:00",
         "04/16/2025",
         null,
         null,
         "04/16/2025",
         "PM",
         "True",
         "04/16/2025",
         null
        ],
        [
         "38",
         "NB00354",
         "NB00354_M_16",
         "31.2",
         "24.0",
         "1305.0",
         "36.5",
         "26.0",
         "Scavenged",
         "MBM",
         "Y",
         null,
         null,
         null,
         null,
         "Y",
         "Prepped 4/20/25 PM",
         "4/21/2025 DOL 24 10:00:00 AM",
         "5",
         "Residual from Milk Prep Room",
         null,
         "04/21/2025",
         "DOL 24",
         "10:00:00",
         null,
         "04/20/2025",
         null,
         null,
         "04/20/2025",
         "PM",
         "True",
         "04/20/2025",
         null
        ],
        [
         "39",
         "NB00354",
         "NB00354_M_17",
         "31.2",
         "24.0",
         "1305.0",
         "36.5",
         "26.0",
         "Scavenged",
         "MBM",
         "Y",
         "N",
         "Y",
         "4/20/2025  2009",
         null,
         "Y",
         "4/21/25 DOL 24 08:25",
         "4/21/2025 DOL 24 10:20",
         "1",
         "Scavenged Feeding Tube",
         "2025-04-21 17:14:00",
         "04/21/2025",
         "DOL 24",
         "10:20",
         "2025-04-21 10:20:00",
         "04/21/2025",
         "DOL 24",
         "08:25",
         "04/21/2025 08:25",
         null,
         "False",
         null,
         "04/21/2025 08:25"
        ],
        [
         "40",
         "NB00354",
         "NB00354_M_18",
         "31.4",
         "26.0",
         "1415.0",
         "36.5",
         "26.0",
         "Scavenged",
         "MBM",
         "Y",
         "N",
         null,
         null,
         "45",
         "Y",
         "Prepped \n4/22/2025 PM",
         "4/23/2025\nDOL 21 11:13",
         "5",
         "Residual from Milk Prep Room",
         null,
         "04/23/2025",
         "DOL 21",
         "11:13",
         "2025-04-23 11:13:00",
         "04/22/2025",
         null,
         null,
         "04/22/2025",
         "PM",
         "True",
         "04/22/2025",
         null
        ],
        [
         "41",
         "NB00354",
         "NB00354_M_19",
         "31.4",
         "26.0",
         "1415.0",
         "36.5",
         "26.0",
         "Scavenged",
         "MBM",
         "Y",
         "N",
         "Y",
         "4/23/2025\nDOL 74 20:16",
         "45",
         "Y",
         "4/23/2025\nDOL 74 8:20",
         "4/23/2025\nDOL 74 18:33",
         "1",
         "Scavenged Feeding Tube",
         "2025-04-23 16:14:00",
         "04/23/2025",
         "DOL 74",
         "18:33",
         "2025-04-23 18:33:00",
         "04/23/2025",
         "DOL 74",
         "8:20",
         "04/23/2025 8:20",
         null,
         "False",
         null,
         "04/23/2025 8:20"
        ],
        [
         "42",
         "NB00354",
         "NB00354_M_21",
         "31.5",
         "27.0",
         "1475.0",
         "36.5",
         "26.0",
         "Scavenged",
         "MBM",
         "Y",
         "N",
         "Y",
         "4/24/2025\nDOL 27 20:08",
         "45",
         "Y",
         "4/24/2025\nDOL 75 8:04",
         "4/24/2025\nDOL 27 10:50",
         "1",
         "Scavenged Feeding Tube",
         "2025-04-25 16:22:00",
         "04/24/2025",
         "DOL 27",
         "10:50",
         "2025-04-24 10:50:00",
         "04/24/2025",
         "DOL 75",
         "8:04",
         "04/24/2025 8:04",
         null,
         "False",
         null,
         "04/24/2025 8:04"
        ],
        [
         "43",
         "NB00354",
         "NB00354_M_20",
         "31.5",
         "27.0",
         "1475.0",
         "36.5",
         "26.0",
         "Scavenged",
         "MBM",
         "Y",
         "N",
         null,
         null,
         "45",
         "Y",
         "Prepped \n4/23/2025 PM",
         "4/24/2025\nDOL 27 8:22",
         "11",
         "Residual from Milk Prep Room",
         null,
         "04/24/2025",
         "DOL 27",
         "8:22",
         "2025-04-24 08:22:00",
         "04/23/2025",
         null,
         null,
         "04/23/2025",
         "PM",
         "True",
         "04/23/2025",
         null
        ],
        [
         "44",
         "NB00359",
         "NB00359_M_14",
         "33.5",
         "24.0",
         "1720.0",
         "40.0",
         "28.0",
         "Scavenged",
         "MBM",
         "Y",
         null,
         null,
         null,
         null,
         "Y",
         "Prepped 4/20/25 PM",
         "2025-04-21 10:05:00",
         "3",
         "Residual from Milk Prep Room",
         null,
         "04/21/2025",
         null,
         "10:05:00",
         null,
         "04/20/2025",
         null,
         null,
         "04/20/2025",
         "PM",
         "True",
         "04/20/2025",
         null
        ],
        [
         "45",
         "NB00359",
         "NB00359_M_17",
         "35.5",
         "38.0",
         "2045.0",
         "42.0",
         "29.5",
         "Scavenged",
         "MBM",
         "Y",
         "N",
         "Y",
         "2025-05-05 08:11:00",
         "unknown",
         "Y",
         "2025-05-05 08:08:00",
         "2025-05-05 13:42:00",
         "2 (0.3)",
         "Scavenged Feeding Tube",
         "2025-05-05 17:02:00",
         "05/05/2025",
         null,
         "13:42:00",
         null,
         "05/05/2025",
         null,
         "08:08:00",
         "05/05/2025 08:08:00",
         null,
         "False",
         null,
         "05/05/2025 08:08:00"
        ],
        [
         "46",
         "NB00359",
         "NB00359_M_18",
         "36.1",
         "41.0",
         "2195.0",
         "43.0",
         "30.5",
         "scavenged ",
         "MBM",
         "Y",
         null,
         null,
         null,
         null,
         "Y",
         "Prepped 5/7/25 PM",
         "2025-05-08 13:47:00",
         "7(0.5)",
         "Residual from Milk Prep Room",
         null,
         "05/08/2025",
         null,
         "13:47:00",
         null,
         "05/07/2025",
         null,
         null,
         "05/07/2025",
         "PM",
         "True",
         "05/07/2025",
         null
        ],
        [
         "47",
         "NB00359",
         "NB00359_M_19",
         "36.1",
         "41.0",
         "2195.0",
         "43.0",
         "30.5",
         "scavenged ",
         "MBM",
         "Y",
         "N",
         "Y",
         "2025-05-08 08:01:00",
         "unknown",
         "Y",
         "2025-05-08 08:01:00",
         "2025-05-08 14:13:00",
         "1",
         "Scavenged Feeding Tube",
         "17:29:00",
         "05/08/2025",
         null,
         "14:13:00",
         null,
         "05/08/2025",
         null,
         "08:01:00",
         "05/08/2025 08:01:00",
         null,
         "False",
         null,
         "05/08/2025 08:01:00"
        ],
        [
         "48",
         "NB00359",
         "NB00359_M_6",
         "32.1",
         "13.0",
         "1280.0",
         "39.0",
         "26.0",
         "Scavenged ",
         "MBM",
         "Y",
         "N",
         "N",
         null,
         null,
         "Y",
         "4/10/2025\nDOL 13 8:02",
         "4/10/2025\nDOL 13 14: 08",
         "1  (0.3)",
         "Scavenged Feeding Tube",
         "2025-04-10 16:19:00",
         "04/10/2025",
         "DOL 13",
         "14:08",
         "2025-04-10 14:08:00",
         "04/10/2025",
         "DOL 13",
         "8:02",
         "04/10/2025 8:02",
         null,
         "False",
         null,
         "04/10/2025 8:02"
        ],
        [
         "49",
         "NB00359",
         "NB00359_M_5",
         "32.1",
         "13.0",
         "1280.0",
         "39.0",
         "26.0",
         "Scavenged ",
         "MBM",
         "Y",
         "N",
         "N",
         null,
         null,
         "Y",
         "Prepped 4/9/2025 PM",
         "4/10/2025\nDOL 74 13: 09",
         "6 (1.2)",
         "Residual from Milk Prep Room",
         null,
         "04/10/2025",
         "DOL 74",
         "13:09",
         "2025-04-10 13:09:00",
         "04/09/2025",
         null,
         null,
         "04/09/2025",
         "PM",
         "True",
         "04/09/2025",
         null
        ]
       ],
       "shape": {
        "columns": 32,
        "rows": 141
       }
      },
      "text/html": [
       "<div>\n",
       "<style scoped>\n",
       "    .dataframe tbody tr th:only-of-type {\n",
       "        vertical-align: middle;\n",
       "    }\n",
       "\n",
       "    .dataframe tbody tr th {\n",
       "        vertical-align: top;\n",
       "    }\n",
       "\n",
       "    .dataframe thead th {\n",
       "        text-align: right;\n",
       "    }\n",
       "</style>\n",
       "<table border=\"1\" class=\"dataframe\">\n",
       "  <thead>\n",
       "    <tr style=\"text-align: right;\">\n",
       "      <th></th>\n",
       "      <th>Subject ID</th>\n",
       "      <th>Sample Type_#</th>\n",
       "      <th>CGA</th>\n",
       "      <th>DOL</th>\n",
       "      <th>Current Weight</th>\n",
       "      <th>Current Height</th>\n",
       "      <th>Current HC</th>\n",
       "      <th>Scavenged/Fresh?</th>\n",
       "      <th>MBM/DMB?</th>\n",
       "      <th>HMF Y/N?</th>\n",
       "      <th>...</th>\n",
       "      <th>Extracted Raw Time</th>\n",
       "      <th>Collection Date/Time</th>\n",
       "      <th>Feeding Time Date</th>\n",
       "      <th>DOL at Feeding Time</th>\n",
       "      <th>Feeding Time (Raw)</th>\n",
       "      <th>Feeding Date/Time</th>\n",
       "      <th>Feeding Time Period</th>\n",
       "      <th>Is Prepped</th>\n",
       "      <th>Milk Prepped Time</th>\n",
       "      <th>Feeding Time (Final)</th>\n",
       "    </tr>\n",
       "  </thead>\n",
       "  <tbody>\n",
       "    <tr>\n",
       "      <th>0</th>\n",
       "      <td>NB00237</td>\n",
       "      <td>NB00237_M_10</td>\n",
       "      <td>35.0</td>\n",
       "      <td>74.0</td>\n",
       "      <td>2440.0</td>\n",
       "      <td>44.0</td>\n",
       "      <td>29.0</td>\n",
       "      <td>Scavenged</td>\n",
       "      <td>MBM</td>\n",
       "      <td>Y</td>\n",
       "      <td>...</td>\n",
       "      <td>11:13</td>\n",
       "      <td>2025-04-23 11:13:00</td>\n",
       "      <td>04/22/2025</td>\n",
       "      <td>NaN</td>\n",
       "      <td>NaN</td>\n",
       "      <td>04/22/2025</td>\n",
       "      <td>PM</td>\n",
       "      <td>True</td>\n",
       "      <td>04/22/2025</td>\n",
       "      <td>NaN</td>\n",
       "    </tr>\n",
       "    <tr>\n",
       "      <th>1</th>\n",
       "      <td>NB00237</td>\n",
       "      <td>NB00237_M_8</td>\n",
       "      <td>34.5</td>\n",
       "      <td>72.0</td>\n",
       "      <td>2350.0</td>\n",
       "      <td>43.5</td>\n",
       "      <td>28.5</td>\n",
       "      <td>Scavenged</td>\n",
       "      <td>MBM</td>\n",
       "      <td>Y</td>\n",
       "      <td>...</td>\n",
       "      <td>10:13:00</td>\n",
       "      <td>NaT</td>\n",
       "      <td>04/20/2025</td>\n",
       "      <td>NaN</td>\n",
       "      <td>NaN</td>\n",
       "      <td>04/20/2025</td>\n",
       "      <td>PM</td>\n",
       "      <td>True</td>\n",
       "      <td>04/20/2025</td>\n",
       "      <td>NaN</td>\n",
       "    </tr>\n",
       "    <tr>\n",
       "      <th>2</th>\n",
       "      <td>NB00237</td>\n",
       "      <td>NB00237_M_17</td>\n",
       "      <td>36.6</td>\n",
       "      <td>87.0</td>\n",
       "      <td>3010.0</td>\n",
       "      <td>46.1</td>\n",
       "      <td>30.0</td>\n",
       "      <td>Scavenged</td>\n",
       "      <td>MBM</td>\n",
       "      <td>Y</td>\n",
       "      <td>...</td>\n",
       "      <td>13:47:00</td>\n",
       "      <td>NaT</td>\n",
       "      <td>05/06/2025</td>\n",
       "      <td>NaN</td>\n",
       "      <td>08:56:00</td>\n",
       "      <td>05/06/2025 08:56:00</td>\n",
       "      <td>&lt;NA&gt;</td>\n",
       "      <td>False</td>\n",
       "      <td>NaN</td>\n",
       "      <td>05/06/2025 08:56:00</td>\n",
       "    </tr>\n",
       "    <tr>\n",
       "      <th>3</th>\n",
       "      <td>NB00237</td>\n",
       "      <td>NB00237_M_19</td>\n",
       "      <td>37.1</td>\n",
       "      <td>89.0</td>\n",
       "      <td>3110.0</td>\n",
       "      <td>46.3</td>\n",
       "      <td>30.5</td>\n",
       "      <td>scavenged</td>\n",
       "      <td>MBM</td>\n",
       "      <td>Y</td>\n",
       "      <td>...</td>\n",
       "      <td>14:07:00</td>\n",
       "      <td>NaT</td>\n",
       "      <td>05/08/2025</td>\n",
       "      <td>NaN</td>\n",
       "      <td>12:03:00</td>\n",
       "      <td>05/08/2025 12:03:00</td>\n",
       "      <td>&lt;NA&gt;</td>\n",
       "      <td>False</td>\n",
       "      <td>NaN</td>\n",
       "      <td>05/08/2025 12:03:00</td>\n",
       "    </tr>\n",
       "    <tr>\n",
       "      <th>4</th>\n",
       "      <td>NB00237</td>\n",
       "      <td>NB00237_M_20</td>\n",
       "      <td>37.5</td>\n",
       "      <td>93.0</td>\n",
       "      <td>3380.0</td>\n",
       "      <td>46.3</td>\n",
       "      <td>30.5</td>\n",
       "      <td>scavenged</td>\n",
       "      <td>MBM</td>\n",
       "      <td>Y</td>\n",
       "      <td>...</td>\n",
       "      <td>10:58:00</td>\n",
       "      <td>NaT</td>\n",
       "      <td>05/11/2025</td>\n",
       "      <td>NaN</td>\n",
       "      <td>NaN</td>\n",
       "      <td>05/11/2025</td>\n",
       "      <td>PM</td>\n",
       "      <td>True</td>\n",
       "      <td>05/11/2025</td>\n",
       "      <td>NaN</td>\n",
       "    </tr>\n",
       "    <tr>\n",
       "      <th>...</th>\n",
       "      <td>...</td>\n",
       "      <td>...</td>\n",
       "      <td>...</td>\n",
       "      <td>...</td>\n",
       "      <td>...</td>\n",
       "      <td>...</td>\n",
       "      <td>...</td>\n",
       "      <td>...</td>\n",
       "      <td>...</td>\n",
       "      <td>...</td>\n",
       "      <td>...</td>\n",
       "      <td>...</td>\n",
       "      <td>...</td>\n",
       "      <td>...</td>\n",
       "      <td>...</td>\n",
       "      <td>...</td>\n",
       "      <td>...</td>\n",
       "      <td>...</td>\n",
       "      <td>...</td>\n",
       "      <td>...</td>\n",
       "      <td>...</td>\n",
       "    </tr>\n",
       "    <tr>\n",
       "      <th>136</th>\n",
       "      <td>NB00469</td>\n",
       "      <td>NB00469_M_2</td>\n",
       "      <td>34.1</td>\n",
       "      <td>25.0</td>\n",
       "      <td>2040.0</td>\n",
       "      <td>42.5</td>\n",
       "      <td>30.3</td>\n",
       "      <td>scavenged</td>\n",
       "      <td>MBM</td>\n",
       "      <td>Y+Nutramigen</td>\n",
       "      <td>...</td>\n",
       "      <td>12:12:00</td>\n",
       "      <td>NaT</td>\n",
       "      <td>05/09/2025</td>\n",
       "      <td>NaN</td>\n",
       "      <td>08:30:00</td>\n",
       "      <td>05/09/2025 08:30:00</td>\n",
       "      <td>&lt;NA&gt;</td>\n",
       "      <td>False</td>\n",
       "      <td>NaN</td>\n",
       "      <td>05/09/2025 08:30:00</td>\n",
       "    </tr>\n",
       "    <tr>\n",
       "      <th>137</th>\n",
       "      <td>NB00486</td>\n",
       "      <td>NB00486_M_1</td>\n",
       "      <td>32.1</td>\n",
       "      <td>9.0</td>\n",
       "      <td>1055.0</td>\n",
       "      <td>36.0</td>\n",
       "      <td>26.7</td>\n",
       "      <td>Scavenged</td>\n",
       "      <td>DBM</td>\n",
       "      <td>Y</td>\n",
       "      <td>...</td>\n",
       "      <td>10:45:00</td>\n",
       "      <td>NaT</td>\n",
       "      <td>05/13/2025</td>\n",
       "      <td>NaN</td>\n",
       "      <td>NaN</td>\n",
       "      <td>05/13/2025</td>\n",
       "      <td>PM</td>\n",
       "      <td>True</td>\n",
       "      <td>05/13/2025</td>\n",
       "      <td>NaN</td>\n",
       "    </tr>\n",
       "    <tr>\n",
       "      <th>138</th>\n",
       "      <td>NB00486</td>\n",
       "      <td>NB00486_M_2</td>\n",
       "      <td>32.1</td>\n",
       "      <td>9.0</td>\n",
       "      <td>1055.0</td>\n",
       "      <td>36.0</td>\n",
       "      <td>26.7</td>\n",
       "      <td>Scavenged</td>\n",
       "      <td>DBM</td>\n",
       "      <td>Y</td>\n",
       "      <td>...</td>\n",
       "      <td>10:45:00</td>\n",
       "      <td>NaT</td>\n",
       "      <td>05/14/2025</td>\n",
       "      <td>NaN</td>\n",
       "      <td>08:11</td>\n",
       "      <td>05/14/2025 08:11</td>\n",
       "      <td>&lt;NA&gt;</td>\n",
       "      <td>False</td>\n",
       "      <td>NaN</td>\n",
       "      <td>05/14/2025 08:11</td>\n",
       "    </tr>\n",
       "    <tr>\n",
       "      <th>139</th>\n",
       "      <td>NB00487</td>\n",
       "      <td>NB00487_M_1</td>\n",
       "      <td>34.2</td>\n",
       "      <td>7.0</td>\n",
       "      <td>1940.0</td>\n",
       "      <td>44.3</td>\n",
       "      <td>29.0</td>\n",
       "      <td>Scavenged</td>\n",
       "      <td>DBM+MBM</td>\n",
       "      <td>Y</td>\n",
       "      <td>...</td>\n",
       "      <td>11:00:00</td>\n",
       "      <td>NaT</td>\n",
       "      <td>05/13/2025</td>\n",
       "      <td>NaN</td>\n",
       "      <td>NaN</td>\n",
       "      <td>05/13/2025</td>\n",
       "      <td>PM</td>\n",
       "      <td>True</td>\n",
       "      <td>05/13/2025</td>\n",
       "      <td>NaN</td>\n",
       "    </tr>\n",
       "    <tr>\n",
       "      <th>140</th>\n",
       "      <td>NB00487</td>\n",
       "      <td>NB00487_M_2</td>\n",
       "      <td>34.2</td>\n",
       "      <td>7.0</td>\n",
       "      <td>1940.0</td>\n",
       "      <td>44.3</td>\n",
       "      <td>29.0</td>\n",
       "      <td>Scavenged</td>\n",
       "      <td>DBM+MBM</td>\n",
       "      <td>Y</td>\n",
       "      <td>...</td>\n",
       "      <td>11:00:00</td>\n",
       "      <td>NaT</td>\n",
       "      <td>05/14/2025</td>\n",
       "      <td>NaN</td>\n",
       "      <td>08:58:00</td>\n",
       "      <td>05/14/2025 08:58:00</td>\n",
       "      <td>&lt;NA&gt;</td>\n",
       "      <td>False</td>\n",
       "      <td>NaN</td>\n",
       "      <td>05/14/2025 08:58:00</td>\n",
       "    </tr>\n",
       "  </tbody>\n",
       "</table>\n",
       "<p>141 rows × 32 columns</p>\n",
       "</div>"
      ],
      "text/plain": [
       "    Subject ID Sample Type_#   CGA   DOL  Current Weight  Current Height  \\\n",
       "0      NB00237  NB00237_M_10  35.0  74.0          2440.0            44.0   \n",
       "1      NB00237   NB00237_M_8  34.5  72.0          2350.0            43.5   \n",
       "2      NB00237  NB00237_M_17  36.6  87.0          3010.0            46.1   \n",
       "3      NB00237  NB00237_M_19  37.1  89.0          3110.0            46.3   \n",
       "4      NB00237  NB00237_M_20  37.5  93.0          3380.0            46.3   \n",
       "..         ...           ...   ...   ...             ...             ...   \n",
       "136    NB00469   NB00469_M_2  34.1  25.0          2040.0            42.5   \n",
       "137    NB00486   NB00486_M_1  32.1   9.0          1055.0            36.0   \n",
       "138    NB00486   NB00486_M_2  32.1   9.0          1055.0            36.0   \n",
       "139    NB00487   NB00487_M_1  34.2   7.0          1940.0            44.3   \n",
       "140    NB00487   NB00487_M_2  34.2   7.0          1940.0            44.3   \n",
       "\n",
       "     Current HC Scavenged/Fresh? MBM/DMB?      HMF Y/N?  ...  \\\n",
       "0          29.0        Scavenged      MBM             Y  ...   \n",
       "1          28.5        Scavenged      MBM             Y  ...   \n",
       "2          30.0        Scavenged      MBM             Y  ...   \n",
       "3          30.5       scavenged       MBM             Y  ...   \n",
       "4          30.5       scavenged       MBM             Y  ...   \n",
       "..          ...              ...      ...           ...  ...   \n",
       "136        30.3        scavenged      MBM  Y+Nutramigen  ...   \n",
       "137        26.7        Scavenged      DBM             Y  ...   \n",
       "138        26.7        Scavenged      DBM             Y  ...   \n",
       "139        29.0        Scavenged  DBM+MBM             Y  ...   \n",
       "140        29.0        Scavenged  DBM+MBM             Y  ...   \n",
       "\n",
       "    Extracted Raw Time Collection Date/Time Feeding Time Date  \\\n",
       "0                11:13  2025-04-23 11:13:00        04/22/2025   \n",
       "1             10:13:00                  NaT        04/20/2025   \n",
       "2             13:47:00                  NaT        05/06/2025   \n",
       "3             14:07:00                  NaT        05/08/2025   \n",
       "4             10:58:00                  NaT        05/11/2025   \n",
       "..                 ...                  ...               ...   \n",
       "136           12:12:00                  NaT        05/09/2025   \n",
       "137           10:45:00                  NaT        05/13/2025   \n",
       "138           10:45:00                  NaT        05/14/2025   \n",
       "139           11:00:00                  NaT        05/13/2025   \n",
       "140           11:00:00                  NaT        05/14/2025   \n",
       "\n",
       "    DOL at Feeding Time Feeding Time (Raw)    Feeding Date/Time  \\\n",
       "0                   NaN                NaN           04/22/2025   \n",
       "1                   NaN                NaN           04/20/2025   \n",
       "2                   NaN           08:56:00  05/06/2025 08:56:00   \n",
       "3                   NaN           12:03:00  05/08/2025 12:03:00   \n",
       "4                   NaN                NaN           05/11/2025   \n",
       "..                  ...                ...                  ...   \n",
       "136                 NaN           08:30:00  05/09/2025 08:30:00   \n",
       "137                 NaN                NaN           05/13/2025   \n",
       "138                 NaN              08:11     05/14/2025 08:11   \n",
       "139                 NaN                NaN           05/13/2025   \n",
       "140                 NaN           08:58:00  05/14/2025 08:58:00   \n",
       "\n",
       "    Feeding Time Period Is Prepped Milk Prepped Time Feeding Time (Final)  \n",
       "0                    PM       True        04/22/2025                  NaN  \n",
       "1                    PM       True        04/20/2025                  NaN  \n",
       "2                  <NA>      False               NaN  05/06/2025 08:56:00  \n",
       "3                  <NA>      False               NaN  05/08/2025 12:03:00  \n",
       "4                    PM       True        05/11/2025                  NaN  \n",
       "..                  ...        ...               ...                  ...  \n",
       "136                <NA>      False               NaN  05/09/2025 08:30:00  \n",
       "137                  PM       True        05/13/2025                  NaN  \n",
       "138                <NA>      False               NaN     05/14/2025 08:11  \n",
       "139                  PM       True        05/13/2025                  NaN  \n",
       "140                <NA>      False               NaN  05/14/2025 08:58:00  \n",
       "\n",
       "[141 rows x 32 columns]"
      ]
     },
     "execution_count": 26,
     "metadata": {},
     "output_type": "execute_result"
    }
   ],
   "source": [
    "df"
   ]
  },
  {
   "cell_type": "code",
   "execution_count": 27,
   "id": "85f2e205",
   "metadata": {
    "vscode": {
     "languageId": "ruby"
    }
   },
   "outputs": [
    {
     "data": {
      "application/vnd.microsoft.datawrangler.viewer.v0+json": {
       "columns": [
        {
         "name": "index",
         "rawType": "int64",
         "type": "integer"
        },
        {
         "name": "Aliquots",
         "rawType": "float64",
         "type": "float"
        }
       ],
       "ref": "35dddfed-b9c1-4fc4-8705-dfb84dac5947",
       "rows": [
        [
         "0",
         "11.0"
        ],
        [
         "1",
         "6.0"
        ],
        [
         "2",
         "2.5"
        ],
        [
         "3",
         "3.5"
        ],
        [
         "4",
         "8.0"
        ],
        [
         "5",
         "1.0"
        ],
        [
         "6",
         "2.2"
        ],
        [
         "7",
         "11.0"
        ],
        [
         "8",
         "6.0"
        ],
        [
         "9",
         "1.0"
        ],
        [
         "10",
         "4.0"
        ],
        [
         "11",
         "1.0"
        ],
        [
         "12",
         "2.0"
        ],
        [
         "13",
         "1.0"
        ],
        [
         "14",
         "1.0"
        ],
        [
         "15",
         "5.0"
        ],
        [
         "16",
         "10.0"
        ],
        [
         "17",
         "7.0"
        ],
        [
         "18",
         "2.0"
        ],
        [
         "19",
         "1.0"
        ],
        [
         "20",
         "7.0"
        ],
        [
         "21",
         "2.8"
        ],
        [
         "22",
         "5.0"
        ],
        [
         "23",
         "1.0"
        ],
        [
         "24",
         "1.3"
        ],
        [
         "25",
         "6.0"
        ],
        [
         "26",
         "1.0"
        ],
        [
         "27",
         "5.0"
        ],
        [
         "28",
         "8.0"
        ],
        [
         "29",
         "2.0"
        ],
        [
         "30",
         "1.0"
        ],
        [
         "31",
         "1.0"
        ],
        [
         "32",
         "5.8"
        ],
        [
         "33",
         "4.3"
        ],
        [
         "34",
         "1.0"
        ],
        [
         "35",
         "2.3"
        ],
        [
         "36",
         "2.4"
        ],
        [
         "37",
         "7.0"
        ],
        [
         "38",
         "5.0"
        ],
        [
         "39",
         "1.0"
        ],
        [
         "40",
         "5.0"
        ],
        [
         "41",
         "1.0"
        ],
        [
         "42",
         "1.0"
        ],
        [
         "43",
         "11.0"
        ],
        [
         "44",
         "3.0"
        ],
        [
         "45",
         "2.3"
        ],
        [
         "46",
         "7.5"
        ],
        [
         "47",
         "1.0"
        ],
        [
         "48",
         "1.3"
        ],
        [
         "49",
         "7.2"
        ]
       ],
       "shape": {
        "columns": 1,
        "rows": 141
       }
      },
      "text/plain": [
       "0      11.0\n",
       "1       6.0\n",
       "2       2.5\n",
       "3       3.5\n",
       "4       8.0\n",
       "       ... \n",
       "136     2.3\n",
       "137     8.0\n",
       "138     1.0\n",
       "139     7.0\n",
       "140     1.0\n",
       "Name: Aliquots, Length: 141, dtype: float64"
      ]
     },
     "execution_count": 27,
     "metadata": {},
     "output_type": "execute_result"
    }
   ],
   "source": [
    "### Make number of aliquots numeric\n",
    "\n",
    "import re\n",
    "\n",
    "def clean_aliquots(value):\n",
    "    value = str(value).strip()\n",
    "    \n",
    "    # Match entries like \"2 (0.5)\" or \"3(0.5)\"\n",
    "    match = re.match(r'^(\\d+)\\s*\\(?([0-9.]+)?\\)?$', value)\n",
    "    if match:\n",
    "        whole = float(match.group(1))\n",
    "        fractional = float(match.group(2)) if match.group(2) else 0.0\n",
    "        return whole + fractional\n",
    "    else:\n",
    "        # Try to convert directly (for simple cases like \"1\", \"6\", etc.)\n",
    "        try:\n",
    "            return float(value)\n",
    "        except:\n",
    "            return None  # or np.nan\n",
    "\n",
    "# Apply to column\n",
    "df['Aliquots'] = df['# Aliquots'].apply(clean_aliquots)\n",
    "df.Aliquots"
   ]
  },
  {
   "cell_type": "code",
   "execution_count": 28,
   "id": "dac7dda0",
   "metadata": {},
   "outputs": [
    {
     "data": {
      "application/vnd.microsoft.datawrangler.viewer.v0+json": {
       "columns": [
        {
         "name": "index",
         "rawType": "int64",
         "type": "integer"
        },
        {
         "name": "Duration_Feed",
         "rawType": "float64",
         "type": "float"
        }
       ],
       "ref": "55906d21-6f83-4d18-9955-1b8362e87744",
       "rows": [
        [
         "0",
         null
        ],
        [
         "1",
         null
        ],
        [
         "2",
         null
        ],
        [
         "3",
         "45.0"
        ],
        [
         "4",
         null
        ],
        [
         "5",
         "30.0"
        ],
        [
         "6",
         null
        ],
        [
         "7",
         null
        ],
        [
         "8",
         null
        ],
        [
         "9",
         null
        ],
        [
         "10",
         null
        ],
        [
         "11",
         null
        ],
        [
         "12",
         "60.0"
        ],
        [
         "13",
         "45.0"
        ],
        [
         "14",
         "30.0"
        ],
        [
         "15",
         null
        ],
        [
         "16",
         null
        ],
        [
         "17",
         null
        ],
        [
         "18",
         null
        ],
        [
         "19",
         null
        ],
        [
         "20",
         null
        ],
        [
         "21",
         null
        ],
        [
         "22",
         null
        ],
        [
         "23",
         null
        ],
        [
         "24",
         null
        ],
        [
         "25",
         null
        ],
        [
         "26",
         null
        ],
        [
         "27",
         null
        ],
        [
         "28",
         null
        ],
        [
         "29",
         null
        ],
        [
         "30",
         null
        ],
        [
         "31",
         null
        ],
        [
         "32",
         null
        ],
        [
         "33",
         null
        ],
        [
         "34",
         null
        ],
        [
         "35",
         null
        ],
        [
         "36",
         null
        ],
        [
         "37",
         null
        ],
        [
         "38",
         null
        ],
        [
         "39",
         null
        ],
        [
         "40",
         "45.0"
        ],
        [
         "41",
         "45.0"
        ],
        [
         "42",
         "45.0"
        ],
        [
         "43",
         "45.0"
        ],
        [
         "44",
         null
        ],
        [
         "45",
         null
        ],
        [
         "46",
         null
        ],
        [
         "47",
         null
        ],
        [
         "48",
         null
        ],
        [
         "49",
         null
        ]
       ],
       "shape": {
        "columns": 1,
        "rows": 141
       }
      },
      "text/plain": [
       "0       NaN\n",
       "1       NaN\n",
       "2       NaN\n",
       "3      45.0\n",
       "4       NaN\n",
       "       ... \n",
       "136     NaN\n",
       "137     NaN\n",
       "138     NaN\n",
       "139     NaN\n",
       "140    90.0\n",
       "Name: Duration_Feed, Length: 141, dtype: float64"
      ]
     },
     "execution_count": 28,
     "metadata": {},
     "output_type": "execute_result"
    }
   ],
   "source": [
    "#### Make duration numeric\n",
    "\n",
    "def clean_duration(value):\n",
    "    value = str(value).strip().lower()\n",
    "    \n",
    "    # Ignore placeholders like \"unknown\", \"?\", or empty\n",
    "    if value in [\"unknown\", \"?\", \"\", \"nan\"]:\n",
    "        return np.nan\n",
    "    \n",
    "    # Extract numeric part\n",
    "    match = re.search(r'\\d+', value)\n",
    "    if match:\n",
    "        return float(match.group())\n",
    "    \n",
    "    return np.nan\n",
    "\n",
    "# Apply function\n",
    "df['Duration_Feed'] = df['Duration\\n(min)'].apply(clean_duration)\n",
    "df.Duration_Feed"
   ]
  },
  {
   "cell_type": "markdown",
   "id": "8bb407ac",
   "metadata": {},
   "source": [
    "#### Iron Feeding Time "
   ]
  },
  {
   "cell_type": "code",
   "execution_count": 29,
   "id": "8ab10d33",
   "metadata": {},
   "outputs": [],
   "source": [
    "# Extract DOL information as a string like \"DOL 62\" or \"DOL62\"\n",
    "df['DOL at Iron Feed'] = df['Iron Date & time'].astype(str).str.extract(r'(DOL\\s*\\d{1,3})', expand=False)"
   ]
  },
  {
   "cell_type": "code",
   "execution_count": 30,
   "id": "c23825b8",
   "metadata": {},
   "outputs": [
    {
     "data": {
      "application/vnd.microsoft.datawrangler.viewer.v0+json": {
       "columns": [
        {
         "name": "index",
         "rawType": "int64",
         "type": "integer"
        },
        {
         "name": "DOL at Iron Feed",
         "rawType": "object",
         "type": "unknown"
        }
       ],
       "ref": "3bb9acf4-009f-4773-8be7-bc9f3f06fb7b",
       "rows": [
        [
         "0",
         null
        ],
        [
         "1",
         null
        ],
        [
         "2",
         null
        ],
        [
         "3",
         null
        ],
        [
         "4",
         null
        ],
        [
         "5",
         null
        ],
        [
         "6",
         "DOL 61"
        ],
        [
         "7",
         null
        ],
        [
         "8",
         null
        ],
        [
         "9",
         "DOL 62"
        ],
        [
         "10",
         null
        ],
        [
         "11",
         "DOL 67"
        ],
        [
         "12",
         "DOL 72"
        ],
        [
         "13",
         "DOL 74"
        ],
        [
         "14",
         "DOL 75"
        ],
        [
         "15",
         null
        ],
        [
         "16",
         null
        ],
        [
         "17",
         null
        ],
        [
         "18",
         null
        ],
        [
         "19",
         "DOL 74"
        ],
        [
         "20",
         null
        ],
        [
         "21",
         "DOL 75"
        ],
        [
         "22",
         null
        ],
        [
         "23",
         "DOL 80"
        ],
        [
         "24",
         "DOL 20"
        ],
        [
         "25",
         null
        ],
        [
         "26",
         null
        ],
        [
         "27",
         null
        ],
        [
         "28",
         null
        ],
        [
         "29",
         "DOL 14"
        ],
        [
         "30",
         "DOL 17"
        ],
        [
         "31",
         "DOL 17"
        ],
        [
         "32",
         null
        ],
        [
         "33",
         null
        ],
        [
         "34",
         "DOL 17"
        ],
        [
         "35",
         "DOL 18"
        ],
        [
         "36",
         "DOL 20"
        ],
        [
         "37",
         null
        ],
        [
         "38",
         null
        ],
        [
         "39",
         null
        ],
        [
         "40",
         null
        ],
        [
         "41",
         "DOL 74"
        ],
        [
         "42",
         "DOL 27"
        ],
        [
         "43",
         null
        ],
        [
         "44",
         null
        ],
        [
         "45",
         null
        ],
        [
         "46",
         null
        ],
        [
         "47",
         null
        ],
        [
         "48",
         null
        ],
        [
         "49",
         null
        ]
       ],
       "shape": {
        "columns": 1,
        "rows": 141
       }
      },
      "text/plain": [
       "0      NaN\n",
       "1      NaN\n",
       "2      NaN\n",
       "3      NaN\n",
       "4      NaN\n",
       "      ... \n",
       "136    NaN\n",
       "137    NaN\n",
       "138    NaN\n",
       "139    NaN\n",
       "140    NaN\n",
       "Name: DOL at Iron Feed, Length: 141, dtype: object"
      ]
     },
     "execution_count": 30,
     "metadata": {},
     "output_type": "execute_result"
    }
   ],
   "source": [
    "df[\"DOL at Iron Feed\"]"
   ]
  },
  {
   "cell_type": "code",
   "execution_count": 31,
   "id": "fb8d3d45",
   "metadata": {},
   "outputs": [],
   "source": [
    "df['Iron Date (Raw)'] = df['Iron Date & time'].astype(str).str.extract(\n",
    "    r'(\\d{4}[-/]\\d{1,2}[-/]\\d{1,2}|\\d{1,2}/\\d{1,2}/\\d{2,4})', expand=False\n",
    ")"
   ]
  },
  {
   "cell_type": "code",
   "execution_count": 32,
   "id": "d448cf9a",
   "metadata": {},
   "outputs": [],
   "source": [
    "# Convert valid date strings to datetime, then format as MM/DD/YYYY\n",
    "df['Iron Date (Raw)'] = (\n",
    "    pd.to_datetime(df['Iron Date (Raw)'], errors='coerce')\n",
    "    .dt.strftime('%m/%d/%Y')\n",
    ")\n"
   ]
  },
  {
   "cell_type": "code",
   "execution_count": 33,
   "id": "9e824364",
   "metadata": {},
   "outputs": [
    {
     "data": {
      "application/vnd.microsoft.datawrangler.viewer.v0+json": {
       "columns": [
        {
         "name": "index",
         "rawType": "int64",
         "type": "integer"
        },
        {
         "name": "Iron Date (Raw)",
         "rawType": "object",
         "type": "unknown"
        }
       ],
       "ref": "619ad9a8-626c-442a-852e-1bfc6f7ad270",
       "rows": [
        [
         "0",
         null
        ],
        [
         "1",
         null
        ],
        [
         "2",
         "05/06/2025"
        ],
        [
         "3",
         "05/08/2025"
        ],
        [
         "4",
         null
        ],
        [
         "5",
         "05/11/2025"
        ],
        [
         "6",
         null
        ],
        [
         "7",
         null
        ],
        [
         "8",
         null
        ],
        [
         "9",
         null
        ],
        [
         "10",
         null
        ],
        [
         "11",
         null
        ],
        [
         "12",
         null
        ],
        [
         "13",
         null
        ],
        [
         "14",
         null
        ],
        [
         "15",
         null
        ],
        [
         "16",
         null
        ],
        [
         "17",
         null
        ],
        [
         "18",
         null
        ],
        [
         "19",
         null
        ],
        [
         "20",
         null
        ],
        [
         "21",
         null
        ],
        [
         "22",
         null
        ],
        [
         "23",
         null
        ],
        [
         "24",
         null
        ],
        [
         "25",
         null
        ],
        [
         "26",
         null
        ],
        [
         "27",
         null
        ],
        [
         "28",
         null
        ],
        [
         "29",
         null
        ],
        [
         "30",
         null
        ],
        [
         "31",
         null
        ],
        [
         "32",
         null
        ],
        [
         "33",
         null
        ],
        [
         "34",
         null
        ],
        [
         "35",
         null
        ],
        [
         "36",
         null
        ],
        [
         "37",
         null
        ],
        [
         "38",
         null
        ],
        [
         "39",
         null
        ],
        [
         "40",
         null
        ],
        [
         "41",
         null
        ],
        [
         "42",
         null
        ],
        [
         "43",
         null
        ],
        [
         "44",
         null
        ],
        [
         "45",
         "05/05/2025"
        ],
        [
         "46",
         null
        ],
        [
         "47",
         "05/08/2025"
        ],
        [
         "48",
         null
        ],
        [
         "49",
         null
        ]
       ],
       "shape": {
        "columns": 1,
        "rows": 141
       }
      },
      "text/plain": [
       "0             NaN\n",
       "1             NaN\n",
       "2      05/06/2025\n",
       "3      05/08/2025\n",
       "4             NaN\n",
       "          ...    \n",
       "136    05/09/2025\n",
       "137           NaN\n",
       "138           NaN\n",
       "139           NaN\n",
       "140           NaN\n",
       "Name: Iron Date (Raw), Length: 141, dtype: object"
      ]
     },
     "execution_count": 33,
     "metadata": {},
     "output_type": "execute_result"
    }
   ],
   "source": [
    "df['Iron Date (Raw)']"
   ]
  },
  {
   "cell_type": "code",
   "execution_count": 34,
   "id": "6728ee57",
   "metadata": {},
   "outputs": [],
   "source": [
    "# Extract time strings like \"20:11\" or \"21:02:00\"\n",
    "df['Iron Time (Raw)'] = df['Iron Date & time'].astype(str).str.extract(\n",
    "    r'(\\d{1,2}:\\d{2}(?::\\d{2})?)', expand=False\n",
    ")\n"
   ]
  },
  {
   "cell_type": "code",
   "execution_count": 35,
   "id": "9e457666",
   "metadata": {},
   "outputs": [],
   "source": [
    "# Clean and format time strings as 24-hour HH:MM\n",
    "df['Iron Time (Clean)'] = df['Iron Time (Raw)'].apply(\n",
    "    lambda x: pd.to_datetime(x, errors='coerce').strftime('%H:%M') if pd.notna(x) else pd.NA\n",
    ")"
   ]
  },
  {
   "cell_type": "code",
   "execution_count": 36,
   "id": "3af079c4",
   "metadata": {},
   "outputs": [
    {
     "data": {
      "application/vnd.microsoft.datawrangler.viewer.v0+json": {
       "columns": [
        {
         "name": "index",
         "rawType": "int64",
         "type": "integer"
        },
        {
         "name": "Iron Time (Clean)",
         "rawType": "object",
         "type": "unknown"
        }
       ],
       "ref": "4c52092b-9ac3-4d6f-be77-cd8b7e803633",
       "rows": [
        [
         "0",
         null
        ],
        [
         "1",
         null
        ],
        [
         "2",
         "20:57"
        ],
        [
         "3",
         "20:43"
        ],
        [
         "4",
         null
        ],
        [
         "5",
         "21:08"
        ],
        [
         "6",
         "20:47"
        ],
        [
         "7",
         null
        ],
        [
         "8",
         null
        ],
        [
         "9",
         "20:59"
        ],
        [
         "10",
         null
        ],
        [
         "11",
         null
        ],
        [
         "12",
         "21:09"
        ],
        [
         "13",
         "20:48"
        ],
        [
         "14",
         "21:02"
        ],
        [
         "15",
         null
        ],
        [
         "16",
         null
        ],
        [
         "17",
         null
        ],
        [
         "18",
         null
        ],
        [
         "19",
         "20:39"
        ],
        [
         "20",
         null
        ],
        [
         "21",
         "20:58"
        ],
        [
         "22",
         null
        ],
        [
         "23",
         "20:26"
        ],
        [
         "24",
         "20:26"
        ],
        [
         "25",
         null
        ],
        [
         "26",
         null
        ],
        [
         "27",
         null
        ],
        [
         "28",
         null
        ],
        [
         "29",
         "20:11"
        ],
        [
         "30",
         "20:16"
        ],
        [
         "31",
         "20:16"
        ],
        [
         "32",
         null
        ],
        [
         "33",
         null
        ],
        [
         "34",
         "20:02"
        ],
        [
         "35",
         "20:02"
        ],
        [
         "36",
         "20:24"
        ],
        [
         "37",
         null
        ],
        [
         "38",
         null
        ],
        [
         "39",
         null
        ],
        [
         "40",
         null
        ],
        [
         "41",
         "20:16"
        ],
        [
         "42",
         "20:08"
        ],
        [
         "43",
         null
        ],
        [
         "44",
         null
        ],
        [
         "45",
         "08:11"
        ],
        [
         "46",
         null
        ],
        [
         "47",
         "08:01"
        ],
        [
         "48",
         null
        ],
        [
         "49",
         null
        ]
       ],
       "shape": {
        "columns": 1,
        "rows": 141
       }
      },
      "text/plain": [
       "0       <NA>\n",
       "1       <NA>\n",
       "2      20:57\n",
       "3      20:43\n",
       "4       <NA>\n",
       "       ...  \n",
       "136    21:09\n",
       "137     <NA>\n",
       "138     <NA>\n",
       "139     <NA>\n",
       "140     <NA>\n",
       "Name: Iron Time (Clean), Length: 141, dtype: object"
      ]
     },
     "execution_count": 36,
     "metadata": {},
     "output_type": "execute_result"
    }
   ],
   "source": [
    "df['Iron Time (Clean)']"
   ]
  },
  {
   "cell_type": "code",
   "execution_count": 37,
   "id": "6bd567b1",
   "metadata": {},
   "outputs": [],
   "source": [
    "### merge date and time into a single datetime column\n",
    "\n",
    "# Combine only where both date and time are present\n",
    "valid_mask = df['Iron Date (Raw)'].notna() & df['Iron Time (Clean)'].notna()\n",
    "\n",
    "df.loc[valid_mask, 'Iron DateTime'] = (\n",
    "    df.loc[valid_mask, 'Iron Date (Raw)'].astype(str).str.strip() + ' ' +\n",
    "    df.loc[valid_mask, 'Iron Time (Clean)'].astype(str).str.strip()\n",
    ")\n",
    "\n",
    "# Convert to datetime object\n",
    "df['Iron DateTime'] = pd.to_datetime(df['Iron DateTime'], errors='coerce')"
   ]
  },
  {
   "cell_type": "code",
   "execution_count": 38,
   "id": "194108ed",
   "metadata": {},
   "outputs": [
    {
     "data": {
      "application/vnd.microsoft.datawrangler.viewer.v0+json": {
       "columns": [
        {
         "name": "index",
         "rawType": "int64",
         "type": "integer"
        },
        {
         "name": "Iron DateTime",
         "rawType": "datetime64[ns]",
         "type": "datetime"
        }
       ],
       "ref": "94dacbba-5ac7-4ade-9c41-13441bf35990",
       "rows": [
        [
         "0",
         null
        ],
        [
         "1",
         null
        ],
        [
         "2",
         "2025-05-06 20:57:00"
        ],
        [
         "3",
         "2025-05-08 20:43:00"
        ],
        [
         "4",
         null
        ],
        [
         "5",
         "2025-05-11 21:08:00"
        ],
        [
         "6",
         null
        ],
        [
         "7",
         null
        ],
        [
         "8",
         null
        ],
        [
         "9",
         null
        ],
        [
         "10",
         null
        ],
        [
         "11",
         null
        ],
        [
         "12",
         null
        ],
        [
         "13",
         null
        ],
        [
         "14",
         null
        ],
        [
         "15",
         null
        ],
        [
         "16",
         null
        ],
        [
         "17",
         null
        ],
        [
         "18",
         null
        ],
        [
         "19",
         null
        ],
        [
         "20",
         null
        ],
        [
         "21",
         null
        ],
        [
         "22",
         null
        ],
        [
         "23",
         null
        ],
        [
         "24",
         null
        ],
        [
         "25",
         null
        ],
        [
         "26",
         null
        ],
        [
         "27",
         null
        ],
        [
         "28",
         null
        ],
        [
         "29",
         null
        ],
        [
         "30",
         null
        ],
        [
         "31",
         null
        ],
        [
         "32",
         null
        ],
        [
         "33",
         null
        ],
        [
         "34",
         null
        ],
        [
         "35",
         null
        ],
        [
         "36",
         null
        ],
        [
         "37",
         null
        ],
        [
         "38",
         null
        ],
        [
         "39",
         null
        ],
        [
         "40",
         null
        ],
        [
         "41",
         null
        ],
        [
         "42",
         null
        ],
        [
         "43",
         null
        ],
        [
         "44",
         null
        ],
        [
         "45",
         "2025-05-05 08:11:00"
        ],
        [
         "46",
         null
        ],
        [
         "47",
         "2025-05-08 08:01:00"
        ],
        [
         "48",
         null
        ],
        [
         "49",
         null
        ]
       ],
       "shape": {
        "columns": 1,
        "rows": 141
       }
      },
      "text/plain": [
       "0                     NaT\n",
       "1                     NaT\n",
       "2     2025-05-06 20:57:00\n",
       "3     2025-05-08 20:43:00\n",
       "4                     NaT\n",
       "              ...        \n",
       "136   2025-05-09 21:09:00\n",
       "137                   NaT\n",
       "138                   NaT\n",
       "139                   NaT\n",
       "140                   NaT\n",
       "Name: Iron DateTime, Length: 141, dtype: datetime64[ns]"
      ]
     },
     "execution_count": 38,
     "metadata": {},
     "output_type": "execute_result"
    }
   ],
   "source": [
    "df['Iron DateTime']"
   ]
  },
  {
   "cell_type": "markdown",
   "id": "e9ae5d21",
   "metadata": {},
   "source": [
    "### DOL metrics"
   ]
  },
  {
   "cell_type": "code",
   "execution_count": 39,
   "id": "6e687026",
   "metadata": {},
   "outputs": [
    {
     "data": {
      "application/vnd.microsoft.datawrangler.viewer.v0+json": {
       "columns": [
        {
         "name": "index",
         "rawType": "object",
         "type": "string"
        },
        {
         "name": "DOL",
         "rawType": "float64",
         "type": "float"
        }
       ],
       "ref": "6707889d-d8a2-4719-9e37-de188f767207",
       "rows": [
        [
         "count",
         "140.0"
        ],
        [
         "mean",
         "30.4"
        ],
        [
         "std",
         "24.678595858054408"
        ],
        [
         "min",
         "6.0"
        ],
        [
         "25%",
         "14.0"
        ],
        [
         "50%",
         "20.0"
        ],
        [
         "75%",
         "38.0"
        ],
        [
         "max",
         "93.0"
        ]
       ],
       "shape": {
        "columns": 1,
        "rows": 8
       }
      },
      "text/plain": [
       "count    140.000000\n",
       "mean      30.400000\n",
       "std       24.678596\n",
       "min        6.000000\n",
       "25%       14.000000\n",
       "50%       20.000000\n",
       "75%       38.000000\n",
       "max       93.000000\n",
       "Name: DOL, dtype: float64"
      ]
     },
     "execution_count": 39,
     "metadata": {},
     "output_type": "execute_result"
    }
   ],
   "source": [
    "### \n",
    "df.DOL.describe()"
   ]
  },
  {
   "cell_type": "code",
   "execution_count": 40,
   "id": "3f243be7",
   "metadata": {},
   "outputs": [
    {
     "data": {
      "application/vnd.microsoft.datawrangler.viewer.v0+json": {
       "columns": [
        {
         "name": "DOL Category",
         "rawType": "object",
         "type": "string"
        },
        {
         "name": "count",
         "rawType": "int64",
         "type": "integer"
        }
       ],
       "ref": "a985ad9b-6a84-4e6e-83d8-48a99348fa66",
       "rows": [
        [
         "Acute NICU Phase",
         "96"
        ],
        [
         "Extended NICU Phase",
         "32"
        ],
        [
         "Long-Term NICU",
         "10"
        ],
        [
         "Early Sampling",
         "2"
        ],
        [
         "Unknown",
         "1"
        ]
       ],
       "shape": {
        "columns": 1,
        "rows": 5
       }
      },
      "text/plain": [
       "DOL Category\n",
       "Acute NICU Phase       96\n",
       "Extended NICU Phase    32\n",
       "Long-Term NICU         10\n",
       "Early Sampling          2\n",
       "Unknown                 1\n",
       "Name: count, dtype: int64"
      ]
     },
     "execution_count": 40,
     "metadata": {},
     "output_type": "execute_result"
    }
   ],
   "source": [
    "def classify_dol(dol):\n",
    "    if pd.isna(dol):\n",
    "        return \"Unknown\"\n",
    "    elif dol < 7:\n",
    "        return \"Early Sampling\"\n",
    "    elif dol <= 28:\n",
    "        return \"Acute NICU Phase\"\n",
    "    elif dol <= 75:\n",
    "        return \"Extended NICU Phase\"\n",
    "    else:\n",
    "        return \"Long-Term NICU\"\n",
    "\n",
    "df['DOL Category'] = df['DOL'].apply(classify_dol)\n",
    "df['DOL Category'].value_counts()"
   ]
  },
  {
   "cell_type": "code",
   "execution_count": 41,
   "id": "6096b456",
   "metadata": {},
   "outputs": [
    {
     "name": "stdout",
     "output_type": "stream",
     "text": [
      "Subjects with mixed DOL categories: 5\n",
      "Subject ID\n",
      "NB00237    2\n",
      "NB00238    2\n",
      "NB00359    2\n",
      "NB00378    3\n",
      "NB00380    2\n",
      "Name: DOL Category, dtype: int64\n"
     ]
    }
   ],
   "source": [
    "# Count unique DOL Categories per Subject\n",
    "category_per_subject = df.groupby(\"Subject ID\")[\"DOL Category\"].nunique()\n",
    "\n",
    "# See which subjects have >1 DOL Category\n",
    "mixed_category_subjects = category_per_subject[category_per_subject > 1]\n",
    "\n",
    "# How many?\n",
    "print(\"Subjects with mixed DOL categories:\", len(mixed_category_subjects))\n",
    "print(mixed_category_subjects)\n"
   ]
  },
  {
   "cell_type": "code",
   "execution_count": 42,
   "id": "2eec5887",
   "metadata": {},
   "outputs": [],
   "source": [
    "# Strip and extract the number from the string (e.g., \"DOL 74\" → 74)\n",
    "df[\"DOL at Collection (Numeric)\"] = df[\"DOL at Collection\"].str.extract(r'(\\d{1,3})').astype(float)"
   ]
  },
  {
   "cell_type": "code",
   "execution_count": 43,
   "id": "25214a0e",
   "metadata": {},
   "outputs": [],
   "source": [
    "df[\"DOL Collection Discrepancy Flag\"] = df[\"DOL\"] != df[\"DOL at Collection (Numeric)\"]"
   ]
  },
  {
   "cell_type": "code",
   "execution_count": 44,
   "id": "080432f4",
   "metadata": {},
   "outputs": [
    {
     "data": {
      "application/vnd.microsoft.datawrangler.viewer.v0+json": {
       "columns": [
        {
         "name": "DOL Collection Discrepancy Flag",
         "rawType": "bool",
         "type": "boolean"
        },
        {
         "name": "count",
         "rawType": "int64",
         "type": "integer"
        }
       ],
       "ref": "e01b28ba-8489-4271-aa2a-452bb3bb267f",
       "rows": [
        [
         "False",
         "88"
        ],
        [
         "True",
         "53"
        ]
       ],
       "shape": {
        "columns": 1,
        "rows": 2
       }
      },
      "text/plain": [
       "DOL Collection Discrepancy Flag\n",
       "False    88\n",
       "True     53\n",
       "Name: count, dtype: int64"
      ]
     },
     "execution_count": 44,
     "metadata": {},
     "output_type": "execute_result"
    }
   ],
   "source": [
    "df[\"DOL Collection Discrepancy Flag\"].value_counts()"
   ]
  },
  {
   "cell_type": "code",
   "execution_count": 45,
   "id": "ce22277e",
   "metadata": {},
   "outputs": [],
   "source": [
    "df[\"DOL at Iron Feed (Numeric)\"] = df[\"DOL at Iron Feed\"].astype(str).str.extract(r'(\\\\d{1,3})').astype(float)\n",
    "df[\"Iron DOL Discrepancy Flag\"] = df[\"DOL\"] != df[\"DOL at Iron Feed (Numeric)\"]\n"
   ]
  },
  {
   "cell_type": "code",
   "execution_count": 46,
   "id": "2cf0cd32",
   "metadata": {},
   "outputs": [
    {
     "data": {
      "application/vnd.microsoft.datawrangler.viewer.v0+json": {
       "columns": [
        {
         "name": "Iron DOL Discrepancy Flag",
         "rawType": "bool",
         "type": "boolean"
        },
        {
         "name": "count",
         "rawType": "int64",
         "type": "integer"
        }
       ],
       "ref": "37bbd413-7326-4015-a04a-adc350963df5",
       "rows": [
        [
         "True",
         "141"
        ]
       ],
       "shape": {
        "columns": 1,
        "rows": 1
       }
      },
      "text/plain": [
       "Iron DOL Discrepancy Flag\n",
       "True    141\n",
       "Name: count, dtype: int64"
      ]
     },
     "execution_count": 46,
     "metadata": {},
     "output_type": "execute_result"
    }
   ],
   "source": [
    "df[\"Iron DOL Discrepancy Flag\"].value_counts()"
   ]
  },
  {
   "cell_type": "markdown",
   "id": "7734201c",
   "metadata": {},
   "source": [
    "## Make a Copy of the DataFrame\n"
   ]
  },
  {
   "cell_type": "code",
   "execution_count": 47,
   "id": "e347c488",
   "metadata": {},
   "outputs": [
    {
     "data": {
      "application/vnd.microsoft.datawrangler.viewer.v0+json": {
       "columns": [
        {
         "name": "index",
         "rawType": "int64",
         "type": "integer"
        },
        {
         "name": "Subject ID",
         "rawType": "object",
         "type": "string"
        },
        {
         "name": "Sample Type_#",
         "rawType": "object",
         "type": "string"
        },
        {
         "name": "CGA",
         "rawType": "float64",
         "type": "float"
        },
        {
         "name": "DOL",
         "rawType": "float64",
         "type": "float"
        },
        {
         "name": "Current Weight",
         "rawType": "float64",
         "type": "float"
        },
        {
         "name": "Current Height",
         "rawType": "float64",
         "type": "float"
        },
        {
         "name": "Current HC",
         "rawType": "float64",
         "type": "float"
        },
        {
         "name": "Scavenged/Fresh?",
         "rawType": "object",
         "type": "string"
        },
        {
         "name": "Type of Milk",
         "rawType": "object",
         "type": "string"
        },
        {
         "name": "HMF",
         "rawType": "object",
         "type": "unknown"
        },
        {
         "name": "TPN",
         "rawType": "object",
         "type": "unknown"
        },
        {
         "name": "Iron",
         "rawType": "object",
         "type": "unknown"
        },
        {
         "name": "Iron Date & time",
         "rawType": "object",
         "type": "unknown"
        },
        {
         "name": "Duration (min)",
         "rawType": "object",
         "type": "unknown"
        },
        {
         "name": "Linked",
         "rawType": "object",
         "type": "string"
        },
        {
         "name": "feeding time",
         "rawType": "object",
         "type": "unknown"
        },
        {
         "name": "Collection date/aliquot time for all samples",
         "rawType": "object",
         "type": "unknown"
        },
        {
         "name": "# Aliquots",
         "rawType": "object",
         "type": "unknown"
        },
        {
         "name": "Additional Comments",
         "rawType": "object",
         "type": "unknown"
        },
        {
         "name": "Milk Prep Room Expiration Date & Time",
         "rawType": "object",
         "type": "unknown"
        },
        {
         "name": "Collection Date",
         "rawType": "object",
         "type": "unknown"
        },
        {
         "name": "DOL at Collection",
         "rawType": "object",
         "type": "unknown"
        },
        {
         "name": "Extracted Raw Time",
         "rawType": "object",
         "type": "string"
        },
        {
         "name": "Collection Date/Time",
         "rawType": "datetime64[ns]",
         "type": "datetime"
        },
        {
         "name": "Feeding Time Date",
         "rawType": "object",
         "type": "unknown"
        },
        {
         "name": "DOL at Feeding Time",
         "rawType": "object",
         "type": "unknown"
        },
        {
         "name": "Feeding Time (Raw)",
         "rawType": "object",
         "type": "unknown"
        },
        {
         "name": "Feeding Date/Time",
         "rawType": "object",
         "type": "string"
        },
        {
         "name": "Feeding Time Period",
         "rawType": "object",
         "type": "unknown"
        },
        {
         "name": "Is Prepped",
         "rawType": "bool",
         "type": "boolean"
        },
        {
         "name": "Milk Prepped Time",
         "rawType": "object",
         "type": "unknown"
        },
        {
         "name": "Feeding Time (Final)",
         "rawType": "object",
         "type": "unknown"
        },
        {
         "name": "Aliquots",
         "rawType": "float64",
         "type": "float"
        },
        {
         "name": "Duration_Feed",
         "rawType": "float64",
         "type": "float"
        },
        {
         "name": "DOL at Iron Feed",
         "rawType": "object",
         "type": "unknown"
        },
        {
         "name": "Iron Date (Raw)",
         "rawType": "object",
         "type": "unknown"
        },
        {
         "name": "Iron Time (Raw)",
         "rawType": "object",
         "type": "unknown"
        },
        {
         "name": "Iron Time (Clean)",
         "rawType": "object",
         "type": "unknown"
        },
        {
         "name": "Iron DateTime",
         "rawType": "datetime64[ns]",
         "type": "datetime"
        },
        {
         "name": "DOL Category",
         "rawType": "object",
         "type": "string"
        },
        {
         "name": "DOL at Collection (Numeric)",
         "rawType": "float64",
         "type": "float"
        },
        {
         "name": "DOL Collection Discrepancy Flag",
         "rawType": "bool",
         "type": "boolean"
        },
        {
         "name": "DOL at Iron Feed (Numeric)",
         "rawType": "float64",
         "type": "float"
        },
        {
         "name": "Iron DOL Discrepancy Flag",
         "rawType": "bool",
         "type": "boolean"
        }
       ],
       "ref": "f55074ec-4239-4394-8b8b-fa12fcabc0df",
       "rows": [
        [
         "0",
         "NB00237",
         "NB00237_M_10",
         "35.0",
         "74.0",
         "2440.0",
         "44.0",
         "29.0",
         "Scavenged",
         "MBM",
         "Y",
         "N",
         null,
         null,
         null,
         "Y",
         "Prepped \n4/22/2025 PM",
         "4/23/2025\nDOL 21 11:13",
         "11",
         "Residual from Milk Prep Room",
         null,
         "04/23/2025",
         "DOL 21",
         "11:13",
         "2025-04-23 11:13:00",
         "04/22/2025",
         null,
         null,
         "04/22/2025",
         "PM",
         "True",
         "04/22/2025",
         null,
         "11.0",
         null,
         null,
         null,
         null,
         null,
         null,
         "Extended NICU Phase",
         "21.0",
         "True",
         null,
         "True"
        ],
        [
         "1",
         "NB00237",
         "NB00237_M_8",
         "34.5",
         "72.0",
         "2350.0",
         "43.5",
         "28.5",
         "Scavenged",
         "MBM",
         "Y",
         "N",
         null,
         null,
         null,
         "Y",
         "Prepped 4/20/25 PM",
         "2025-04-21 10:13:00",
         "6",
         "Residual from Milk Prep Room",
         null,
         "04/21/2025",
         null,
         "10:13:00",
         null,
         "04/20/2025",
         null,
         null,
         "04/20/2025",
         "PM",
         "True",
         "04/20/2025",
         null,
         "6.0",
         null,
         null,
         null,
         null,
         null,
         null,
         "Extended NICU Phase",
         null,
         "True",
         null,
         "True"
        ],
        [
         "2",
         "NB00237",
         "NB00237_M_17",
         "36.6",
         "87.0",
         "3010.0",
         "46.1",
         "30.0",
         "Scavenged",
         "MBM",
         "Y",
         "N",
         "Y",
         "2025-05-06 20:57:00",
         "unknown",
         "Y",
         "2025-05-06 08:56:00",
         "2025-05-06 13:47:00",
         "2 (0.5)",
         "Scavenged Feeding Tube",
         "Unknown ",
         "05/06/2025",
         null,
         "13:47:00",
         null,
         "05/06/2025",
         null,
         "08:56:00",
         "05/06/2025 08:56:00",
         null,
         "False",
         null,
         "05/06/2025 08:56:00",
         "2.5",
         null,
         null,
         "05/06/2025",
         "20:57:00",
         "20:57",
         "2025-05-06 20:57:00",
         "Long-Term NICU",
         null,
         "True",
         null,
         "True"
        ],
        [
         "3",
         "NB00237",
         "NB00237_M_19",
         "37.1",
         "89.0",
         "3110.0",
         "46.3",
         "30.5",
         "scavenged ",
         "MBM",
         "Y",
         "N",
         "Y",
         "2025-05-08 20:43:00",
         "45 min",
         "Y",
         "2025-05-08 12:03:00",
         "2025-05-08 14:07:00",
         "3(0.5)",
         "Scavenged Feeding Tube",
         "2025-05-08 16:49:00",
         "05/08/2025",
         null,
         "14:07:00",
         null,
         "05/08/2025",
         null,
         "12:03:00",
         "05/08/2025 12:03:00",
         null,
         "False",
         null,
         "05/08/2025 12:03:00",
         "3.5",
         "45.0",
         null,
         "05/08/2025",
         "20:43:00",
         "20:43",
         "2025-05-08 20:43:00",
         "Long-Term NICU",
         null,
         "True",
         null,
         "True"
        ],
        [
         "4",
         "NB00237",
         "NB00237_M_20",
         "37.5",
         "93.0",
         "3380.0",
         "46.3",
         "30.5",
         "scavenged ",
         "MBM",
         "Y",
         "N",
         null,
         null,
         null,
         "Y",
         "Prepped 5/11/25 PM",
         "2025-05-12 10:58:00",
         "8",
         "Residual from Milk Prep Room",
         null,
         "05/12/2025",
         null,
         "10:58:00",
         null,
         "05/11/2025",
         null,
         null,
         "05/11/2025",
         "PM",
         "True",
         "05/11/2025",
         null,
         "8.0",
         null,
         null,
         null,
         null,
         null,
         null,
         "Long-Term NICU",
         null,
         "True",
         null,
         "True"
        ],
        [
         "5",
         "NB00237",
         "NB00237_M_21",
         "37.5",
         "93.0",
         "3380.0",
         "46.3",
         "30.5",
         "scavenged ",
         "MBM",
         "Y",
         "N",
         "Y",
         "2025-05-11 21:08:00",
         "30 min",
         "Y",
         "2025-05-12 09:01:00",
         "2025-05-12 10:58:00",
         "1",
         "Scavenged Feeding Tube",
         "2025-05-12 17:26:00",
         "05/12/2025",
         null,
         "10:58:00",
         null,
         "05/12/2025",
         null,
         "09:01:00",
         "05/12/2025 09:01:00",
         null,
         "False",
         null,
         "05/12/2025 09:01:00",
         "1.0",
         "30.0",
         null,
         "05/11/2025",
         "21:08:00",
         "21:08",
         "2025-05-11 21:08:00",
         "Long-Term NICU",
         null,
         "True",
         null,
         "True"
        ],
        [
         "6",
         "NB00237",
         "NB00237_M_3",
         "33.1",
         "61.0",
         "1870.0",
         "43.0",
         "27.0",
         "Scavenged ",
         "MBM",
         "Y",
         "N",
         "Y",
         "4/10/2025\nDOL 61   20:47",
         "?",
         "Y",
         "4/10/2025\nDOL 61   8:52",
         "4/10/2025\nDOL 61 14: 06",
         "2 (0.2)",
         "Scavenged Feeding Tube",
         "2025-04-10 15:18:00",
         "04/10/2025",
         "DOL 61",
         "14:06",
         "2025-04-10 14:06:00",
         "04/10/2025",
         "DOL 61",
         "8:52",
         "04/10/2025 8:52",
         null,
         "False",
         null,
         "04/10/2025 8:52",
         "2.2",
         null,
         "DOL 61",
         null,
         "20:47",
         "20:47",
         null,
         "Extended NICU Phase",
         "61.0",
         "False",
         null,
         "True"
        ],
        [
         "7",
         "NB00237",
         "NB00237_M_2",
         "33.1",
         "61.0",
         "1870.0",
         "43.0",
         "27.0",
         "Scavenged ",
         "MBM",
         "Y",
         "N",
         null,
         null,
         null,
         "Y",
         "Prepped 4/9/2025 PM",
         "4/10/2025\nDOL 74 13:15",
         "11",
         "Residual from Milk Prep Room",
         null,
         "04/10/2025",
         "DOL 74",
         "13:15",
         "2025-04-10 13:15:00",
         "04/09/2025",
         null,
         null,
         "04/09/2025",
         "PM",
         "True",
         "04/09/2025",
         null,
         "11.0",
         null,
         null,
         null,
         null,
         null,
         null,
         "Extended NICU Phase",
         "74.0",
         "True",
         null,
         "True"
        ],
        [
         "8",
         "NB00237",
         "NB00237_M_4",
         "33.2",
         "62.0",
         "1910.0",
         "43.0",
         "27.0",
         "Scavenged ",
         "MBM",
         "Y",
         "N",
         null,
         null,
         null,
         "Y",
         "Prepped 4/10/2025 PM",
         "4/11/2025\nDOL 62 10:16",
         "6",
         "Residual from Milk Prep Room",
         null,
         "04/11/2025",
         "DOL 62",
         "10:16",
         "2025-04-11 10:16:00",
         "04/10/2025",
         null,
         null,
         "04/10/2025",
         "PM",
         "True",
         "04/10/2025",
         null,
         "6.0",
         null,
         null,
         null,
         null,
         null,
         null,
         "Extended NICU Phase",
         "62.0",
         "False",
         null,
         "True"
        ],
        [
         "9",
         "NB00237",
         "NB00237_M_5",
         "33.2",
         "62.0",
         "1910.0",
         "43.0",
         "27.0",
         "Scavenged ",
         "MBM",
         "Y",
         "N",
         "Y",
         "4/11/2025\nDOL 62 20:59",
         "?",
         "Y",
         "4/11/2025\nDOL 62 9:35",
         "4/11/2025\nDOL 62 9:47",
         "1",
         "Scavenged Feeding Tube",
         "2025-04-11 15:20:00",
         "04/11/2025",
         "DOL 62",
         "9:47",
         "2025-04-11 09:47:00",
         "04/11/2025",
         "DOL 62",
         "9:35",
         "04/11/2025 9:35",
         null,
         "False",
         null,
         "04/11/2025 9:35",
         "1.0",
         null,
         "DOL 62",
         null,
         "20:59",
         "20:59",
         null,
         "Extended NICU Phase",
         "62.0",
         "False",
         null,
         "True"
        ],
        [
         "10",
         "NB00237",
         "NB00237_M_6",
         "34.1",
         "68.0",
         "2110.0",
         "43.5",
         "28.5",
         "Scavenged",
         "MBM",
         "Y",
         "N",
         null,
         null,
         null,
         "Y",
         "Prepped 4/16/2025 PM",
         "4/17/2025 DOL 68 8:39",
         "4",
         "Residual from Milk Prep Room",
         null,
         "04/17/2025",
         "DOL 68",
         "8:39",
         "2025-04-17 08:39:00",
         "04/16/2025",
         null,
         null,
         "04/16/2025",
         "PM",
         "True",
         "04/16/2025",
         null,
         "4.0",
         null,
         null,
         null,
         null,
         null,
         null,
         "Extended NICU Phase",
         "68.0",
         "False",
         null,
         "True"
        ],
        [
         "11",
         "NB00237",
         "NB00237_M_7",
         "34.1",
         "68.0",
         "2110.0",
         "43.5",
         "28.5",
         "Scavenged",
         "MBM",
         "Y",
         "N",
         "Y",
         "04/16/25 \nDOL 67 2146",
         "?",
         "Y",
         "4/17/25 DOL 68 11:50",
         "4/17/25 DOL 68 14:10",
         "1",
         "Scavenged Feeding Tube",
         "2025-04-17 16:04:00",
         "04/17/2025",
         "DOL 68",
         "14:10",
         "2025-04-17 14:10:00",
         "04/17/2025",
         "DOL 68",
         "11:50",
         "04/17/2025 11:50",
         null,
         "False",
         null,
         "04/17/2025 11:50",
         "1.0",
         null,
         "DOL 67",
         null,
         null,
         null,
         null,
         "Extended NICU Phase",
         "68.0",
         "False",
         null,
         "True"
        ],
        [
         "12",
         "NB00237",
         "NB00237_M_9",
         "34.5",
         "72.0",
         "2350.0",
         "43.5",
         "28.5",
         "Scavenged",
         "MBM",
         "Y",
         "N",
         "Y",
         "4/20/2025\nDOL 72 21:09",
         "60",
         "Y",
         "4/21/25 DOL 72 08:45",
         "4/21/25 DOL 72 10:30",
         "2",
         "Scavenged Feeding Tube",
         "2025-04-21 16:50:00",
         "04/21/2025",
         "DOL 72",
         "10:30",
         "2025-04-21 10:30:00",
         "04/21/2025",
         "DOL 72",
         "08:45",
         "04/21/2025 08:45",
         null,
         "False",
         null,
         "04/21/2025 08:45",
         "2.0",
         "60.0",
         "DOL 72",
         null,
         "21:09",
         "21:09",
         null,
         "Extended NICU Phase",
         "72.0",
         "False",
         null,
         "True"
        ],
        [
         "13",
         "NB00237",
         "NB00237_M_11",
         "35.0",
         "74.0",
         "2440.0",
         "44.0",
         "29.0",
         "Scavenged",
         "MBM",
         "Y",
         "N",
         "Y",
         "4/23/2025\nDOL 74 20:48",
         "45",
         "Y",
         "4/23/2025\nDOL 74 9:05",
         "4/23/2025\nDOL 74 18:35",
         "1",
         "Scavenged Feeding Tube",
         "2025-04-22 15:51:00",
         "04/23/2025",
         "DOL 74",
         "18:35",
         "2025-04-23 18:35:00",
         "04/23/2025",
         "DOL 74",
         "9:05",
         "04/23/2025 9:05",
         null,
         "False",
         null,
         "04/23/2025 9:05",
         "1.0",
         "45.0",
         "DOL 74",
         null,
         "20:48",
         "20:48",
         null,
         "Extended NICU Phase",
         "74.0",
         "False",
         null,
         "True"
        ],
        [
         "14",
         "NB00237",
         "NB00237_M_13",
         "35.1",
         "75.0",
         "2500.0",
         "44.0",
         "29.0",
         "Scavenged",
         "MBM",
         "Y",
         "N",
         "Y",
         "4/24/2025\nDOL 75 21:02",
         "30",
         "Y",
         "4/24/2025\nDOL 75 8:58",
         "4/24/2025\nDOL 75 10:53",
         "1",
         "Scavenged Feeding Tube",
         "2025-04-24 15:57:00",
         "04/24/2025",
         "DOL 75",
         "10:53",
         "2025-04-24 10:53:00",
         "04/24/2025",
         "DOL 75",
         "8:58",
         "04/24/2025 8:58",
         null,
         "False",
         null,
         "04/24/2025 8:58",
         "1.0",
         "30.0",
         "DOL 75",
         null,
         "21:02",
         "21:02",
         null,
         "Extended NICU Phase",
         "75.0",
         "False",
         null,
         "True"
        ],
        [
         "15",
         "NB00237",
         "NB00237_M_12",
         "35.1",
         "75.0",
         "2500.0",
         "44.0",
         "29.0",
         "Scavenged",
         "MBM",
         "Y",
         "N",
         null,
         null,
         null,
         "Y",
         "Prepped \n4/23/2025 PM",
         "4/24/2025\nDOL 75 8:33",
         "5",
         "Residual from Milk Prep Room",
         null,
         "04/24/2025",
         "DOL 75",
         "8:33",
         "2025-04-24 08:33:00",
         "04/23/2025",
         null,
         null,
         "04/23/2025",
         "PM",
         "True",
         "04/23/2025",
         null,
         "5.0",
         null,
         null,
         null,
         null,
         null,
         null,
         "Extended NICU Phase",
         "75.0",
         "False",
         null,
         "True"
        ],
        [
         "16",
         "NB00237",
         "NB00237_M_16",
         "36.6",
         "87.0",
         "3010.0",
         "46.1",
         "30.0",
         "Scavenged",
         "MBM",
         "Y",
         "N",
         null,
         null,
         null,
         "Y",
         "Prepped 5/5/25 PM",
         "5/6/2025 DOL 31 12:56",
         "10",
         "Residual from Milk Prep Room",
         null,
         "05/06/2025",
         "DOL 31",
         "12:56",
         "2025-05-06 12:56:00",
         "05/05/2025",
         null,
         null,
         "05/05/2025",
         "PM",
         "True",
         "05/05/2025",
         null,
         "10.0",
         null,
         null,
         null,
         null,
         null,
         null,
         "Long-Term NICU",
         "31.0",
         "True",
         null,
         "True"
        ],
        [
         "17",
         "NB00237",
         "NB00237_M_18",
         "37.1",
         "89.0",
         "3110.0",
         "46.3",
         "30.5",
         "scavenged ",
         "MBM",
         "Y",
         "N",
         null,
         null,
         null,
         "Y",
         "Prepped 5/7/25 PM",
         "5/8/2025/1:53:00 PM",
         "7",
         "Residual from Milk Prep Room",
         null,
         "05/08/2025",
         null,
         "13:53",
         "2025-05-08 13:53:00",
         "05/07/2025",
         null,
         null,
         "05/07/2025",
         "PM",
         "True",
         "05/07/2025",
         null,
         "7.0",
         null,
         null,
         null,
         null,
         null,
         null,
         "Long-Term NICU",
         null,
         "True",
         null,
         "True"
        ],
        [
         "18",
         "NB00238",
         "NB00238_M_2",
         "35.6",
         "74.0",
         "1950.0",
         "38.5",
         "28.3",
         "Scavenged ",
         "MBM",
         "Y",
         "Y",
         null,
         null,
         null,
         "Y",
         "Prepped 4/9/2025 PM",
         "4/10/2025\nDOL 74 13: 01",
         "2",
         "Residual from Milk Prep Room",
         null,
         "04/10/2025",
         "DOL 74",
         "13:01",
         "2025-04-10 13:01:00",
         "04/09/2025",
         null,
         null,
         "04/09/2025",
         "PM",
         "True",
         "04/09/2025",
         null,
         "2.0",
         null,
         null,
         null,
         null,
         null,
         null,
         "Extended NICU Phase",
         "74.0",
         "False",
         null,
         "True"
        ],
        [
         "19",
         "NB00238",
         "NB00238_M_3",
         "35.6",
         "74.0",
         "1950.0",
         "38.5",
         "28.3",
         "Scavenged ",
         "MBM",
         "Y",
         "Y",
         "Y",
         "4/10/2025\nDOL 74 20:39",
         null,
         "Y",
         "4/10/2025\nDOL 74 8:25",
         "4/10/2025\nDOL 74 14: 04",
         "1",
         "Scavenged Feeding Tube",
         "2025-04-10 15:46:00",
         "04/10/2025",
         "DOL 74",
         "14:04",
         "2025-04-10 14:04:00",
         "04/10/2025",
         "DOL 74",
         "8:25",
         "04/10/2025 8:25",
         null,
         "False",
         null,
         "04/10/2025 8:25",
         "1.0",
         null,
         "DOL 74",
         null,
         "20:39",
         "20:39",
         null,
         "Extended NICU Phase",
         "74.0",
         "False",
         null,
         "True"
        ],
        [
         "20",
         "NB00238",
         "NB00238_M_4",
         "36.0",
         "75.0",
         "1960.0",
         "41.0",
         "29.3",
         "Scavenged ",
         "MBM",
         "Y",
         "Y",
         null,
         null,
         null,
         "Y",
         "Prepped 4/10/2025 PM",
         "4/11/2025\nDOL 75 8:45",
         "7",
         "Residual from Milk Prep Room",
         null,
         "04/11/2025",
         "DOL 75",
         "8:45",
         "2025-04-11 08:45:00",
         "04/10/2025",
         null,
         null,
         "04/10/2025",
         "PM",
         "True",
         "04/10/2025",
         null,
         "7.0",
         null,
         null,
         null,
         null,
         null,
         null,
         "Extended NICU Phase",
         "75.0",
         "False",
         null,
         "True"
        ],
        [
         "21",
         "NB00238",
         "NB00238_M_5",
         "36.0",
         "75.0",
         "1960.0",
         "41.0",
         "29.3",
         "Scavenged ",
         "MBM",
         "Y",
         "Y",
         "Y",
         "4/11/2025\nDOL 75 20:58",
         null,
         "Y",
         "AM feed",
         "4/11/2025\nDOL 75 9:52",
         "2 (0.8)",
         "Scavenged Feeding Tube",
         "2025-04-11 16:21:00",
         "04/11/2025",
         "DOL 75",
         "9:52",
         "2025-04-11 09:52:00",
         null,
         null,
         null,
         "",
         "AM",
         "False",
         null,
         "",
         "2.8",
         null,
         "DOL 75",
         null,
         "20:58",
         "20:58",
         null,
         "Extended NICU Phase",
         "75.0",
         "False",
         null,
         "True"
        ],
        [
         "22",
         "NB00238",
         "NB00238_M_6",
         "36.5",
         "80.0",
         "2090.0",
         "41.0",
         "29.3",
         "Scavenged ",
         "MBM",
         "Y",
         "Y",
         null,
         null,
         null,
         "Y",
         "Prepped 4/15/2025 PM",
         "4/16/2025 \nDOL 80 11:15",
         "5",
         "Residual from Milk Prep Room",
         null,
         "04/16/2025",
         "DOL 80",
         "11:15",
         "2025-04-16 11:15:00",
         "04/15/2025",
         null,
         null,
         "04/15/2025",
         "PM",
         "True",
         "04/15/2025",
         null,
         "5.0",
         null,
         null,
         null,
         null,
         null,
         null,
         "Long-Term NICU",
         "80.0",
         "False",
         null,
         "True"
        ],
        [
         "23",
         "NB00238",
         "NB00238_M_7",
         "36.5",
         "80.0",
         "2090.0",
         "41.0",
         "29.3",
         "Scavenged ",
         "MBM",
         "Y",
         "Y",
         "Y",
         "4/16/2025 \nDOL 80 20:26",
         null,
         "Y",
         "4/16/2025 \nDOL 80 8:16",
         "4/16/2025 \nDOL 80 11:30",
         "1",
         "Scavenged Feeding Tube",
         "2025-04-16 17:04:00",
         "04/16/2025",
         "DOL 80",
         "11:30",
         "2025-04-16 11:30:00",
         "04/16/2025",
         "DOL 80",
         "8:16",
         "04/16/2025 8:16",
         null,
         "False",
         null,
         "04/16/2025 8:16",
         "1.0",
         null,
         "DOL 80",
         null,
         "20:26",
         "20:26",
         null,
         "Long-Term NICU",
         "80.0",
         "False",
         null,
         "True"
        ],
        [
         "24",
         "NB00238",
         "NB00238_M_9",
         "36.6",
         "81.0",
         "2090.0",
         "41.0",
         "29.3",
         "Scavenged",
         "MBM",
         "Y",
         "Y",
         "Y",
         "4/16/2025 DOL 20  20:26 ",
         null,
         "Y",
         "4/17/2025 \nDOL 81 05:31",
         "4/17/2025 \nDOL81 09:17",
         "1 (0.3)",
         "Scavenged Feeding Tube",
         "2025-04-17 14:13:00",
         "04/17/2025",
         "DOL81",
         "09:17",
         "2025-04-17 09:17:00",
         "04/17/2025",
         "DOL 81",
         "05:31",
         "04/17/2025 05:31",
         null,
         "False",
         null,
         "04/17/2025 05:31",
         "1.3",
         null,
         "DOL 20",
         null,
         "20:26",
         "20:26",
         null,
         "Long-Term NICU",
         "81.0",
         "False",
         null,
         "True"
        ],
        [
         "25",
         "NB00238",
         "NB00238_M_8",
         "36.6",
         "81.0",
         "2090.0",
         "41.0",
         "29.3",
         "Scavenged",
         "MBM",
         "Y",
         "Y",
         null,
         null,
         null,
         "Y",
         "Prepped 4/16/2025 PM",
         "4/17/25\n DOL 81 9:21",
         "6",
         "Residual from Milk Prep Room",
         null,
         "04/17/2025",
         "DOL 81",
         "9:21",
         "2025-04-17 09:21:00",
         "04/16/2025",
         null,
         null,
         "04/16/2025",
         "PM",
         "True",
         "04/16/2025",
         null,
         "6.0",
         null,
         null,
         null,
         null,
         null,
         null,
         "Long-Term NICU",
         "81.0",
         "False",
         null,
         "True"
        ],
        [
         "26",
         "NB00354",
         "NB00354_M_4",
         "29.5",
         "13.0",
         "1000.0",
         "34.0",
         "34.5",
         "Scavenged ",
         "MBM",
         "Y",
         "N",
         "N",
         "N",
         null,
         "Y",
         "4/10/2025\nDOL 13 8:36",
         "4/10/2025\nDOL 13 14: 11",
         "1",
         "Scavenged Feeding Tube",
         "2025-04-10 15:37:00",
         "04/10/2025",
         "DOL 13",
         "14:11",
         "2025-04-10 14:11:00",
         "04/10/2025",
         "DOL 13",
         "8:36",
         "04/10/2025 8:36",
         null,
         "False",
         null,
         "04/10/2025 8:36",
         "1.0",
         null,
         null,
         null,
         null,
         null,
         null,
         "Acute NICU Phase",
         "13.0",
         "False",
         null,
         "True"
        ],
        [
         "27",
         "NB00354",
         "NB00354_M_3",
         "29.5",
         "13.0",
         "1000.0",
         "34.0",
         "34.5",
         "Scavenged ",
         "MBM",
         "Y",
         "N",
         null,
         null,
         null,
         "Y",
         "Prepped 4/9/2025 PM",
         "4/10/2025\nDOL 74 13: 07",
         "5",
         "Residual from Milk Prep Room",
         null,
         "04/10/2025",
         "DOL 74",
         "13:07",
         "2025-04-10 13:07:00",
         "04/09/2025",
         null,
         null,
         "04/09/2025",
         "PM",
         "True",
         "04/09/2025",
         null,
         "5.0",
         null,
         null,
         null,
         null,
         null,
         null,
         "Acute NICU Phase",
         "74.0",
         "True",
         null,
         "True"
        ],
        [
         "28",
         "NB00354",
         "NB00354_M_5",
         "29.6",
         "14.0",
         "1015.0",
         "34.0",
         "34.5",
         "Scavenged ",
         "MBM",
         "Y",
         "N",
         null,
         null,
         null,
         "Y",
         "Prepped 4/10/2025 PM",
         "4/11/2025\nDOL 14 10:06",
         "8",
         "Residual from Milk Prep Room",
         null,
         "04/11/2025",
         "DOL 14",
         "10:06",
         "2025-04-11 10:06:00",
         "04/10/2025",
         null,
         null,
         "04/10/2025",
         "PM",
         "True",
         "04/10/2025",
         null,
         "8.0",
         null,
         null,
         null,
         null,
         null,
         null,
         "Acute NICU Phase",
         "14.0",
         "False",
         null,
         "True"
        ],
        [
         "29",
         "NB00354",
         "NB00354_M_6",
         "29.6",
         "14.0",
         "1015.0",
         "34.0",
         "34.5",
         "Scavenged ",
         "MBM",
         "Y",
         "N",
         "Y",
         "4/11/2025\nDOL 14 20:11",
         null,
         "Y",
         "4/11/2025\nDOL 14 8:07",
         "4/11/2025\nDOL 14 9:34",
         "2",
         "Scavenged Feeding Tube",
         "2025-04-11 16:00:00",
         "04/11/2025",
         "DOL 14",
         "9:34",
         "2025-04-11 09:34:00",
         "04/11/2025",
         "DOL 14",
         "8:07",
         "04/11/2025 8:07",
         null,
         "False",
         null,
         "04/11/2025 8:07",
         "2.0",
         null,
         "DOL 14",
         null,
         "20:11",
         "20:11",
         null,
         "Acute NICU Phase",
         "14.0",
         "False",
         null,
         "True"
        ],
        [
         "30",
         "NB00354",
         "NB00354_M_8",
         "30.2",
         "17.0",
         "1095.0",
         "35.2",
         "24.1",
         "Scavenged ",
         "MBM",
         "Y",
         "N",
         "Y",
         "4/13/2025 DOL 17 20:16",
         null,
         "Y",
         "4/14/2025\nDOL 17 8:41",
         "4/14/2025\nDOL 17 10:20",
         "1",
         "Scavenged Feeding Tube",
         "2025-04-14 16:39:00",
         "04/14/2025",
         "DOL 17",
         "10:20",
         "2025-04-14 10:20:00",
         "04/14/2025",
         "DOL 17",
         "8:41",
         "04/14/2025 8:41",
         null,
         "False",
         null,
         "04/14/2025 8:41",
         "1.0",
         null,
         "DOL 17",
         null,
         "20:16",
         "20:16",
         null,
         "Acute NICU Phase",
         "17.0",
         "False",
         null,
         "True"
        ],
        [
         "31",
         "NB00354",
         "NB00354_M_9",
         "30.2",
         "17.0",
         "1095.0",
         "35.2",
         "24.1",
         "Scavenged ",
         "MBM",
         "Y",
         "N",
         "Y",
         "4/13/2025 DOL 17 20:16",
         null,
         "Y",
         "AM feed 11:02",
         "4/14/2025\nDOL 17 12:32",
         "1",
         "Scavenged Feeding Tube",
         "2025-04-14 16:39:00",
         "04/14/2025",
         "DOL 17",
         "12:32",
         "2025-04-14 12:32:00",
         null,
         null,
         "11:02",
         "11:02",
         "AM",
         "False",
         null,
         "11:02",
         "1.0",
         null,
         "DOL 17",
         null,
         "20:16",
         "20:16",
         null,
         "Acute NICU Phase",
         "17.0",
         "False",
         null,
         "True"
        ],
        [
         "32",
         "NB00354",
         "NB00354_M_7",
         "30.2",
         "17.0",
         "1095.0",
         "35.2",
         "24.1",
         "Scavenged ",
         "MBM",
         "Y",
         "N",
         null,
         null,
         null,
         "Y",
         "Prepped \n4/13/2025 PM",
         "4/14/2025 \nDOL 17 8:47",
         "5 (0.8)",
         "Residual from Milk Prep Room",
         null,
         "04/14/2025",
         "DOL 17",
         "8:47",
         "2025-04-14 08:47:00",
         "04/13/2025",
         null,
         null,
         "04/13/2025",
         "PM",
         "True",
         "04/13/2025",
         null,
         "5.8",
         null,
         null,
         null,
         null,
         null,
         null,
         "Acute NICU Phase",
         "17.0",
         "False",
         null,
         "True"
        ],
        [
         "33",
         "NB00354",
         "NB00354_M_10",
         "30.3",
         "18.0",
         "1125.0",
         "35.2",
         "24.1",
         "Scavenged",
         "MBM",
         "Y",
         "N",
         null,
         null,
         null,
         "Y",
         "Prepped 4/14/2025  PM",
         "4/15/2025 DOL 18 07:45",
         "4 (0.3)",
         "Residual from Milk Prep Room",
         null,
         "04/15/2025",
         "DOL 18",
         "07:45",
         "2025-04-15 07:45:00",
         "04/14/2025",
         null,
         null,
         "04/14/2025",
         "PM",
         "True",
         "04/14/2025",
         null,
         "4.3",
         null,
         null,
         null,
         null,
         null,
         null,
         "Acute NICU Phase",
         "18.0",
         "False",
         null,
         "True"
        ],
        [
         "34",
         "NB00354",
         "NB00354_M_11",
         "30.3",
         "18.0",
         "1125.0",
         "35.2",
         "24.1",
         "Scavenged",
         "MBM",
         "Y",
         "N",
         "Y",
         "4/14/2025 DOL 17 20:02",
         null,
         "Y",
         "4/15/2025 DOL 18 08:09",
         "4/15/2025 DOL 18 09:35",
         "1",
         "Scavenged Feeding Tube",
         "2025-04-15 17:13:00",
         "04/15/2025",
         "DOL 18",
         "09:35",
         "2025-04-15 09:35:00",
         "04/15/2025",
         "DOL 18",
         "08:09",
         "04/15/2025 08:09",
         null,
         "False",
         null,
         "04/15/2025 08:09",
         "1.0",
         null,
         "DOL 17",
         null,
         "20:02",
         "20:02",
         null,
         "Acute NICU Phase",
         "18.0",
         "False",
         null,
         "True"
        ],
        [
         "35",
         "NB00354",
         "NB00354_M_12",
         "30.3",
         "18.0",
         "1125.0",
         "35.2",
         "24.1",
         "Scavenged",
         "MBM",
         "Y",
         "N",
         "Y",
         "4/14/2025 DOL 18 20:02",
         null,
         "Y",
         "4/15/2025 DOL 18 10:56",
         "4/15/2025 DOL 18 12:13",
         "2 (0.3)",
         "Scavenged Feeding Tube",
         "Unknown ",
         "04/15/2025",
         "DOL 18",
         "12:13",
         "2025-04-15 12:13:00",
         "04/15/2025",
         "DOL 18",
         "10:56",
         "04/15/2025 10:56",
         null,
         "False",
         null,
         "04/15/2025 10:56",
         "2.3",
         null,
         "DOL 18",
         null,
         "20:02",
         "20:02",
         null,
         "Acute NICU Phase",
         "18.0",
         "False",
         null,
         "True"
        ],
        [
         "36",
         "NB00354",
         "NB00354_M_15",
         "30.5",
         "20.0",
         "1205.0",
         "36.5",
         "25.5",
         "Scavenged",
         "MBM",
         "Y",
         "N",
         "Y",
         "4/16/2025 DOL 20 20:24",
         null,
         "Y",
         "4/17/2025 DOL 20 08:38",
         "4/17/2025 DOL 20 14:15",
         "2 (0.4)",
         "Scavenged Feeding Tube",
         "2025-04-17 16:04:00",
         "04/17/2025",
         "DOL 20",
         "14:15",
         "2025-04-17 14:15:00",
         "04/17/2025",
         "DOL 20",
         "08:38",
         "04/17/2025 08:38",
         null,
         "False",
         null,
         "04/17/2025 08:38",
         "2.4",
         null,
         "DOL 20",
         null,
         "20:24",
         "20:24",
         null,
         "Acute NICU Phase",
         "20.0",
         "False",
         null,
         "True"
        ],
        [
         "37",
         "NB00354",
         "NB00354_M_14",
         "30.5",
         "20.0",
         "1205.0",
         "36.5",
         "25.5",
         "Scavenged",
         "MBM",
         "Y",
         "N",
         null,
         null,
         null,
         "Y",
         "Prepped 4/16/2025 PM",
         "4/17/2025 DOL 20 8:35",
         "7",
         "Residual from Milk Prep Room",
         null,
         "04/17/2025",
         "DOL 20",
         "8:35",
         "2025-04-17 08:35:00",
         "04/16/2025",
         null,
         null,
         "04/16/2025",
         "PM",
         "True",
         "04/16/2025",
         null,
         "7.0",
         null,
         null,
         null,
         null,
         null,
         null,
         "Acute NICU Phase",
         "20.0",
         "False",
         null,
         "True"
        ],
        [
         "38",
         "NB00354",
         "NB00354_M_16",
         "31.2",
         "24.0",
         "1305.0",
         "36.5",
         "26.0",
         "Scavenged",
         "MBM",
         "Y",
         null,
         null,
         null,
         null,
         "Y",
         "Prepped 4/20/25 PM",
         "4/21/2025 DOL 24 10:00:00 AM",
         "5",
         "Residual from Milk Prep Room",
         null,
         "04/21/2025",
         "DOL 24",
         "10:00:00",
         null,
         "04/20/2025",
         null,
         null,
         "04/20/2025",
         "PM",
         "True",
         "04/20/2025",
         null,
         "5.0",
         null,
         null,
         null,
         null,
         null,
         null,
         "Acute NICU Phase",
         "24.0",
         "False",
         null,
         "True"
        ],
        [
         "39",
         "NB00354",
         "NB00354_M_17",
         "31.2",
         "24.0",
         "1305.0",
         "36.5",
         "26.0",
         "Scavenged",
         "MBM",
         "Y",
         "N",
         "Y",
         "4/20/2025  2009",
         null,
         "Y",
         "4/21/25 DOL 24 08:25",
         "4/21/2025 DOL 24 10:20",
         "1",
         "Scavenged Feeding Tube",
         "2025-04-21 17:14:00",
         "04/21/2025",
         "DOL 24",
         "10:20",
         "2025-04-21 10:20:00",
         "04/21/2025",
         "DOL 24",
         "08:25",
         "04/21/2025 08:25",
         null,
         "False",
         null,
         "04/21/2025 08:25",
         "1.0",
         null,
         null,
         null,
         null,
         null,
         null,
         "Acute NICU Phase",
         "24.0",
         "False",
         null,
         "True"
        ],
        [
         "40",
         "NB00354",
         "NB00354_M_18",
         "31.4",
         "26.0",
         "1415.0",
         "36.5",
         "26.0",
         "Scavenged",
         "MBM",
         "Y",
         "N",
         null,
         null,
         "45",
         "Y",
         "Prepped \n4/22/2025 PM",
         "4/23/2025\nDOL 21 11:13",
         "5",
         "Residual from Milk Prep Room",
         null,
         "04/23/2025",
         "DOL 21",
         "11:13",
         "2025-04-23 11:13:00",
         "04/22/2025",
         null,
         null,
         "04/22/2025",
         "PM",
         "True",
         "04/22/2025",
         null,
         "5.0",
         "45.0",
         null,
         null,
         null,
         null,
         null,
         "Acute NICU Phase",
         "21.0",
         "True",
         null,
         "True"
        ],
        [
         "41",
         "NB00354",
         "NB00354_M_19",
         "31.4",
         "26.0",
         "1415.0",
         "36.5",
         "26.0",
         "Scavenged",
         "MBM",
         "Y",
         "N",
         "Y",
         "4/23/2025\nDOL 74 20:16",
         "45",
         "Y",
         "4/23/2025\nDOL 74 8:20",
         "4/23/2025\nDOL 74 18:33",
         "1",
         "Scavenged Feeding Tube",
         "2025-04-23 16:14:00",
         "04/23/2025",
         "DOL 74",
         "18:33",
         "2025-04-23 18:33:00",
         "04/23/2025",
         "DOL 74",
         "8:20",
         "04/23/2025 8:20",
         null,
         "False",
         null,
         "04/23/2025 8:20",
         "1.0",
         "45.0",
         "DOL 74",
         null,
         "20:16",
         "20:16",
         null,
         "Acute NICU Phase",
         "74.0",
         "True",
         null,
         "True"
        ],
        [
         "42",
         "NB00354",
         "NB00354_M_21",
         "31.5",
         "27.0",
         "1475.0",
         "36.5",
         "26.0",
         "Scavenged",
         "MBM",
         "Y",
         "N",
         "Y",
         "4/24/2025\nDOL 27 20:08",
         "45",
         "Y",
         "4/24/2025\nDOL 75 8:04",
         "4/24/2025\nDOL 27 10:50",
         "1",
         "Scavenged Feeding Tube",
         "2025-04-25 16:22:00",
         "04/24/2025",
         "DOL 27",
         "10:50",
         "2025-04-24 10:50:00",
         "04/24/2025",
         "DOL 75",
         "8:04",
         "04/24/2025 8:04",
         null,
         "False",
         null,
         "04/24/2025 8:04",
         "1.0",
         "45.0",
         "DOL 27",
         null,
         "20:08",
         "20:08",
         null,
         "Acute NICU Phase",
         "27.0",
         "False",
         null,
         "True"
        ],
        [
         "43",
         "NB00354",
         "NB00354_M_20",
         "31.5",
         "27.0",
         "1475.0",
         "36.5",
         "26.0",
         "Scavenged",
         "MBM",
         "Y",
         "N",
         null,
         null,
         "45",
         "Y",
         "Prepped \n4/23/2025 PM",
         "4/24/2025\nDOL 27 8:22",
         "11",
         "Residual from Milk Prep Room",
         null,
         "04/24/2025",
         "DOL 27",
         "8:22",
         "2025-04-24 08:22:00",
         "04/23/2025",
         null,
         null,
         "04/23/2025",
         "PM",
         "True",
         "04/23/2025",
         null,
         "11.0",
         "45.0",
         null,
         null,
         null,
         null,
         null,
         "Acute NICU Phase",
         "27.0",
         "False",
         null,
         "True"
        ],
        [
         "44",
         "NB00359",
         "NB00359_M_14",
         "33.5",
         "24.0",
         "1720.0",
         "40.0",
         "28.0",
         "Scavenged",
         "MBM",
         "Y",
         null,
         null,
         null,
         null,
         "Y",
         "Prepped 4/20/25 PM",
         "2025-04-21 10:05:00",
         "3",
         "Residual from Milk Prep Room",
         null,
         "04/21/2025",
         null,
         "10:05:00",
         null,
         "04/20/2025",
         null,
         null,
         "04/20/2025",
         "PM",
         "True",
         "04/20/2025",
         null,
         "3.0",
         null,
         null,
         null,
         null,
         null,
         null,
         "Acute NICU Phase",
         null,
         "True",
         null,
         "True"
        ],
        [
         "45",
         "NB00359",
         "NB00359_M_17",
         "35.5",
         "38.0",
         "2045.0",
         "42.0",
         "29.5",
         "Scavenged",
         "MBM",
         "Y",
         "N",
         "Y",
         "2025-05-05 08:11:00",
         "unknown",
         "Y",
         "2025-05-05 08:08:00",
         "2025-05-05 13:42:00",
         "2 (0.3)",
         "Scavenged Feeding Tube",
         "2025-05-05 17:02:00",
         "05/05/2025",
         null,
         "13:42:00",
         null,
         "05/05/2025",
         null,
         "08:08:00",
         "05/05/2025 08:08:00",
         null,
         "False",
         null,
         "05/05/2025 08:08:00",
         "2.3",
         null,
         null,
         "05/05/2025",
         "08:11:00",
         "08:11",
         "2025-05-05 08:11:00",
         "Extended NICU Phase",
         null,
         "True",
         null,
         "True"
        ],
        [
         "46",
         "NB00359",
         "NB00359_M_18",
         "36.1",
         "41.0",
         "2195.0",
         "43.0",
         "30.5",
         "scavenged ",
         "MBM",
         "Y",
         null,
         null,
         null,
         null,
         "Y",
         "Prepped 5/7/25 PM",
         "2025-05-08 13:47:00",
         "7(0.5)",
         "Residual from Milk Prep Room",
         null,
         "05/08/2025",
         null,
         "13:47:00",
         null,
         "05/07/2025",
         null,
         null,
         "05/07/2025",
         "PM",
         "True",
         "05/07/2025",
         null,
         "7.5",
         null,
         null,
         null,
         null,
         null,
         null,
         "Extended NICU Phase",
         null,
         "True",
         null,
         "True"
        ],
        [
         "47",
         "NB00359",
         "NB00359_M_19",
         "36.1",
         "41.0",
         "2195.0",
         "43.0",
         "30.5",
         "scavenged ",
         "MBM",
         "Y",
         "N",
         "Y",
         "2025-05-08 08:01:00",
         "unknown",
         "Y",
         "2025-05-08 08:01:00",
         "2025-05-08 14:13:00",
         "1",
         "Scavenged Feeding Tube",
         "17:29:00",
         "05/08/2025",
         null,
         "14:13:00",
         null,
         "05/08/2025",
         null,
         "08:01:00",
         "05/08/2025 08:01:00",
         null,
         "False",
         null,
         "05/08/2025 08:01:00",
         "1.0",
         null,
         null,
         "05/08/2025",
         "08:01:00",
         "08:01",
         "2025-05-08 08:01:00",
         "Extended NICU Phase",
         null,
         "True",
         null,
         "True"
        ],
        [
         "48",
         "NB00359",
         "NB00359_M_6",
         "32.1",
         "13.0",
         "1280.0",
         "39.0",
         "26.0",
         "Scavenged ",
         "MBM",
         "Y",
         "N",
         "N",
         null,
         null,
         "Y",
         "4/10/2025\nDOL 13 8:02",
         "4/10/2025\nDOL 13 14: 08",
         "1  (0.3)",
         "Scavenged Feeding Tube",
         "2025-04-10 16:19:00",
         "04/10/2025",
         "DOL 13",
         "14:08",
         "2025-04-10 14:08:00",
         "04/10/2025",
         "DOL 13",
         "8:02",
         "04/10/2025 8:02",
         null,
         "False",
         null,
         "04/10/2025 8:02",
         "1.3",
         null,
         null,
         null,
         null,
         null,
         null,
         "Acute NICU Phase",
         "13.0",
         "False",
         null,
         "True"
        ],
        [
         "49",
         "NB00359",
         "NB00359_M_5",
         "32.1",
         "13.0",
         "1280.0",
         "39.0",
         "26.0",
         "Scavenged ",
         "MBM",
         "Y",
         "N",
         "N",
         null,
         null,
         "Y",
         "Prepped 4/9/2025 PM",
         "4/10/2025\nDOL 74 13: 09",
         "6 (1.2)",
         "Residual from Milk Prep Room",
         null,
         "04/10/2025",
         "DOL 74",
         "13:09",
         "2025-04-10 13:09:00",
         "04/09/2025",
         null,
         null,
         "04/09/2025",
         "PM",
         "True",
         "04/09/2025",
         null,
         "7.2",
         null,
         null,
         null,
         null,
         null,
         null,
         "Acute NICU Phase",
         "74.0",
         "True",
         null,
         "True"
        ]
       ],
       "shape": {
        "columns": 44,
        "rows": 141
       }
      },
      "text/html": [
       "<div>\n",
       "<style scoped>\n",
       "    .dataframe tbody tr th:only-of-type {\n",
       "        vertical-align: middle;\n",
       "    }\n",
       "\n",
       "    .dataframe tbody tr th {\n",
       "        vertical-align: top;\n",
       "    }\n",
       "\n",
       "    .dataframe thead th {\n",
       "        text-align: right;\n",
       "    }\n",
       "</style>\n",
       "<table border=\"1\" class=\"dataframe\">\n",
       "  <thead>\n",
       "    <tr style=\"text-align: right;\">\n",
       "      <th></th>\n",
       "      <th>Subject ID</th>\n",
       "      <th>Sample Type_#</th>\n",
       "      <th>CGA</th>\n",
       "      <th>DOL</th>\n",
       "      <th>Current Weight</th>\n",
       "      <th>Current Height</th>\n",
       "      <th>Current HC</th>\n",
       "      <th>Scavenged/Fresh?</th>\n",
       "      <th>Type of Milk</th>\n",
       "      <th>HMF</th>\n",
       "      <th>...</th>\n",
       "      <th>DOL at Iron Feed</th>\n",
       "      <th>Iron Date (Raw)</th>\n",
       "      <th>Iron Time (Raw)</th>\n",
       "      <th>Iron Time (Clean)</th>\n",
       "      <th>Iron DateTime</th>\n",
       "      <th>DOL Category</th>\n",
       "      <th>DOL at Collection (Numeric)</th>\n",
       "      <th>DOL Collection Discrepancy Flag</th>\n",
       "      <th>DOL at Iron Feed (Numeric)</th>\n",
       "      <th>Iron DOL Discrepancy Flag</th>\n",
       "    </tr>\n",
       "  </thead>\n",
       "  <tbody>\n",
       "    <tr>\n",
       "      <th>0</th>\n",
       "      <td>NB00237</td>\n",
       "      <td>NB00237_M_10</td>\n",
       "      <td>35.0</td>\n",
       "      <td>74.0</td>\n",
       "      <td>2440.0</td>\n",
       "      <td>44.0</td>\n",
       "      <td>29.0</td>\n",
       "      <td>Scavenged</td>\n",
       "      <td>MBM</td>\n",
       "      <td>Y</td>\n",
       "      <td>...</td>\n",
       "      <td>NaN</td>\n",
       "      <td>NaN</td>\n",
       "      <td>NaN</td>\n",
       "      <td>&lt;NA&gt;</td>\n",
       "      <td>NaT</td>\n",
       "      <td>Extended NICU Phase</td>\n",
       "      <td>21.0</td>\n",
       "      <td>True</td>\n",
       "      <td>NaN</td>\n",
       "      <td>True</td>\n",
       "    </tr>\n",
       "    <tr>\n",
       "      <th>1</th>\n",
       "      <td>NB00237</td>\n",
       "      <td>NB00237_M_8</td>\n",
       "      <td>34.5</td>\n",
       "      <td>72.0</td>\n",
       "      <td>2350.0</td>\n",
       "      <td>43.5</td>\n",
       "      <td>28.5</td>\n",
       "      <td>Scavenged</td>\n",
       "      <td>MBM</td>\n",
       "      <td>Y</td>\n",
       "      <td>...</td>\n",
       "      <td>NaN</td>\n",
       "      <td>NaN</td>\n",
       "      <td>NaN</td>\n",
       "      <td>&lt;NA&gt;</td>\n",
       "      <td>NaT</td>\n",
       "      <td>Extended NICU Phase</td>\n",
       "      <td>NaN</td>\n",
       "      <td>True</td>\n",
       "      <td>NaN</td>\n",
       "      <td>True</td>\n",
       "    </tr>\n",
       "    <tr>\n",
       "      <th>2</th>\n",
       "      <td>NB00237</td>\n",
       "      <td>NB00237_M_17</td>\n",
       "      <td>36.6</td>\n",
       "      <td>87.0</td>\n",
       "      <td>3010.0</td>\n",
       "      <td>46.1</td>\n",
       "      <td>30.0</td>\n",
       "      <td>Scavenged</td>\n",
       "      <td>MBM</td>\n",
       "      <td>Y</td>\n",
       "      <td>...</td>\n",
       "      <td>NaN</td>\n",
       "      <td>05/06/2025</td>\n",
       "      <td>20:57:00</td>\n",
       "      <td>20:57</td>\n",
       "      <td>2025-05-06 20:57:00</td>\n",
       "      <td>Long-Term NICU</td>\n",
       "      <td>NaN</td>\n",
       "      <td>True</td>\n",
       "      <td>NaN</td>\n",
       "      <td>True</td>\n",
       "    </tr>\n",
       "    <tr>\n",
       "      <th>3</th>\n",
       "      <td>NB00237</td>\n",
       "      <td>NB00237_M_19</td>\n",
       "      <td>37.1</td>\n",
       "      <td>89.0</td>\n",
       "      <td>3110.0</td>\n",
       "      <td>46.3</td>\n",
       "      <td>30.5</td>\n",
       "      <td>scavenged</td>\n",
       "      <td>MBM</td>\n",
       "      <td>Y</td>\n",
       "      <td>...</td>\n",
       "      <td>NaN</td>\n",
       "      <td>05/08/2025</td>\n",
       "      <td>20:43:00</td>\n",
       "      <td>20:43</td>\n",
       "      <td>2025-05-08 20:43:00</td>\n",
       "      <td>Long-Term NICU</td>\n",
       "      <td>NaN</td>\n",
       "      <td>True</td>\n",
       "      <td>NaN</td>\n",
       "      <td>True</td>\n",
       "    </tr>\n",
       "    <tr>\n",
       "      <th>4</th>\n",
       "      <td>NB00237</td>\n",
       "      <td>NB00237_M_20</td>\n",
       "      <td>37.5</td>\n",
       "      <td>93.0</td>\n",
       "      <td>3380.0</td>\n",
       "      <td>46.3</td>\n",
       "      <td>30.5</td>\n",
       "      <td>scavenged</td>\n",
       "      <td>MBM</td>\n",
       "      <td>Y</td>\n",
       "      <td>...</td>\n",
       "      <td>NaN</td>\n",
       "      <td>NaN</td>\n",
       "      <td>NaN</td>\n",
       "      <td>&lt;NA&gt;</td>\n",
       "      <td>NaT</td>\n",
       "      <td>Long-Term NICU</td>\n",
       "      <td>NaN</td>\n",
       "      <td>True</td>\n",
       "      <td>NaN</td>\n",
       "      <td>True</td>\n",
       "    </tr>\n",
       "    <tr>\n",
       "      <th>...</th>\n",
       "      <td>...</td>\n",
       "      <td>...</td>\n",
       "      <td>...</td>\n",
       "      <td>...</td>\n",
       "      <td>...</td>\n",
       "      <td>...</td>\n",
       "      <td>...</td>\n",
       "      <td>...</td>\n",
       "      <td>...</td>\n",
       "      <td>...</td>\n",
       "      <td>...</td>\n",
       "      <td>...</td>\n",
       "      <td>...</td>\n",
       "      <td>...</td>\n",
       "      <td>...</td>\n",
       "      <td>...</td>\n",
       "      <td>...</td>\n",
       "      <td>...</td>\n",
       "      <td>...</td>\n",
       "      <td>...</td>\n",
       "      <td>...</td>\n",
       "    </tr>\n",
       "    <tr>\n",
       "      <th>136</th>\n",
       "      <td>NB00469</td>\n",
       "      <td>NB00469_M_2</td>\n",
       "      <td>34.1</td>\n",
       "      <td>25.0</td>\n",
       "      <td>2040.0</td>\n",
       "      <td>42.5</td>\n",
       "      <td>30.3</td>\n",
       "      <td>scavenged</td>\n",
       "      <td>MBM</td>\n",
       "      <td>Y+Nutramigen</td>\n",
       "      <td>...</td>\n",
       "      <td>NaN</td>\n",
       "      <td>05/09/2025</td>\n",
       "      <td>21:09:00</td>\n",
       "      <td>21:09</td>\n",
       "      <td>2025-05-09 21:09:00</td>\n",
       "      <td>Acute NICU Phase</td>\n",
       "      <td>NaN</td>\n",
       "      <td>True</td>\n",
       "      <td>NaN</td>\n",
       "      <td>True</td>\n",
       "    </tr>\n",
       "    <tr>\n",
       "      <th>137</th>\n",
       "      <td>NB00486</td>\n",
       "      <td>NB00486_M_1</td>\n",
       "      <td>32.1</td>\n",
       "      <td>9.0</td>\n",
       "      <td>1055.0</td>\n",
       "      <td>36.0</td>\n",
       "      <td>26.7</td>\n",
       "      <td>Scavenged</td>\n",
       "      <td>DBM</td>\n",
       "      <td>Y</td>\n",
       "      <td>...</td>\n",
       "      <td>NaN</td>\n",
       "      <td>NaN</td>\n",
       "      <td>NaN</td>\n",
       "      <td>&lt;NA&gt;</td>\n",
       "      <td>NaT</td>\n",
       "      <td>Acute NICU Phase</td>\n",
       "      <td>NaN</td>\n",
       "      <td>True</td>\n",
       "      <td>NaN</td>\n",
       "      <td>True</td>\n",
       "    </tr>\n",
       "    <tr>\n",
       "      <th>138</th>\n",
       "      <td>NB00486</td>\n",
       "      <td>NB00486_M_2</td>\n",
       "      <td>32.1</td>\n",
       "      <td>9.0</td>\n",
       "      <td>1055.0</td>\n",
       "      <td>36.0</td>\n",
       "      <td>26.7</td>\n",
       "      <td>Scavenged</td>\n",
       "      <td>DBM</td>\n",
       "      <td>Y</td>\n",
       "      <td>...</td>\n",
       "      <td>NaN</td>\n",
       "      <td>NaN</td>\n",
       "      <td>NaN</td>\n",
       "      <td>&lt;NA&gt;</td>\n",
       "      <td>NaT</td>\n",
       "      <td>Acute NICU Phase</td>\n",
       "      <td>NaN</td>\n",
       "      <td>True</td>\n",
       "      <td>NaN</td>\n",
       "      <td>True</td>\n",
       "    </tr>\n",
       "    <tr>\n",
       "      <th>139</th>\n",
       "      <td>NB00487</td>\n",
       "      <td>NB00487_M_1</td>\n",
       "      <td>34.2</td>\n",
       "      <td>7.0</td>\n",
       "      <td>1940.0</td>\n",
       "      <td>44.3</td>\n",
       "      <td>29.0</td>\n",
       "      <td>Scavenged</td>\n",
       "      <td>DBM+MBM</td>\n",
       "      <td>Y</td>\n",
       "      <td>...</td>\n",
       "      <td>NaN</td>\n",
       "      <td>NaN</td>\n",
       "      <td>NaN</td>\n",
       "      <td>&lt;NA&gt;</td>\n",
       "      <td>NaT</td>\n",
       "      <td>Acute NICU Phase</td>\n",
       "      <td>NaN</td>\n",
       "      <td>True</td>\n",
       "      <td>NaN</td>\n",
       "      <td>True</td>\n",
       "    </tr>\n",
       "    <tr>\n",
       "      <th>140</th>\n",
       "      <td>NB00487</td>\n",
       "      <td>NB00487_M_2</td>\n",
       "      <td>34.2</td>\n",
       "      <td>7.0</td>\n",
       "      <td>1940.0</td>\n",
       "      <td>44.3</td>\n",
       "      <td>29.0</td>\n",
       "      <td>Scavenged</td>\n",
       "      <td>DBM+MBM</td>\n",
       "      <td>Y</td>\n",
       "      <td>...</td>\n",
       "      <td>NaN</td>\n",
       "      <td>NaN</td>\n",
       "      <td>NaN</td>\n",
       "      <td>&lt;NA&gt;</td>\n",
       "      <td>NaT</td>\n",
       "      <td>Acute NICU Phase</td>\n",
       "      <td>NaN</td>\n",
       "      <td>True</td>\n",
       "      <td>NaN</td>\n",
       "      <td>True</td>\n",
       "    </tr>\n",
       "  </tbody>\n",
       "</table>\n",
       "<p>141 rows × 44 columns</p>\n",
       "</div>"
      ],
      "text/plain": [
       "    Subject ID Sample Type_#   CGA   DOL  Current Weight  Current Height  \\\n",
       "0      NB00237  NB00237_M_10  35.0  74.0          2440.0            44.0   \n",
       "1      NB00237   NB00237_M_8  34.5  72.0          2350.0            43.5   \n",
       "2      NB00237  NB00237_M_17  36.6  87.0          3010.0            46.1   \n",
       "3      NB00237  NB00237_M_19  37.1  89.0          3110.0            46.3   \n",
       "4      NB00237  NB00237_M_20  37.5  93.0          3380.0            46.3   \n",
       "..         ...           ...   ...   ...             ...             ...   \n",
       "136    NB00469   NB00469_M_2  34.1  25.0          2040.0            42.5   \n",
       "137    NB00486   NB00486_M_1  32.1   9.0          1055.0            36.0   \n",
       "138    NB00486   NB00486_M_2  32.1   9.0          1055.0            36.0   \n",
       "139    NB00487   NB00487_M_1  34.2   7.0          1940.0            44.3   \n",
       "140    NB00487   NB00487_M_2  34.2   7.0          1940.0            44.3   \n",
       "\n",
       "     Current HC Scavenged/Fresh? Type of Milk           HMF  ...  \\\n",
       "0          29.0        Scavenged          MBM             Y  ...   \n",
       "1          28.5        Scavenged          MBM             Y  ...   \n",
       "2          30.0        Scavenged          MBM             Y  ...   \n",
       "3          30.5       scavenged           MBM             Y  ...   \n",
       "4          30.5       scavenged           MBM             Y  ...   \n",
       "..          ...              ...          ...           ...  ...   \n",
       "136        30.3        scavenged          MBM  Y+Nutramigen  ...   \n",
       "137        26.7        Scavenged          DBM             Y  ...   \n",
       "138        26.7        Scavenged          DBM             Y  ...   \n",
       "139        29.0        Scavenged      DBM+MBM             Y  ...   \n",
       "140        29.0        Scavenged      DBM+MBM             Y  ...   \n",
       "\n",
       "    DOL at Iron Feed Iron Date (Raw) Iron Time (Raw) Iron Time (Clean)  \\\n",
       "0                NaN             NaN             NaN              <NA>   \n",
       "1                NaN             NaN             NaN              <NA>   \n",
       "2                NaN      05/06/2025        20:57:00             20:57   \n",
       "3                NaN      05/08/2025        20:43:00             20:43   \n",
       "4                NaN             NaN             NaN              <NA>   \n",
       "..               ...             ...             ...               ...   \n",
       "136              NaN      05/09/2025        21:09:00             21:09   \n",
       "137              NaN             NaN             NaN              <NA>   \n",
       "138              NaN             NaN             NaN              <NA>   \n",
       "139              NaN             NaN             NaN              <NA>   \n",
       "140              NaN             NaN             NaN              <NA>   \n",
       "\n",
       "          Iron DateTime         DOL Category DOL at Collection (Numeric)  \\\n",
       "0                   NaT  Extended NICU Phase                        21.0   \n",
       "1                   NaT  Extended NICU Phase                         NaN   \n",
       "2   2025-05-06 20:57:00       Long-Term NICU                         NaN   \n",
       "3   2025-05-08 20:43:00       Long-Term NICU                         NaN   \n",
       "4                   NaT       Long-Term NICU                         NaN   \n",
       "..                  ...                  ...                         ...   \n",
       "136 2025-05-09 21:09:00     Acute NICU Phase                         NaN   \n",
       "137                 NaT     Acute NICU Phase                         NaN   \n",
       "138                 NaT     Acute NICU Phase                         NaN   \n",
       "139                 NaT     Acute NICU Phase                         NaN   \n",
       "140                 NaT     Acute NICU Phase                         NaN   \n",
       "\n",
       "    DOL Collection Discrepancy Flag DOL at Iron Feed (Numeric)  \\\n",
       "0                              True                        NaN   \n",
       "1                              True                        NaN   \n",
       "2                              True                        NaN   \n",
       "3                              True                        NaN   \n",
       "4                              True                        NaN   \n",
       "..                              ...                        ...   \n",
       "136                            True                        NaN   \n",
       "137                            True                        NaN   \n",
       "138                            True                        NaN   \n",
       "139                            True                        NaN   \n",
       "140                            True                        NaN   \n",
       "\n",
       "    Iron DOL Discrepancy Flag  \n",
       "0                        True  \n",
       "1                        True  \n",
       "2                        True  \n",
       "3                        True  \n",
       "4                        True  \n",
       "..                        ...  \n",
       "136                      True  \n",
       "137                      True  \n",
       "138                      True  \n",
       "139                      True  \n",
       "140                      True  \n",
       "\n",
       "[141 rows x 44 columns]"
      ]
     },
     "execution_count": 47,
     "metadata": {},
     "output_type": "execute_result"
    }
   ],
   "source": [
    "# Rename selected columns for clarity\n",
    "df.rename(columns={\n",
    "    'MBM/DMB?': 'Type of Milk',\n",
    "    'HMF Y/N?': 'HMF',\n",
    "    'TPN Y/N?': 'TPN',\n",
    "    'Iron Y/N?': 'Iron',\n",
    "    'Duration\\n(min)': 'Duration (min)',\n",
    "    'Linked?': 'Linked',\n",
    "    '# Aliquots ': 'Number of Aliquots'\n",
    "}, inplace=True)\n",
    "df"
   ]
  },
  {
   "cell_type": "code",
   "execution_count": 48,
   "id": "6f78f0a8",
   "metadata": {},
   "outputs": [
    {
     "data": {
      "text/plain": [
       "Index(['Subject ID', 'Sample Type_#', 'CGA', 'DOL', 'Current Weight',\n",
       "       'Current Height', 'Current HC', 'Scavenged/Fresh?', 'Type of Milk',\n",
       "       'HMF', 'TPN', 'Iron', 'Iron Date & time', 'Duration (min)', 'Linked',\n",
       "       'feeding time', 'Collection date/aliquot time for all samples',\n",
       "       '# Aliquots', 'Additional Comments',\n",
       "       'Milk Prep Room Expiration Date & Time', 'Collection Date',\n",
       "       'DOL at Collection', 'Extracted Raw Time', 'Collection Date/Time',\n",
       "       'Feeding Time Date', 'DOL at Feeding Time', 'Feeding Time (Raw)',\n",
       "       'Feeding Date/Time', 'Feeding Time Period', 'Is Prepped',\n",
       "       'Milk Prepped Time', 'Feeding Time (Final)', 'Aliquots',\n",
       "       'Duration_Feed', 'DOL at Iron Feed', 'Iron Date (Raw)',\n",
       "       'Iron Time (Raw)', 'Iron Time (Clean)', 'Iron DateTime', 'DOL Category',\n",
       "       'DOL at Collection (Numeric)', 'DOL Collection Discrepancy Flag',\n",
       "       'DOL at Iron Feed (Numeric)', 'Iron DOL Discrepancy Flag'],\n",
       "      dtype='object')"
      ]
     },
     "execution_count": 48,
     "metadata": {},
     "output_type": "execute_result"
    }
   ],
   "source": [
    "df.columns"
   ]
  },
  {
   "cell_type": "code",
   "execution_count": 49,
   "id": "b0ef7b2e",
   "metadata": {},
   "outputs": [
    {
     "name": "stdout",
     "output_type": "stream",
     "text": [
      "(141, 29)\n",
      "Index(['Subject ID', 'DOL', 'Current Weight', 'Current Height', 'Current HC',\n",
      "       'Scavenged/Fresh?', 'Type of Milk', 'HMF', 'TPN', 'Iron', 'Linked',\n",
      "       'Additional Comments', 'Milk Prep Room Expiration Date & Time',\n",
      "       'DOL at Collection', 'Collection Date/Time', 'DOL at Feeding Time',\n",
      "       'Feeding Time Period', 'Is Prepped', 'Feeding Time (Final)', 'Aliquots',\n",
      "       'Duration_Feed', 'DOL at Iron Feed', 'Milk Prepped Time',\n",
      "       'Iron DateTime', 'DOL Category', 'DOL at Collection (Numeric)',\n",
      "       'DOL Collection Discrepancy Flag', 'DOL at Iron Feed (Numeric)',\n",
      "       'Iron DOL Discrepancy Flag'],\n",
      "      dtype='object')\n"
     ]
    }
   ],
   "source": [
    "# Define the list of cleaned columns you want to keep\n",
    "columns_to_keep = [\n",
    "    'Subject ID',\n",
    "    'Sample Type_#'\n",
    "    'CGA',\n",
    "    'DOL',\n",
    "    'Current Weight',\n",
    "    'Current Height',\n",
    "    'Current HC',\n",
    "    'Scavenged/Fresh?',\n",
    "    'Type of Milk',\n",
    "    'HMF',\n",
    "    'TPN',\n",
    "    'Iron',\n",
    "    'Linked',\n",
    "    'Additional Comments',\n",
    "    'Milk Prep Room Expiration Date & Time',\n",
    "    'DOL at Collection',\n",
    "    'Collection Date/Time',\n",
    "    'DOL at Feeding Time',\n",
    "    'Feeding Time Period',\n",
    "    'Is Prepped',\n",
    "    'Feeding Time (Final)',\n",
    "    'Aliquots',\n",
    "    'Duration_Feed',\n",
    "    'DOL at Iron Feed',\n",
    "    'Milk Prepped Time',\n",
    "    'Iron DateTime',\n",
    "    'DOL Category',\n",
    "    'DOL at Collection (Numeric)', \n",
    "    'DOL Collection Discrepancy Flag',\n",
    "    'DOL at Iron Feed (Numeric)', \n",
    "    'Iron DOL Discrepancy Flag'\n",
    "]\n",
    "\n",
    "# Keep only the columns that exist in your current df (in case any are missing)\n",
    "cleaned_columns = [col for col in columns_to_keep if col in df.columns]\n",
    "\n",
    "# Create a cleaned version of the dataframe\n",
    "df_clean = df[cleaned_columns].copy()\n",
    "\n",
    "# Optionally preview\n",
    "print(df_clean.shape)\n",
    "print(df_clean.columns)"
   ]
  },
  {
   "cell_type": "code",
   "execution_count": 50,
   "id": "f2b784ec",
   "metadata": {},
   "outputs": [
    {
     "data": {
      "application/vnd.microsoft.datawrangler.viewer.v0+json": {
       "columns": [
        {
         "name": "index",
         "rawType": "int64",
         "type": "integer"
        },
        {
         "name": "Subject ID",
         "rawType": "object",
         "type": "string"
        },
        {
         "name": "DOL",
         "rawType": "float64",
         "type": "float"
        },
        {
         "name": "Current Weight",
         "rawType": "float64",
         "type": "float"
        },
        {
         "name": "Current Height",
         "rawType": "float64",
         "type": "float"
        },
        {
         "name": "Current HC",
         "rawType": "float64",
         "type": "float"
        },
        {
         "name": "Scavenged/Fresh?",
         "rawType": "object",
         "type": "string"
        },
        {
         "name": "Type of Milk",
         "rawType": "object",
         "type": "string"
        },
        {
         "name": "HMF",
         "rawType": "object",
         "type": "unknown"
        },
        {
         "name": "TPN",
         "rawType": "object",
         "type": "unknown"
        },
        {
         "name": "Iron",
         "rawType": "object",
         "type": "unknown"
        },
        {
         "name": "Linked",
         "rawType": "object",
         "type": "string"
        },
        {
         "name": "Additional Comments",
         "rawType": "object",
         "type": "unknown"
        },
        {
         "name": "Milk Prep Room Expiration Date & Time",
         "rawType": "object",
         "type": "unknown"
        },
        {
         "name": "DOL at Collection",
         "rawType": "object",
         "type": "unknown"
        },
        {
         "name": "Collection Date/Time",
         "rawType": "datetime64[ns]",
         "type": "datetime"
        },
        {
         "name": "DOL at Feeding Time",
         "rawType": "object",
         "type": "unknown"
        },
        {
         "name": "Feeding Time Period",
         "rawType": "object",
         "type": "unknown"
        },
        {
         "name": "Is Prepped",
         "rawType": "bool",
         "type": "boolean"
        },
        {
         "name": "Feeding Time (Final)",
         "rawType": "object",
         "type": "unknown"
        },
        {
         "name": "Aliquots",
         "rawType": "float64",
         "type": "float"
        },
        {
         "name": "Duration_Feed",
         "rawType": "float64",
         "type": "float"
        },
        {
         "name": "DOL at Iron Feed",
         "rawType": "object",
         "type": "unknown"
        },
        {
         "name": "Milk Prepped Time",
         "rawType": "object",
         "type": "unknown"
        },
        {
         "name": "Iron DateTime",
         "rawType": "datetime64[ns]",
         "type": "datetime"
        },
        {
         "name": "DOL Category",
         "rawType": "object",
         "type": "string"
        },
        {
         "name": "DOL at Collection (Numeric)",
         "rawType": "float64",
         "type": "float"
        },
        {
         "name": "DOL Collection Discrepancy Flag",
         "rawType": "bool",
         "type": "boolean"
        },
        {
         "name": "DOL at Iron Feed (Numeric)",
         "rawType": "float64",
         "type": "float"
        },
        {
         "name": "Iron DOL Discrepancy Flag",
         "rawType": "bool",
         "type": "boolean"
        }
       ],
       "ref": "943c7860-9467-4861-8aeb-2a3e461bb97b",
       "rows": [
        [
         "0",
         "NB00237",
         "74.0",
         "2440.0",
         "44.0",
         "29.0",
         "Scavenged",
         "MBM",
         "Y",
         "N",
         null,
         "Y",
         "Residual from Milk Prep Room",
         null,
         "DOL 21",
         "2025-04-23 11:13:00",
         null,
         "PM",
         "True",
         null,
         "11.0",
         null,
         null,
         "04/22/2025",
         null,
         "Extended NICU Phase",
         "21.0",
         "True",
         null,
         "True"
        ],
        [
         "1",
         "NB00237",
         "72.0",
         "2350.0",
         "43.5",
         "28.5",
         "Scavenged",
         "MBM",
         "Y",
         "N",
         null,
         "Y",
         "Residual from Milk Prep Room",
         null,
         null,
         null,
         null,
         "PM",
         "True",
         null,
         "6.0",
         null,
         null,
         "04/20/2025",
         null,
         "Extended NICU Phase",
         null,
         "True",
         null,
         "True"
        ],
        [
         "2",
         "NB00237",
         "87.0",
         "3010.0",
         "46.1",
         "30.0",
         "Scavenged",
         "MBM",
         "Y",
         "N",
         "Y",
         "Y",
         "Scavenged Feeding Tube",
         "Unknown ",
         null,
         null,
         null,
         null,
         "False",
         "05/06/2025 08:56:00",
         "2.5",
         null,
         null,
         null,
         "2025-05-06 20:57:00",
         "Long-Term NICU",
         null,
         "True",
         null,
         "True"
        ],
        [
         "3",
         "NB00237",
         "89.0",
         "3110.0",
         "46.3",
         "30.5",
         "scavenged ",
         "MBM",
         "Y",
         "N",
         "Y",
         "Y",
         "Scavenged Feeding Tube",
         "2025-05-08 16:49:00",
         null,
         null,
         null,
         null,
         "False",
         "05/08/2025 12:03:00",
         "3.5",
         "45.0",
         null,
         null,
         "2025-05-08 20:43:00",
         "Long-Term NICU",
         null,
         "True",
         null,
         "True"
        ],
        [
         "4",
         "NB00237",
         "93.0",
         "3380.0",
         "46.3",
         "30.5",
         "scavenged ",
         "MBM",
         "Y",
         "N",
         null,
         "Y",
         "Residual from Milk Prep Room",
         null,
         null,
         null,
         null,
         "PM",
         "True",
         null,
         "8.0",
         null,
         null,
         "05/11/2025",
         null,
         "Long-Term NICU",
         null,
         "True",
         null,
         "True"
        ],
        [
         "5",
         "NB00237",
         "93.0",
         "3380.0",
         "46.3",
         "30.5",
         "scavenged ",
         "MBM",
         "Y",
         "N",
         "Y",
         "Y",
         "Scavenged Feeding Tube",
         "2025-05-12 17:26:00",
         null,
         null,
         null,
         null,
         "False",
         "05/12/2025 09:01:00",
         "1.0",
         "30.0",
         null,
         null,
         "2025-05-11 21:08:00",
         "Long-Term NICU",
         null,
         "True",
         null,
         "True"
        ],
        [
         "6",
         "NB00237",
         "61.0",
         "1870.0",
         "43.0",
         "27.0",
         "Scavenged ",
         "MBM",
         "Y",
         "N",
         "Y",
         "Y",
         "Scavenged Feeding Tube",
         "2025-04-10 15:18:00",
         "DOL 61",
         "2025-04-10 14:06:00",
         "DOL 61",
         null,
         "False",
         "04/10/2025 8:52",
         "2.2",
         null,
         "DOL 61",
         null,
         null,
         "Extended NICU Phase",
         "61.0",
         "False",
         null,
         "True"
        ],
        [
         "7",
         "NB00237",
         "61.0",
         "1870.0",
         "43.0",
         "27.0",
         "Scavenged ",
         "MBM",
         "Y",
         "N",
         null,
         "Y",
         "Residual from Milk Prep Room",
         null,
         "DOL 74",
         "2025-04-10 13:15:00",
         null,
         "PM",
         "True",
         null,
         "11.0",
         null,
         null,
         "04/09/2025",
         null,
         "Extended NICU Phase",
         "74.0",
         "True",
         null,
         "True"
        ],
        [
         "8",
         "NB00237",
         "62.0",
         "1910.0",
         "43.0",
         "27.0",
         "Scavenged ",
         "MBM",
         "Y",
         "N",
         null,
         "Y",
         "Residual from Milk Prep Room",
         null,
         "DOL 62",
         "2025-04-11 10:16:00",
         null,
         "PM",
         "True",
         null,
         "6.0",
         null,
         null,
         "04/10/2025",
         null,
         "Extended NICU Phase",
         "62.0",
         "False",
         null,
         "True"
        ],
        [
         "9",
         "NB00237",
         "62.0",
         "1910.0",
         "43.0",
         "27.0",
         "Scavenged ",
         "MBM",
         "Y",
         "N",
         "Y",
         "Y",
         "Scavenged Feeding Tube",
         "2025-04-11 15:20:00",
         "DOL 62",
         "2025-04-11 09:47:00",
         "DOL 62",
         null,
         "False",
         "04/11/2025 9:35",
         "1.0",
         null,
         "DOL 62",
         null,
         null,
         "Extended NICU Phase",
         "62.0",
         "False",
         null,
         "True"
        ],
        [
         "10",
         "NB00237",
         "68.0",
         "2110.0",
         "43.5",
         "28.5",
         "Scavenged",
         "MBM",
         "Y",
         "N",
         null,
         "Y",
         "Residual from Milk Prep Room",
         null,
         "DOL 68",
         "2025-04-17 08:39:00",
         null,
         "PM",
         "True",
         null,
         "4.0",
         null,
         null,
         "04/16/2025",
         null,
         "Extended NICU Phase",
         "68.0",
         "False",
         null,
         "True"
        ],
        [
         "11",
         "NB00237",
         "68.0",
         "2110.0",
         "43.5",
         "28.5",
         "Scavenged",
         "MBM",
         "Y",
         "N",
         "Y",
         "Y",
         "Scavenged Feeding Tube",
         "2025-04-17 16:04:00",
         "DOL 68",
         "2025-04-17 14:10:00",
         "DOL 68",
         null,
         "False",
         "04/17/2025 11:50",
         "1.0",
         null,
         "DOL 67",
         null,
         null,
         "Extended NICU Phase",
         "68.0",
         "False",
         null,
         "True"
        ],
        [
         "12",
         "NB00237",
         "72.0",
         "2350.0",
         "43.5",
         "28.5",
         "Scavenged",
         "MBM",
         "Y",
         "N",
         "Y",
         "Y",
         "Scavenged Feeding Tube",
         "2025-04-21 16:50:00",
         "DOL 72",
         "2025-04-21 10:30:00",
         "DOL 72",
         null,
         "False",
         "04/21/2025 08:45",
         "2.0",
         "60.0",
         "DOL 72",
         null,
         null,
         "Extended NICU Phase",
         "72.0",
         "False",
         null,
         "True"
        ],
        [
         "13",
         "NB00237",
         "74.0",
         "2440.0",
         "44.0",
         "29.0",
         "Scavenged",
         "MBM",
         "Y",
         "N",
         "Y",
         "Y",
         "Scavenged Feeding Tube",
         "2025-04-22 15:51:00",
         "DOL 74",
         "2025-04-23 18:35:00",
         "DOL 74",
         null,
         "False",
         "04/23/2025 9:05",
         "1.0",
         "45.0",
         "DOL 74",
         null,
         null,
         "Extended NICU Phase",
         "74.0",
         "False",
         null,
         "True"
        ],
        [
         "14",
         "NB00237",
         "75.0",
         "2500.0",
         "44.0",
         "29.0",
         "Scavenged",
         "MBM",
         "Y",
         "N",
         "Y",
         "Y",
         "Scavenged Feeding Tube",
         "2025-04-24 15:57:00",
         "DOL 75",
         "2025-04-24 10:53:00",
         "DOL 75",
         null,
         "False",
         "04/24/2025 8:58",
         "1.0",
         "30.0",
         "DOL 75",
         null,
         null,
         "Extended NICU Phase",
         "75.0",
         "False",
         null,
         "True"
        ],
        [
         "15",
         "NB00237",
         "75.0",
         "2500.0",
         "44.0",
         "29.0",
         "Scavenged",
         "MBM",
         "Y",
         "N",
         null,
         "Y",
         "Residual from Milk Prep Room",
         null,
         "DOL 75",
         "2025-04-24 08:33:00",
         null,
         "PM",
         "True",
         null,
         "5.0",
         null,
         null,
         "04/23/2025",
         null,
         "Extended NICU Phase",
         "75.0",
         "False",
         null,
         "True"
        ],
        [
         "16",
         "NB00237",
         "87.0",
         "3010.0",
         "46.1",
         "30.0",
         "Scavenged",
         "MBM",
         "Y",
         "N",
         null,
         "Y",
         "Residual from Milk Prep Room",
         null,
         "DOL 31",
         "2025-05-06 12:56:00",
         null,
         "PM",
         "True",
         null,
         "10.0",
         null,
         null,
         "05/05/2025",
         null,
         "Long-Term NICU",
         "31.0",
         "True",
         null,
         "True"
        ],
        [
         "17",
         "NB00237",
         "89.0",
         "3110.0",
         "46.3",
         "30.5",
         "scavenged ",
         "MBM",
         "Y",
         "N",
         null,
         "Y",
         "Residual from Milk Prep Room",
         null,
         null,
         "2025-05-08 13:53:00",
         null,
         "PM",
         "True",
         null,
         "7.0",
         null,
         null,
         "05/07/2025",
         null,
         "Long-Term NICU",
         null,
         "True",
         null,
         "True"
        ],
        [
         "18",
         "NB00238",
         "74.0",
         "1950.0",
         "38.5",
         "28.3",
         "Scavenged ",
         "MBM",
         "Y",
         "Y",
         null,
         "Y",
         "Residual from Milk Prep Room",
         null,
         "DOL 74",
         "2025-04-10 13:01:00",
         null,
         "PM",
         "True",
         null,
         "2.0",
         null,
         null,
         "04/09/2025",
         null,
         "Extended NICU Phase",
         "74.0",
         "False",
         null,
         "True"
        ],
        [
         "19",
         "NB00238",
         "74.0",
         "1950.0",
         "38.5",
         "28.3",
         "Scavenged ",
         "MBM",
         "Y",
         "Y",
         "Y",
         "Y",
         "Scavenged Feeding Tube",
         "2025-04-10 15:46:00",
         "DOL 74",
         "2025-04-10 14:04:00",
         "DOL 74",
         null,
         "False",
         "04/10/2025 8:25",
         "1.0",
         null,
         "DOL 74",
         null,
         null,
         "Extended NICU Phase",
         "74.0",
         "False",
         null,
         "True"
        ],
        [
         "20",
         "NB00238",
         "75.0",
         "1960.0",
         "41.0",
         "29.3",
         "Scavenged ",
         "MBM",
         "Y",
         "Y",
         null,
         "Y",
         "Residual from Milk Prep Room",
         null,
         "DOL 75",
         "2025-04-11 08:45:00",
         null,
         "PM",
         "True",
         null,
         "7.0",
         null,
         null,
         "04/10/2025",
         null,
         "Extended NICU Phase",
         "75.0",
         "False",
         null,
         "True"
        ],
        [
         "21",
         "NB00238",
         "75.0",
         "1960.0",
         "41.0",
         "29.3",
         "Scavenged ",
         "MBM",
         "Y",
         "Y",
         "Y",
         "Y",
         "Scavenged Feeding Tube",
         "2025-04-11 16:21:00",
         "DOL 75",
         "2025-04-11 09:52:00",
         null,
         "AM",
         "False",
         "",
         "2.8",
         null,
         "DOL 75",
         null,
         null,
         "Extended NICU Phase",
         "75.0",
         "False",
         null,
         "True"
        ],
        [
         "22",
         "NB00238",
         "80.0",
         "2090.0",
         "41.0",
         "29.3",
         "Scavenged ",
         "MBM",
         "Y",
         "Y",
         null,
         "Y",
         "Residual from Milk Prep Room",
         null,
         "DOL 80",
         "2025-04-16 11:15:00",
         null,
         "PM",
         "True",
         null,
         "5.0",
         null,
         null,
         "04/15/2025",
         null,
         "Long-Term NICU",
         "80.0",
         "False",
         null,
         "True"
        ],
        [
         "23",
         "NB00238",
         "80.0",
         "2090.0",
         "41.0",
         "29.3",
         "Scavenged ",
         "MBM",
         "Y",
         "Y",
         "Y",
         "Y",
         "Scavenged Feeding Tube",
         "2025-04-16 17:04:00",
         "DOL 80",
         "2025-04-16 11:30:00",
         "DOL 80",
         null,
         "False",
         "04/16/2025 8:16",
         "1.0",
         null,
         "DOL 80",
         null,
         null,
         "Long-Term NICU",
         "80.0",
         "False",
         null,
         "True"
        ],
        [
         "24",
         "NB00238",
         "81.0",
         "2090.0",
         "41.0",
         "29.3",
         "Scavenged",
         "MBM",
         "Y",
         "Y",
         "Y",
         "Y",
         "Scavenged Feeding Tube",
         "2025-04-17 14:13:00",
         "DOL81",
         "2025-04-17 09:17:00",
         "DOL 81",
         null,
         "False",
         "04/17/2025 05:31",
         "1.3",
         null,
         "DOL 20",
         null,
         null,
         "Long-Term NICU",
         "81.0",
         "False",
         null,
         "True"
        ],
        [
         "25",
         "NB00238",
         "81.0",
         "2090.0",
         "41.0",
         "29.3",
         "Scavenged",
         "MBM",
         "Y",
         "Y",
         null,
         "Y",
         "Residual from Milk Prep Room",
         null,
         "DOL 81",
         "2025-04-17 09:21:00",
         null,
         "PM",
         "True",
         null,
         "6.0",
         null,
         null,
         "04/16/2025",
         null,
         "Long-Term NICU",
         "81.0",
         "False",
         null,
         "True"
        ],
        [
         "26",
         "NB00354",
         "13.0",
         "1000.0",
         "34.0",
         "34.5",
         "Scavenged ",
         "MBM",
         "Y",
         "N",
         "N",
         "Y",
         "Scavenged Feeding Tube",
         "2025-04-10 15:37:00",
         "DOL 13",
         "2025-04-10 14:11:00",
         "DOL 13",
         null,
         "False",
         "04/10/2025 8:36",
         "1.0",
         null,
         null,
         null,
         null,
         "Acute NICU Phase",
         "13.0",
         "False",
         null,
         "True"
        ],
        [
         "27",
         "NB00354",
         "13.0",
         "1000.0",
         "34.0",
         "34.5",
         "Scavenged ",
         "MBM",
         "Y",
         "N",
         null,
         "Y",
         "Residual from Milk Prep Room",
         null,
         "DOL 74",
         "2025-04-10 13:07:00",
         null,
         "PM",
         "True",
         null,
         "5.0",
         null,
         null,
         "04/09/2025",
         null,
         "Acute NICU Phase",
         "74.0",
         "True",
         null,
         "True"
        ],
        [
         "28",
         "NB00354",
         "14.0",
         "1015.0",
         "34.0",
         "34.5",
         "Scavenged ",
         "MBM",
         "Y",
         "N",
         null,
         "Y",
         "Residual from Milk Prep Room",
         null,
         "DOL 14",
         "2025-04-11 10:06:00",
         null,
         "PM",
         "True",
         null,
         "8.0",
         null,
         null,
         "04/10/2025",
         null,
         "Acute NICU Phase",
         "14.0",
         "False",
         null,
         "True"
        ],
        [
         "29",
         "NB00354",
         "14.0",
         "1015.0",
         "34.0",
         "34.5",
         "Scavenged ",
         "MBM",
         "Y",
         "N",
         "Y",
         "Y",
         "Scavenged Feeding Tube",
         "2025-04-11 16:00:00",
         "DOL 14",
         "2025-04-11 09:34:00",
         "DOL 14",
         null,
         "False",
         "04/11/2025 8:07",
         "2.0",
         null,
         "DOL 14",
         null,
         null,
         "Acute NICU Phase",
         "14.0",
         "False",
         null,
         "True"
        ],
        [
         "30",
         "NB00354",
         "17.0",
         "1095.0",
         "35.2",
         "24.1",
         "Scavenged ",
         "MBM",
         "Y",
         "N",
         "Y",
         "Y",
         "Scavenged Feeding Tube",
         "2025-04-14 16:39:00",
         "DOL 17",
         "2025-04-14 10:20:00",
         "DOL 17",
         null,
         "False",
         "04/14/2025 8:41",
         "1.0",
         null,
         "DOL 17",
         null,
         null,
         "Acute NICU Phase",
         "17.0",
         "False",
         null,
         "True"
        ],
        [
         "31",
         "NB00354",
         "17.0",
         "1095.0",
         "35.2",
         "24.1",
         "Scavenged ",
         "MBM",
         "Y",
         "N",
         "Y",
         "Y",
         "Scavenged Feeding Tube",
         "2025-04-14 16:39:00",
         "DOL 17",
         "2025-04-14 12:32:00",
         null,
         "AM",
         "False",
         "11:02",
         "1.0",
         null,
         "DOL 17",
         null,
         null,
         "Acute NICU Phase",
         "17.0",
         "False",
         null,
         "True"
        ],
        [
         "32",
         "NB00354",
         "17.0",
         "1095.0",
         "35.2",
         "24.1",
         "Scavenged ",
         "MBM",
         "Y",
         "N",
         null,
         "Y",
         "Residual from Milk Prep Room",
         null,
         "DOL 17",
         "2025-04-14 08:47:00",
         null,
         "PM",
         "True",
         null,
         "5.8",
         null,
         null,
         "04/13/2025",
         null,
         "Acute NICU Phase",
         "17.0",
         "False",
         null,
         "True"
        ],
        [
         "33",
         "NB00354",
         "18.0",
         "1125.0",
         "35.2",
         "24.1",
         "Scavenged",
         "MBM",
         "Y",
         "N",
         null,
         "Y",
         "Residual from Milk Prep Room",
         null,
         "DOL 18",
         "2025-04-15 07:45:00",
         null,
         "PM",
         "True",
         null,
         "4.3",
         null,
         null,
         "04/14/2025",
         null,
         "Acute NICU Phase",
         "18.0",
         "False",
         null,
         "True"
        ],
        [
         "34",
         "NB00354",
         "18.0",
         "1125.0",
         "35.2",
         "24.1",
         "Scavenged",
         "MBM",
         "Y",
         "N",
         "Y",
         "Y",
         "Scavenged Feeding Tube",
         "2025-04-15 17:13:00",
         "DOL 18",
         "2025-04-15 09:35:00",
         "DOL 18",
         null,
         "False",
         "04/15/2025 08:09",
         "1.0",
         null,
         "DOL 17",
         null,
         null,
         "Acute NICU Phase",
         "18.0",
         "False",
         null,
         "True"
        ],
        [
         "35",
         "NB00354",
         "18.0",
         "1125.0",
         "35.2",
         "24.1",
         "Scavenged",
         "MBM",
         "Y",
         "N",
         "Y",
         "Y",
         "Scavenged Feeding Tube",
         "Unknown ",
         "DOL 18",
         "2025-04-15 12:13:00",
         "DOL 18",
         null,
         "False",
         "04/15/2025 10:56",
         "2.3",
         null,
         "DOL 18",
         null,
         null,
         "Acute NICU Phase",
         "18.0",
         "False",
         null,
         "True"
        ],
        [
         "36",
         "NB00354",
         "20.0",
         "1205.0",
         "36.5",
         "25.5",
         "Scavenged",
         "MBM",
         "Y",
         "N",
         "Y",
         "Y",
         "Scavenged Feeding Tube",
         "2025-04-17 16:04:00",
         "DOL 20",
         "2025-04-17 14:15:00",
         "DOL 20",
         null,
         "False",
         "04/17/2025 08:38",
         "2.4",
         null,
         "DOL 20",
         null,
         null,
         "Acute NICU Phase",
         "20.0",
         "False",
         null,
         "True"
        ],
        [
         "37",
         "NB00354",
         "20.0",
         "1205.0",
         "36.5",
         "25.5",
         "Scavenged",
         "MBM",
         "Y",
         "N",
         null,
         "Y",
         "Residual from Milk Prep Room",
         null,
         "DOL 20",
         "2025-04-17 08:35:00",
         null,
         "PM",
         "True",
         null,
         "7.0",
         null,
         null,
         "04/16/2025",
         null,
         "Acute NICU Phase",
         "20.0",
         "False",
         null,
         "True"
        ],
        [
         "38",
         "NB00354",
         "24.0",
         "1305.0",
         "36.5",
         "26.0",
         "Scavenged",
         "MBM",
         "Y",
         null,
         null,
         "Y",
         "Residual from Milk Prep Room",
         null,
         "DOL 24",
         null,
         null,
         "PM",
         "True",
         null,
         "5.0",
         null,
         null,
         "04/20/2025",
         null,
         "Acute NICU Phase",
         "24.0",
         "False",
         null,
         "True"
        ],
        [
         "39",
         "NB00354",
         "24.0",
         "1305.0",
         "36.5",
         "26.0",
         "Scavenged",
         "MBM",
         "Y",
         "N",
         "Y",
         "Y",
         "Scavenged Feeding Tube",
         "2025-04-21 17:14:00",
         "DOL 24",
         "2025-04-21 10:20:00",
         "DOL 24",
         null,
         "False",
         "04/21/2025 08:25",
         "1.0",
         null,
         null,
         null,
         null,
         "Acute NICU Phase",
         "24.0",
         "False",
         null,
         "True"
        ],
        [
         "40",
         "NB00354",
         "26.0",
         "1415.0",
         "36.5",
         "26.0",
         "Scavenged",
         "MBM",
         "Y",
         "N",
         null,
         "Y",
         "Residual from Milk Prep Room",
         null,
         "DOL 21",
         "2025-04-23 11:13:00",
         null,
         "PM",
         "True",
         null,
         "5.0",
         "45.0",
         null,
         "04/22/2025",
         null,
         "Acute NICU Phase",
         "21.0",
         "True",
         null,
         "True"
        ],
        [
         "41",
         "NB00354",
         "26.0",
         "1415.0",
         "36.5",
         "26.0",
         "Scavenged",
         "MBM",
         "Y",
         "N",
         "Y",
         "Y",
         "Scavenged Feeding Tube",
         "2025-04-23 16:14:00",
         "DOL 74",
         "2025-04-23 18:33:00",
         "DOL 74",
         null,
         "False",
         "04/23/2025 8:20",
         "1.0",
         "45.0",
         "DOL 74",
         null,
         null,
         "Acute NICU Phase",
         "74.0",
         "True",
         null,
         "True"
        ],
        [
         "42",
         "NB00354",
         "27.0",
         "1475.0",
         "36.5",
         "26.0",
         "Scavenged",
         "MBM",
         "Y",
         "N",
         "Y",
         "Y",
         "Scavenged Feeding Tube",
         "2025-04-25 16:22:00",
         "DOL 27",
         "2025-04-24 10:50:00",
         "DOL 75",
         null,
         "False",
         "04/24/2025 8:04",
         "1.0",
         "45.0",
         "DOL 27",
         null,
         null,
         "Acute NICU Phase",
         "27.0",
         "False",
         null,
         "True"
        ],
        [
         "43",
         "NB00354",
         "27.0",
         "1475.0",
         "36.5",
         "26.0",
         "Scavenged",
         "MBM",
         "Y",
         "N",
         null,
         "Y",
         "Residual from Milk Prep Room",
         null,
         "DOL 27",
         "2025-04-24 08:22:00",
         null,
         "PM",
         "True",
         null,
         "11.0",
         "45.0",
         null,
         "04/23/2025",
         null,
         "Acute NICU Phase",
         "27.0",
         "False",
         null,
         "True"
        ],
        [
         "44",
         "NB00359",
         "24.0",
         "1720.0",
         "40.0",
         "28.0",
         "Scavenged",
         "MBM",
         "Y",
         null,
         null,
         "Y",
         "Residual from Milk Prep Room",
         null,
         null,
         null,
         null,
         "PM",
         "True",
         null,
         "3.0",
         null,
         null,
         "04/20/2025",
         null,
         "Acute NICU Phase",
         null,
         "True",
         null,
         "True"
        ],
        [
         "45",
         "NB00359",
         "38.0",
         "2045.0",
         "42.0",
         "29.5",
         "Scavenged",
         "MBM",
         "Y",
         "N",
         "Y",
         "Y",
         "Scavenged Feeding Tube",
         "2025-05-05 17:02:00",
         null,
         null,
         null,
         null,
         "False",
         "05/05/2025 08:08:00",
         "2.3",
         null,
         null,
         null,
         "2025-05-05 08:11:00",
         "Extended NICU Phase",
         null,
         "True",
         null,
         "True"
        ],
        [
         "46",
         "NB00359",
         "41.0",
         "2195.0",
         "43.0",
         "30.5",
         "scavenged ",
         "MBM",
         "Y",
         null,
         null,
         "Y",
         "Residual from Milk Prep Room",
         null,
         null,
         null,
         null,
         "PM",
         "True",
         null,
         "7.5",
         null,
         null,
         "05/07/2025",
         null,
         "Extended NICU Phase",
         null,
         "True",
         null,
         "True"
        ],
        [
         "47",
         "NB00359",
         "41.0",
         "2195.0",
         "43.0",
         "30.5",
         "scavenged ",
         "MBM",
         "Y",
         "N",
         "Y",
         "Y",
         "Scavenged Feeding Tube",
         "17:29:00",
         null,
         null,
         null,
         null,
         "False",
         "05/08/2025 08:01:00",
         "1.0",
         null,
         null,
         null,
         "2025-05-08 08:01:00",
         "Extended NICU Phase",
         null,
         "True",
         null,
         "True"
        ],
        [
         "48",
         "NB00359",
         "13.0",
         "1280.0",
         "39.0",
         "26.0",
         "Scavenged ",
         "MBM",
         "Y",
         "N",
         "N",
         "Y",
         "Scavenged Feeding Tube",
         "2025-04-10 16:19:00",
         "DOL 13",
         "2025-04-10 14:08:00",
         "DOL 13",
         null,
         "False",
         "04/10/2025 8:02",
         "1.3",
         null,
         null,
         null,
         null,
         "Acute NICU Phase",
         "13.0",
         "False",
         null,
         "True"
        ],
        [
         "49",
         "NB00359",
         "13.0",
         "1280.0",
         "39.0",
         "26.0",
         "Scavenged ",
         "MBM",
         "Y",
         "N",
         "N",
         "Y",
         "Residual from Milk Prep Room",
         null,
         "DOL 74",
         "2025-04-10 13:09:00",
         null,
         "PM",
         "True",
         null,
         "7.2",
         null,
         null,
         "04/09/2025",
         null,
         "Acute NICU Phase",
         "74.0",
         "True",
         null,
         "True"
        ]
       ],
       "shape": {
        "columns": 29,
        "rows": 141
       }
      },
      "text/html": [
       "<div>\n",
       "<style scoped>\n",
       "    .dataframe tbody tr th:only-of-type {\n",
       "        vertical-align: middle;\n",
       "    }\n",
       "\n",
       "    .dataframe tbody tr th {\n",
       "        vertical-align: top;\n",
       "    }\n",
       "\n",
       "    .dataframe thead th {\n",
       "        text-align: right;\n",
       "    }\n",
       "</style>\n",
       "<table border=\"1\" class=\"dataframe\">\n",
       "  <thead>\n",
       "    <tr style=\"text-align: right;\">\n",
       "      <th></th>\n",
       "      <th>Subject ID</th>\n",
       "      <th>DOL</th>\n",
       "      <th>Current Weight</th>\n",
       "      <th>Current Height</th>\n",
       "      <th>Current HC</th>\n",
       "      <th>Scavenged/Fresh?</th>\n",
       "      <th>Type of Milk</th>\n",
       "      <th>HMF</th>\n",
       "      <th>TPN</th>\n",
       "      <th>Iron</th>\n",
       "      <th>...</th>\n",
       "      <th>Aliquots</th>\n",
       "      <th>Duration_Feed</th>\n",
       "      <th>DOL at Iron Feed</th>\n",
       "      <th>Milk Prepped Time</th>\n",
       "      <th>Iron DateTime</th>\n",
       "      <th>DOL Category</th>\n",
       "      <th>DOL at Collection (Numeric)</th>\n",
       "      <th>DOL Collection Discrepancy Flag</th>\n",
       "      <th>DOL at Iron Feed (Numeric)</th>\n",
       "      <th>Iron DOL Discrepancy Flag</th>\n",
       "    </tr>\n",
       "  </thead>\n",
       "  <tbody>\n",
       "    <tr>\n",
       "      <th>0</th>\n",
       "      <td>NB00237</td>\n",
       "      <td>74.0</td>\n",
       "      <td>2440.0</td>\n",
       "      <td>44.0</td>\n",
       "      <td>29.0</td>\n",
       "      <td>Scavenged</td>\n",
       "      <td>MBM</td>\n",
       "      <td>Y</td>\n",
       "      <td>N</td>\n",
       "      <td>NaN</td>\n",
       "      <td>...</td>\n",
       "      <td>11.0</td>\n",
       "      <td>NaN</td>\n",
       "      <td>NaN</td>\n",
       "      <td>04/22/2025</td>\n",
       "      <td>NaT</td>\n",
       "      <td>Extended NICU Phase</td>\n",
       "      <td>21.0</td>\n",
       "      <td>True</td>\n",
       "      <td>NaN</td>\n",
       "      <td>True</td>\n",
       "    </tr>\n",
       "    <tr>\n",
       "      <th>1</th>\n",
       "      <td>NB00237</td>\n",
       "      <td>72.0</td>\n",
       "      <td>2350.0</td>\n",
       "      <td>43.5</td>\n",
       "      <td>28.5</td>\n",
       "      <td>Scavenged</td>\n",
       "      <td>MBM</td>\n",
       "      <td>Y</td>\n",
       "      <td>N</td>\n",
       "      <td>NaN</td>\n",
       "      <td>...</td>\n",
       "      <td>6.0</td>\n",
       "      <td>NaN</td>\n",
       "      <td>NaN</td>\n",
       "      <td>04/20/2025</td>\n",
       "      <td>NaT</td>\n",
       "      <td>Extended NICU Phase</td>\n",
       "      <td>NaN</td>\n",
       "      <td>True</td>\n",
       "      <td>NaN</td>\n",
       "      <td>True</td>\n",
       "    </tr>\n",
       "    <tr>\n",
       "      <th>2</th>\n",
       "      <td>NB00237</td>\n",
       "      <td>87.0</td>\n",
       "      <td>3010.0</td>\n",
       "      <td>46.1</td>\n",
       "      <td>30.0</td>\n",
       "      <td>Scavenged</td>\n",
       "      <td>MBM</td>\n",
       "      <td>Y</td>\n",
       "      <td>N</td>\n",
       "      <td>Y</td>\n",
       "      <td>...</td>\n",
       "      <td>2.5</td>\n",
       "      <td>NaN</td>\n",
       "      <td>NaN</td>\n",
       "      <td>NaN</td>\n",
       "      <td>2025-05-06 20:57:00</td>\n",
       "      <td>Long-Term NICU</td>\n",
       "      <td>NaN</td>\n",
       "      <td>True</td>\n",
       "      <td>NaN</td>\n",
       "      <td>True</td>\n",
       "    </tr>\n",
       "    <tr>\n",
       "      <th>3</th>\n",
       "      <td>NB00237</td>\n",
       "      <td>89.0</td>\n",
       "      <td>3110.0</td>\n",
       "      <td>46.3</td>\n",
       "      <td>30.5</td>\n",
       "      <td>scavenged</td>\n",
       "      <td>MBM</td>\n",
       "      <td>Y</td>\n",
       "      <td>N</td>\n",
       "      <td>Y</td>\n",
       "      <td>...</td>\n",
       "      <td>3.5</td>\n",
       "      <td>45.0</td>\n",
       "      <td>NaN</td>\n",
       "      <td>NaN</td>\n",
       "      <td>2025-05-08 20:43:00</td>\n",
       "      <td>Long-Term NICU</td>\n",
       "      <td>NaN</td>\n",
       "      <td>True</td>\n",
       "      <td>NaN</td>\n",
       "      <td>True</td>\n",
       "    </tr>\n",
       "    <tr>\n",
       "      <th>4</th>\n",
       "      <td>NB00237</td>\n",
       "      <td>93.0</td>\n",
       "      <td>3380.0</td>\n",
       "      <td>46.3</td>\n",
       "      <td>30.5</td>\n",
       "      <td>scavenged</td>\n",
       "      <td>MBM</td>\n",
       "      <td>Y</td>\n",
       "      <td>N</td>\n",
       "      <td>NaN</td>\n",
       "      <td>...</td>\n",
       "      <td>8.0</td>\n",
       "      <td>NaN</td>\n",
       "      <td>NaN</td>\n",
       "      <td>05/11/2025</td>\n",
       "      <td>NaT</td>\n",
       "      <td>Long-Term NICU</td>\n",
       "      <td>NaN</td>\n",
       "      <td>True</td>\n",
       "      <td>NaN</td>\n",
       "      <td>True</td>\n",
       "    </tr>\n",
       "    <tr>\n",
       "      <th>...</th>\n",
       "      <td>...</td>\n",
       "      <td>...</td>\n",
       "      <td>...</td>\n",
       "      <td>...</td>\n",
       "      <td>...</td>\n",
       "      <td>...</td>\n",
       "      <td>...</td>\n",
       "      <td>...</td>\n",
       "      <td>...</td>\n",
       "      <td>...</td>\n",
       "      <td>...</td>\n",
       "      <td>...</td>\n",
       "      <td>...</td>\n",
       "      <td>...</td>\n",
       "      <td>...</td>\n",
       "      <td>...</td>\n",
       "      <td>...</td>\n",
       "      <td>...</td>\n",
       "      <td>...</td>\n",
       "      <td>...</td>\n",
       "      <td>...</td>\n",
       "    </tr>\n",
       "    <tr>\n",
       "      <th>136</th>\n",
       "      <td>NB00469</td>\n",
       "      <td>25.0</td>\n",
       "      <td>2040.0</td>\n",
       "      <td>42.5</td>\n",
       "      <td>30.3</td>\n",
       "      <td>scavenged</td>\n",
       "      <td>MBM</td>\n",
       "      <td>Y+Nutramigen</td>\n",
       "      <td>N</td>\n",
       "      <td>Y</td>\n",
       "      <td>...</td>\n",
       "      <td>2.3</td>\n",
       "      <td>NaN</td>\n",
       "      <td>NaN</td>\n",
       "      <td>NaN</td>\n",
       "      <td>2025-05-09 21:09:00</td>\n",
       "      <td>Acute NICU Phase</td>\n",
       "      <td>NaN</td>\n",
       "      <td>True</td>\n",
       "      <td>NaN</td>\n",
       "      <td>True</td>\n",
       "    </tr>\n",
       "    <tr>\n",
       "      <th>137</th>\n",
       "      <td>NB00486</td>\n",
       "      <td>9.0</td>\n",
       "      <td>1055.0</td>\n",
       "      <td>36.0</td>\n",
       "      <td>26.7</td>\n",
       "      <td>Scavenged</td>\n",
       "      <td>DBM</td>\n",
       "      <td>Y</td>\n",
       "      <td>NaN</td>\n",
       "      <td>NaN</td>\n",
       "      <td>...</td>\n",
       "      <td>8.0</td>\n",
       "      <td>NaN</td>\n",
       "      <td>NaN</td>\n",
       "      <td>05/13/2025</td>\n",
       "      <td>NaT</td>\n",
       "      <td>Acute NICU Phase</td>\n",
       "      <td>NaN</td>\n",
       "      <td>True</td>\n",
       "      <td>NaN</td>\n",
       "      <td>True</td>\n",
       "    </tr>\n",
       "    <tr>\n",
       "      <th>138</th>\n",
       "      <td>NB00486</td>\n",
       "      <td>9.0</td>\n",
       "      <td>1055.0</td>\n",
       "      <td>36.0</td>\n",
       "      <td>26.7</td>\n",
       "      <td>Scavenged</td>\n",
       "      <td>DBM</td>\n",
       "      <td>Y</td>\n",
       "      <td>N</td>\n",
       "      <td>N</td>\n",
       "      <td>...</td>\n",
       "      <td>1.0</td>\n",
       "      <td>NaN</td>\n",
       "      <td>NaN</td>\n",
       "      <td>NaN</td>\n",
       "      <td>NaT</td>\n",
       "      <td>Acute NICU Phase</td>\n",
       "      <td>NaN</td>\n",
       "      <td>True</td>\n",
       "      <td>NaN</td>\n",
       "      <td>True</td>\n",
       "    </tr>\n",
       "    <tr>\n",
       "      <th>139</th>\n",
       "      <td>NB00487</td>\n",
       "      <td>7.0</td>\n",
       "      <td>1940.0</td>\n",
       "      <td>44.3</td>\n",
       "      <td>29.0</td>\n",
       "      <td>Scavenged</td>\n",
       "      <td>DBM+MBM</td>\n",
       "      <td>Y</td>\n",
       "      <td>N</td>\n",
       "      <td>NaN</td>\n",
       "      <td>...</td>\n",
       "      <td>7.0</td>\n",
       "      <td>NaN</td>\n",
       "      <td>NaN</td>\n",
       "      <td>05/13/2025</td>\n",
       "      <td>NaT</td>\n",
       "      <td>Acute NICU Phase</td>\n",
       "      <td>NaN</td>\n",
       "      <td>True</td>\n",
       "      <td>NaN</td>\n",
       "      <td>True</td>\n",
       "    </tr>\n",
       "    <tr>\n",
       "      <th>140</th>\n",
       "      <td>NB00487</td>\n",
       "      <td>7.0</td>\n",
       "      <td>1940.0</td>\n",
       "      <td>44.3</td>\n",
       "      <td>29.0</td>\n",
       "      <td>Scavenged</td>\n",
       "      <td>DBM+MBM</td>\n",
       "      <td>Y</td>\n",
       "      <td>N</td>\n",
       "      <td>N</td>\n",
       "      <td>...</td>\n",
       "      <td>1.0</td>\n",
       "      <td>90.0</td>\n",
       "      <td>NaN</td>\n",
       "      <td>NaN</td>\n",
       "      <td>NaT</td>\n",
       "      <td>Acute NICU Phase</td>\n",
       "      <td>NaN</td>\n",
       "      <td>True</td>\n",
       "      <td>NaN</td>\n",
       "      <td>True</td>\n",
       "    </tr>\n",
       "  </tbody>\n",
       "</table>\n",
       "<p>141 rows × 29 columns</p>\n",
       "</div>"
      ],
      "text/plain": [
       "    Subject ID   DOL  Current Weight  Current Height  Current HC  \\\n",
       "0      NB00237  74.0          2440.0            44.0        29.0   \n",
       "1      NB00237  72.0          2350.0            43.5        28.5   \n",
       "2      NB00237  87.0          3010.0            46.1        30.0   \n",
       "3      NB00237  89.0          3110.0            46.3        30.5   \n",
       "4      NB00237  93.0          3380.0            46.3        30.5   \n",
       "..         ...   ...             ...             ...         ...   \n",
       "136    NB00469  25.0          2040.0            42.5        30.3   \n",
       "137    NB00486   9.0          1055.0            36.0        26.7   \n",
       "138    NB00486   9.0          1055.0            36.0        26.7   \n",
       "139    NB00487   7.0          1940.0            44.3        29.0   \n",
       "140    NB00487   7.0          1940.0            44.3        29.0   \n",
       "\n",
       "    Scavenged/Fresh? Type of Milk           HMF  TPN Iron  ... Aliquots  \\\n",
       "0          Scavenged          MBM             Y    N  NaN  ...     11.0   \n",
       "1          Scavenged          MBM             Y    N  NaN  ...      6.0   \n",
       "2          Scavenged          MBM             Y    N    Y  ...      2.5   \n",
       "3         scavenged           MBM             Y    N    Y  ...      3.5   \n",
       "4         scavenged           MBM             Y    N  NaN  ...      8.0   \n",
       "..               ...          ...           ...  ...  ...  ...      ...   \n",
       "136        scavenged          MBM  Y+Nutramigen    N    Y  ...      2.3   \n",
       "137        Scavenged          DBM             Y  NaN  NaN  ...      8.0   \n",
       "138        Scavenged          DBM             Y    N    N  ...      1.0   \n",
       "139        Scavenged      DBM+MBM             Y    N  NaN  ...      7.0   \n",
       "140        Scavenged      DBM+MBM             Y    N    N  ...      1.0   \n",
       "\n",
       "    Duration_Feed DOL at Iron Feed Milk Prepped Time       Iron DateTime  \\\n",
       "0             NaN              NaN        04/22/2025                 NaT   \n",
       "1             NaN              NaN        04/20/2025                 NaT   \n",
       "2             NaN              NaN               NaN 2025-05-06 20:57:00   \n",
       "3            45.0              NaN               NaN 2025-05-08 20:43:00   \n",
       "4             NaN              NaN        05/11/2025                 NaT   \n",
       "..            ...              ...               ...                 ...   \n",
       "136           NaN              NaN               NaN 2025-05-09 21:09:00   \n",
       "137           NaN              NaN        05/13/2025                 NaT   \n",
       "138           NaN              NaN               NaN                 NaT   \n",
       "139           NaN              NaN        05/13/2025                 NaT   \n",
       "140          90.0              NaN               NaN                 NaT   \n",
       "\n",
       "            DOL Category DOL at Collection (Numeric)  \\\n",
       "0    Extended NICU Phase                        21.0   \n",
       "1    Extended NICU Phase                         NaN   \n",
       "2         Long-Term NICU                         NaN   \n",
       "3         Long-Term NICU                         NaN   \n",
       "4         Long-Term NICU                         NaN   \n",
       "..                   ...                         ...   \n",
       "136     Acute NICU Phase                         NaN   \n",
       "137     Acute NICU Phase                         NaN   \n",
       "138     Acute NICU Phase                         NaN   \n",
       "139     Acute NICU Phase                         NaN   \n",
       "140     Acute NICU Phase                         NaN   \n",
       "\n",
       "     DOL Collection Discrepancy Flag DOL at Iron Feed (Numeric)  \\\n",
       "0                               True                        NaN   \n",
       "1                               True                        NaN   \n",
       "2                               True                        NaN   \n",
       "3                               True                        NaN   \n",
       "4                               True                        NaN   \n",
       "..                               ...                        ...   \n",
       "136                             True                        NaN   \n",
       "137                             True                        NaN   \n",
       "138                             True                        NaN   \n",
       "139                             True                        NaN   \n",
       "140                             True                        NaN   \n",
       "\n",
       "     Iron DOL Discrepancy Flag  \n",
       "0                         True  \n",
       "1                         True  \n",
       "2                         True  \n",
       "3                         True  \n",
       "4                         True  \n",
       "..                         ...  \n",
       "136                       True  \n",
       "137                       True  \n",
       "138                       True  \n",
       "139                       True  \n",
       "140                       True  \n",
       "\n",
       "[141 rows x 29 columns]"
      ]
     },
     "execution_count": 50,
     "metadata": {},
     "output_type": "execute_result"
    }
   ],
   "source": [
    "df_clean"
   ]
  },
  {
   "cell_type": "code",
   "execution_count": 51,
   "id": "47defe33",
   "metadata": {},
   "outputs": [],
   "source": [
    "df_clean.to_excel(\"~/Desktop/NICU/Linked Metadata/cleaned_nicu_data.xlsx\", index=False)  # macOS/Linux\n"
   ]
  },
  {
   "cell_type": "markdown",
   "id": "20daab8d",
   "metadata": {},
   "source": [
    "### ** Still Need to Convert to Datetime Format & Fix those that are fed in the PM"
   ]
  },
  {
   "cell_type": "markdown",
   "id": "f6ba4da0",
   "metadata": {},
   "source": [
    "### Column Renaming\n"
   ]
  },
  {
   "cell_type": "code",
   "execution_count": null,
   "id": "e7ef8837",
   "metadata": {},
   "outputs": [],
   "source": [
    "df.columns"
   ]
  },
  {
   "cell_type": "markdown",
   "id": "efdb2cac",
   "metadata": {},
   "source": [
    "### Preliminary Graphs"
   ]
  },
  {
   "cell_type": "markdown",
   "id": "34466f4c",
   "metadata": {},
   "source": [
    "# to do\n",
    "* clean up columns that have entry errors or differences in nomenclature\n",
    "* convert feeding time to datetime format\n",
    "* convert iron date to datetime format\n",
    "* clean the # Aliquot colunmn\n",
    "* clean \"Duration\" column\n",
    "...."
   ]
  },
  {
   "cell_type": "code",
   "execution_count": null,
   "id": "b7ec5a5d",
   "metadata": {},
   "outputs": [],
   "source": [
    "# Show rows where DOL and DOL at Collection differ\n",
    "df_check = df[[\"Subject ID\", \"Collection date/aliquot time for all samples\", \"DOL\", \"DOL at Collection\"]].copy()\n",
    "df_check[\"Match\"] = df_check[\"DOL\"] == df_check[\"DOL at Collection\"]\n",
    "\n",
    "# Show mismatched rows\n",
    "df_check[~df_check[\"Match\"]].head(5)\n"
   ]
  },
  {
   "cell_type": "code",
   "execution_count": null,
   "id": "ccfad330",
   "metadata": {},
   "outputs": [],
   "source": [
    "# Strip and extract the number from the string (e.g., \"DOL 74\" → 74)\n",
    "df[\"DOL at Collection (Numeric)\"] = df[\"DOL at Collection\"].str.extract(r'(\\d{1,3})').astype(float)\n",
    "\n",
    "# Recheck the match\n",
    "df[\"Match\"] = df[\"DOL\"] == df[\"DOL at Collection (Numeric)\"]"
   ]
  },
  {
   "cell_type": "code",
   "execution_count": null,
   "id": "564ba0c7",
   "metadata": {},
   "outputs": [],
   "source": [
    "df.Match.value_counts()"
   ]
  }
 ],
 "metadata": {
  "kernelspec": {
   "display_name": "base",
   "language": "python",
   "name": "python3"
  },
  "language_info": {
   "codemirror_mode": {
    "name": "ipython",
    "version": 3
   },
   "file_extension": ".py",
   "mimetype": "text/x-python",
   "name": "python",
   "nbconvert_exporter": "python",
   "pygments_lexer": "ipython3",
   "version": "3.12.7"
  }
 },
 "nbformat": 4,
 "nbformat_minor": 5
}
