{
 "cells": [
  {
   "cell_type": "code",
   "execution_count": 1,
   "id": "083e49be",
   "metadata": {},
   "outputs": [],
   "source": [
    "import pandas as pd"
   ]
  },
  {
   "cell_type": "code",
   "execution_count": 2,
   "id": "809708eb",
   "metadata": {},
   "outputs": [],
   "source": [
    "# Updated column descriptions again after reset\n",
    "column_descriptions = {\n",
    "    \"Subject ID\": \"Unique identifier for each infant enrolled in the study.\",\n",
    "    \"DOL\": \"Day of Life at the time of sampling.\",\n",
    "    \"Current Weight\": \"Infant's weight (in grams) at the time of data collection.\",\n",
    "    \"Current Height\": \"Infant's length (in cm) at the time of data collection.\",\n",
    "    \"Current HC\": \"Infant's head circumference (in cm) at the time of data collection.\",\n",
    "    \"Scavenged/Fresh?\": \"Indicates whether the milk sample was scavenged from a feeding tube after administration or was freshly prepared milk before feeding.\",\n",
    "    \"Type of Milk\": \"Milk type at time of feeding (e.g., MBM, DBM, or mixed).\",\n",
    "    \"HMF\": \"Whether human milk fortifier was given (Yes/No).\",\n",
    "    \"TPN\": \"Whether total parenteral nutrition was being administered (Yes/No).\",\n",
    "    \"Iron\": \"Whether iron supplementation was administered (Yes/No).\",\n",
    "    \"Linked\": \"Whether the sample is linked to a particular reference or ID set.\",\n",
    "    \"Additional Comments\": \"Free-text notes about how the sample was collected (e.g., residual, scavenged, tube).\",\n",
    "    \"Milk Prep Room Expiration Date & Time\": \"Time by which prepped milk should be discarded, if unused.\",\n",
    "    \"DOL at Collection\": \"Day of Life at time of sample collection.\",\n",
    "    \"Collection Date/Time\": \"Date and time the sample was collected, cleaned and formatted.\",\n",
    "    \"DOL at Feeding Time\": \"Day of Life at the time the infant was fed.\",\n",
    "    \"Feeding Time Period\": \"AM/PM flag inferred from the original feeding time entry.\",\n",
    "    \"Is Prepped\": \"True if the original entry included the word 'prepped', indicating this refers to prep time rather than feed time.\",\n",
    "    \"Feeding Time (Final)\": \"Datetime of when feeding actually occurred (excluding prepped entries); precise time when available.\",\n",
    "    \"Aliquots\": \"Number of aliquots obtained from the sample, cleaned as a float.\",\n",
    "    \"Duration_Feed\": \"Duration of the feeding event in minutes (cleaned).\",\n",
    "    \"DOL at Iron Feed\": \"Day of Life at time of iron administration.\",\n",
    "    \"Milk Prepped Time\": \"Datetime representing when the milk was prepped, based on 'prepped' entries.\",\n",
    "    \"Iron DateTime\": \"Datetime of iron supplementation when available and parseable.\"\n",
    "}"
   ]
  },
  {
   "cell_type": "code",
   "execution_count": 4,
   "id": "e9ecde8a",
   "metadata": {},
   "outputs": [],
   "source": [
    "# Convert to DataFrame\n",
    "description_df = pd.DataFrame.from_dict(column_descriptions, orient='index', columns=['Description'])\n",
    "\n",
    "# Save to Excel\n",
    "description_df.to_excel(\"~/Desktop/nicu_column_descriptions.xlsx\", sheet_name=\"Column Descriptions\")"
   ]
  },
  {
   "cell_type": "code",
   "execution_count": 5,
   "id": "beebbdfd",
   "metadata": {},
   "outputs": [
    {
     "data": {
      "application/vnd.microsoft.datawrangler.viewer.v0+json": {
       "columns": [
        {
         "name": "index",
         "rawType": "object",
         "type": "string"
        },
        {
         "name": "Description",
         "rawType": "object",
         "type": "string"
        }
       ],
       "ref": "6c43d2a2-2b29-456c-a55f-1dad41791033",
       "rows": [
        [
         "Subject ID",
         "Unique identifier for each infant enrolled in the study."
        ],
        [
         "DOL",
         "Day of Life at the time of sampling."
        ],
        [
         "Current Weight",
         "Infant's weight (in grams) at the time of data collection."
        ],
        [
         "Current Height",
         "Infant's length (in cm) at the time of data collection."
        ],
        [
         "Current HC",
         "Infant's head circumference (in cm) at the time of data collection."
        ],
        [
         "Scavenged/Fresh?",
         "Indicates whether the milk sample was scavenged from a feeding tube after administration or was freshly prepared milk before feeding."
        ],
        [
         "Type of Milk",
         "Milk type at time of feeding (e.g., MBM, DBM, or mixed)."
        ],
        [
         "HMF",
         "Whether human milk fortifier was given (Yes/No)."
        ],
        [
         "TPN",
         "Whether total parenteral nutrition was being administered (Yes/No)."
        ],
        [
         "Iron",
         "Whether iron supplementation was administered (Yes/No)."
        ],
        [
         "Linked",
         "Whether the sample is linked to a particular reference or ID set."
        ],
        [
         "Additional Comments",
         "Free-text notes about how the sample was collected (e.g., residual, scavenged, tube)."
        ],
        [
         "Milk Prep Room Expiration Date & Time",
         "Time by which prepped milk should be discarded, if unused."
        ],
        [
         "DOL at Collection",
         "Day of Life at time of sample collection."
        ],
        [
         "Collection Date/Time",
         "Date and time the sample was collected, cleaned and formatted."
        ],
        [
         "DOL at Feeding Time",
         "Day of Life at the time the infant was fed."
        ],
        [
         "Feeding Time Period",
         "AM/PM flag inferred from the original feeding time entry."
        ],
        [
         "Is Prepped",
         "True if the original entry included the word 'prepped', indicating this refers to prep time rather than feed time."
        ],
        [
         "Feeding Time (Final)",
         "Datetime of when feeding actually occurred (excluding prepped entries); precise time when available."
        ],
        [
         "Aliquots",
         "Number of aliquots obtained from the sample, cleaned as a float."
        ],
        [
         "Duration_Feed",
         "Duration of the feeding event in minutes (cleaned)."
        ],
        [
         "DOL at Iron Feed",
         "Day of Life at time of iron administration."
        ],
        [
         "Milk Prepped Time",
         "Datetime representing when the milk was prepped, based on 'prepped' entries."
        ],
        [
         "Iron DateTime",
         "Datetime of iron supplementation when available and parseable."
        ]
       ],
       "shape": {
        "columns": 1,
        "rows": 24
       }
      },
      "text/html": [
       "<div>\n",
       "<style scoped>\n",
       "    .dataframe tbody tr th:only-of-type {\n",
       "        vertical-align: middle;\n",
       "    }\n",
       "\n",
       "    .dataframe tbody tr th {\n",
       "        vertical-align: top;\n",
       "    }\n",
       "\n",
       "    .dataframe thead th {\n",
       "        text-align: right;\n",
       "    }\n",
       "</style>\n",
       "<table border=\"1\" class=\"dataframe\">\n",
       "  <thead>\n",
       "    <tr style=\"text-align: right;\">\n",
       "      <th></th>\n",
       "      <th>Description</th>\n",
       "    </tr>\n",
       "  </thead>\n",
       "  <tbody>\n",
       "    <tr>\n",
       "      <th>Subject ID</th>\n",
       "      <td>Unique identifier for each infant enrolled in ...</td>\n",
       "    </tr>\n",
       "    <tr>\n",
       "      <th>DOL</th>\n",
       "      <td>Day of Life at the time of sampling.</td>\n",
       "    </tr>\n",
       "    <tr>\n",
       "      <th>Current Weight</th>\n",
       "      <td>Infant's weight (in grams) at the time of data...</td>\n",
       "    </tr>\n",
       "    <tr>\n",
       "      <th>Current Height</th>\n",
       "      <td>Infant's length (in cm) at the time of data co...</td>\n",
       "    </tr>\n",
       "    <tr>\n",
       "      <th>Current HC</th>\n",
       "      <td>Infant's head circumference (in cm) at the tim...</td>\n",
       "    </tr>\n",
       "    <tr>\n",
       "      <th>Scavenged/Fresh?</th>\n",
       "      <td>Indicates whether the milk sample was scavenge...</td>\n",
       "    </tr>\n",
       "    <tr>\n",
       "      <th>Type of Milk</th>\n",
       "      <td>Milk type at time of feeding (e.g., MBM, DBM, ...</td>\n",
       "    </tr>\n",
       "    <tr>\n",
       "      <th>HMF</th>\n",
       "      <td>Whether human milk fortifier was given (Yes/No).</td>\n",
       "    </tr>\n",
       "    <tr>\n",
       "      <th>TPN</th>\n",
       "      <td>Whether total parenteral nutrition was being a...</td>\n",
       "    </tr>\n",
       "    <tr>\n",
       "      <th>Iron</th>\n",
       "      <td>Whether iron supplementation was administered ...</td>\n",
       "    </tr>\n",
       "    <tr>\n",
       "      <th>Linked</th>\n",
       "      <td>Whether the sample is linked to a particular r...</td>\n",
       "    </tr>\n",
       "    <tr>\n",
       "      <th>Additional Comments</th>\n",
       "      <td>Free-text notes about how the sample was colle...</td>\n",
       "    </tr>\n",
       "    <tr>\n",
       "      <th>Milk Prep Room Expiration Date &amp; Time</th>\n",
       "      <td>Time by which prepped milk should be discarded...</td>\n",
       "    </tr>\n",
       "    <tr>\n",
       "      <th>DOL at Collection</th>\n",
       "      <td>Day of Life at time of sample collection.</td>\n",
       "    </tr>\n",
       "    <tr>\n",
       "      <th>Collection Date/Time</th>\n",
       "      <td>Date and time the sample was collected, cleane...</td>\n",
       "    </tr>\n",
       "    <tr>\n",
       "      <th>DOL at Feeding Time</th>\n",
       "      <td>Day of Life at the time the infant was fed.</td>\n",
       "    </tr>\n",
       "    <tr>\n",
       "      <th>Feeding Time Period</th>\n",
       "      <td>AM/PM flag inferred from the original feeding ...</td>\n",
       "    </tr>\n",
       "    <tr>\n",
       "      <th>Is Prepped</th>\n",
       "      <td>True if the original entry included the word '...</td>\n",
       "    </tr>\n",
       "    <tr>\n",
       "      <th>Feeding Time (Final)</th>\n",
       "      <td>Datetime of when feeding actually occurred (ex...</td>\n",
       "    </tr>\n",
       "    <tr>\n",
       "      <th>Aliquots</th>\n",
       "      <td>Number of aliquots obtained from the sample, c...</td>\n",
       "    </tr>\n",
       "    <tr>\n",
       "      <th>Duration_Feed</th>\n",
       "      <td>Duration of the feeding event in minutes (clea...</td>\n",
       "    </tr>\n",
       "    <tr>\n",
       "      <th>DOL at Iron Feed</th>\n",
       "      <td>Day of Life at time of iron administration.</td>\n",
       "    </tr>\n",
       "    <tr>\n",
       "      <th>Milk Prepped Time</th>\n",
       "      <td>Datetime representing when the milk was preppe...</td>\n",
       "    </tr>\n",
       "    <tr>\n",
       "      <th>Iron DateTime</th>\n",
       "      <td>Datetime of iron supplementation when availabl...</td>\n",
       "    </tr>\n",
       "  </tbody>\n",
       "</table>\n",
       "</div>"
      ],
      "text/plain": [
       "                                                                             Description\n",
       "Subject ID                             Unique identifier for each infant enrolled in ...\n",
       "DOL                                                 Day of Life at the time of sampling.\n",
       "Current Weight                         Infant's weight (in grams) at the time of data...\n",
       "Current Height                         Infant's length (in cm) at the time of data co...\n",
       "Current HC                             Infant's head circumference (in cm) at the tim...\n",
       "Scavenged/Fresh?                       Indicates whether the milk sample was scavenge...\n",
       "Type of Milk                           Milk type at time of feeding (e.g., MBM, DBM, ...\n",
       "HMF                                     Whether human milk fortifier was given (Yes/No).\n",
       "TPN                                    Whether total parenteral nutrition was being a...\n",
       "Iron                                   Whether iron supplementation was administered ...\n",
       "Linked                                 Whether the sample is linked to a particular r...\n",
       "Additional Comments                    Free-text notes about how the sample was colle...\n",
       "Milk Prep Room Expiration Date & Time  Time by which prepped milk should be discarded...\n",
       "DOL at Collection                              Day of Life at time of sample collection.\n",
       "Collection Date/Time                   Date and time the sample was collected, cleane...\n",
       "DOL at Feeding Time                          Day of Life at the time the infant was fed.\n",
       "Feeding Time Period                    AM/PM flag inferred from the original feeding ...\n",
       "Is Prepped                             True if the original entry included the word '...\n",
       "Feeding Time (Final)                   Datetime of when feeding actually occurred (ex...\n",
       "Aliquots                               Number of aliquots obtained from the sample, c...\n",
       "Duration_Feed                          Duration of the feeding event in minutes (clea...\n",
       "DOL at Iron Feed                             Day of Life at time of iron administration.\n",
       "Milk Prepped Time                      Datetime representing when the milk was preppe...\n",
       "Iron DateTime                          Datetime of iron supplementation when availabl..."
      ]
     },
     "execution_count": 5,
     "metadata": {},
     "output_type": "execute_result"
    }
   ],
   "source": [
    "description_df"
   ]
  }
 ],
 "metadata": {
  "kernelspec": {
   "display_name": "base",
   "language": "python",
   "name": "python3"
  },
  "language_info": {
   "codemirror_mode": {
    "name": "ipython",
    "version": 3
   },
   "file_extension": ".py",
   "mimetype": "text/x-python",
   "name": "python",
   "nbconvert_exporter": "python",
   "pygments_lexer": "ipython3",
   "version": "3.12.7"
  }
 },
 "nbformat": 4,
 "nbformat_minor": 5
}
